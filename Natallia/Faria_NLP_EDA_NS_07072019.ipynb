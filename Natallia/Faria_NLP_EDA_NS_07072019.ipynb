{
 "cells": [
  {
   "cell_type": "code",
   "execution_count": 2,
   "metadata": {},
   "outputs": [
    {
     "data": {
      "text/html": [
       "<style>.container { width:100% !important; }</style>"
      ],
      "text/plain": [
       "<IPython.core.display.HTML object>"
      ]
     },
     "metadata": {},
     "output_type": "display_data"
    }
   ],
   "source": [
    "# increase cell width\n",
    "from IPython.core.display import display, HTML\n",
    "display(HTML(\"<style>.container { width:100% !important; }</style>\"))"
   ]
  },
  {
   "cell_type": "code",
   "execution_count": 3,
   "metadata": {},
   "outputs": [],
   "source": [
    "from __future__ import absolute_import\n",
    "from __future__ import division\n",
    "from __future__ import print_function\n",
    "\n",
    "import os\n",
    "import random\n",
    "import time\n",
    "import pickle\n",
    "import gc\n",
    "import re\n",
    "\n",
    "import numpy as np\n",
    "import pandas as pd\n",
    "\n",
    "from importlib import reload"
   ]
  },
  {
   "cell_type": "code",
   "execution_count": 4,
   "metadata": {},
   "outputs": [],
   "source": [
    "import seaborn as sns"
   ]
  },
  {
   "cell_type": "code",
   "execution_count": 5,
   "metadata": {},
   "outputs": [
    {
     "data": {
      "text/plain": [
       "'1.13.1'"
      ]
     },
     "execution_count": 5,
     "metadata": {},
     "output_type": "execute_result"
    }
   ],
   "source": [
    "import tensorflow as tf\n",
    "tf.__version__"
   ]
  },
  {
   "cell_type": "markdown",
   "metadata": {},
   "source": [
    "## Load the data"
   ]
  },
  {
   "cell_type": "code",
   "execution_count": 12,
   "metadata": {
    "scrolled": true
   },
   "outputs": [
    {
     "data": {
      "text/html": [
       "<div>\n",
       "<style scoped>\n",
       "    .dataframe tbody tr th:only-of-type {\n",
       "        vertical-align: middle;\n",
       "    }\n",
       "\n",
       "    .dataframe tbody tr th {\n",
       "        vertical-align: top;\n",
       "    }\n",
       "\n",
       "    .dataframe thead th {\n",
       "        text-align: right;\n",
       "    }\n",
       "</style>\n",
       "<table border=\"1\" class=\"dataframe\">\n",
       "  <thead>\n",
       "    <tr style=\"text-align: right;\">\n",
       "      <th></th>\n",
       "      <th>Personality</th>\n",
       "      <th>username</th>\n",
       "      <th>user_id</th>\n",
       "      <th>tweets</th>\n",
       "      <th>followers_count</th>\n",
       "      <th>image</th>\n",
       "    </tr>\n",
       "  </thead>\n",
       "  <tbody>\n",
       "    <tr>\n",
       "      <th>0</th>\n",
       "      <td>enfj</td>\n",
       "      <td>pr3achlikeagirl</td>\n",
       "      <td>2.310891e+09</td>\n",
       "      <td>['God is on the move!', 'Stop telling God what...</td>\n",
       "      <td>67</td>\n",
       "      <td>http://pbs.twimg.com/profile_images/1090079036...</td>\n",
       "    </tr>\n",
       "    <tr>\n",
       "      <th>1</th>\n",
       "      <td>enfj</td>\n",
       "      <td>ChurchTherapist</td>\n",
       "      <td>8.606921e+08</td>\n",
       "      <td>['@user It describes anxious attachment as opp...</td>\n",
       "      <td>1841</td>\n",
       "      <td>http://pbs.twimg.com/profile_images/1033441323...</td>\n",
       "    </tr>\n",
       "    <tr>\n",
       "      <th>2</th>\n",
       "      <td>enfj</td>\n",
       "      <td>camperry21</td>\n",
       "      <td>2.653982e+07</td>\n",
       "      <td>[\"@user @user He ain't winning with the Clippe...</td>\n",
       "      <td>1240</td>\n",
       "      <td>http://pbs.twimg.com/profile_images/1078547897...</td>\n",
       "    </tr>\n",
       "    <tr>\n",
       "      <th>3</th>\n",
       "      <td>enfj</td>\n",
       "      <td>galaxiaskykloz</td>\n",
       "      <td>2.268542e+09</td>\n",
       "      <td>['does anyone remember poopreport dot com', '@...</td>\n",
       "      <td>2227</td>\n",
       "      <td>http://pbs.twimg.com/profile_images/1001856767...</td>\n",
       "    </tr>\n",
       "    <tr>\n",
       "      <th>4</th>\n",
       "      <td>enfj</td>\n",
       "      <td>sarahyoung_esq</td>\n",
       "      <td>1.090463e+18</td>\n",
       "      <td>['MeatPotatoesNBeans ', 'THE LITTLE BLEP TONGU...</td>\n",
       "      <td>76</td>\n",
       "      <td>http://pbs.twimg.com/profile_images/1090465009...</td>\n",
       "    </tr>\n",
       "  </tbody>\n",
       "</table>\n",
       "</div>"
      ],
      "text/plain": [
       "  Personality         username       user_id  \\\n",
       "0        enfj  pr3achlikeagirl  2.310891e+09   \n",
       "1        enfj  ChurchTherapist  8.606921e+08   \n",
       "2        enfj       camperry21  2.653982e+07   \n",
       "3        enfj   galaxiaskykloz  2.268542e+09   \n",
       "4        enfj   sarahyoung_esq  1.090463e+18   \n",
       "\n",
       "                                              tweets  followers_count  \\\n",
       "0  ['God is on the move!', 'Stop telling God what...               67   \n",
       "1  ['@user It describes anxious attachment as opp...             1841   \n",
       "2  [\"@user @user He ain't winning with the Clippe...             1240   \n",
       "3  ['does anyone remember poopreport dot com', '@...             2227   \n",
       "4  ['MeatPotatoesNBeans ', 'THE LITTLE BLEP TONGU...               76   \n",
       "\n",
       "                                               image  \n",
       "0  http://pbs.twimg.com/profile_images/1090079036...  \n",
       "1  http://pbs.twimg.com/profile_images/1033441323...  \n",
       "2  http://pbs.twimg.com/profile_images/1078547897...  \n",
       "3  http://pbs.twimg.com/profile_images/1001856767...  \n",
       "4  http://pbs.twimg.com/profile_images/1090465009...  "
      ]
     },
     "execution_count": 12,
     "metadata": {},
     "output_type": "execute_result"
    }
   ],
   "source": [
    "main_dir = '/Users/Natallia/Documents/R/W210_capstone/Project'\n",
    "data_path = \"/Users/Natallia/Documents/R/W210_capstone/Project/personalities_FINAL.csv\"\n",
    "df = pd.read_csv(data_path)\n",
    "df.head()"
   ]
  },
  {
   "cell_type": "code",
   "execution_count": 13,
   "metadata": {},
   "outputs": [
    {
     "data": {
      "text/plain": [
       "(175, 6)"
      ]
     },
     "execution_count": 13,
     "metadata": {},
     "output_type": "execute_result"
    }
   ],
   "source": [
    "df.shape"
   ]
  },
  {
   "cell_type": "code",
   "execution_count": 14,
   "metadata": {},
   "outputs": [
    {
     "data": {
      "text/plain": [
       "<matplotlib.axes._subplots.AxesSubplot at 0x1a408b5940>"
      ]
     },
     "execution_count": 14,
     "metadata": {},
     "output_type": "execute_result"
    },
    {
     "data": {
      "image/png": "[encoded data removed]",
      "text/plain": [
       "<Figure size 432x288 with 2 Axes>"
      ]
     },
     "metadata": {
      "needs_background": "light"
     },
     "output_type": "display_data"
    }
   ],
   "source": [
    "sns.heatmap(df.isna(),cmap = 'viridis')"
   ]
  },
  {
   "cell_type": "code",
   "execution_count": 15,
   "metadata": {},
   "outputs": [],
   "source": [
    "#df.iloc[0,3]"
   ]
  },
  {
   "cell_type": "markdown",
   "metadata": {},
   "source": [
    "# Data checking, cleaning"
   ]
  },
  {
   "cell_type": "code",
   "execution_count": 16,
   "metadata": {},
   "outputs": [
    {
     "data": {
      "text/plain": [
       "175"
      ]
     },
     "execution_count": 16,
     "metadata": {},
     "output_type": "execute_result"
    }
   ],
   "source": [
    "len(df)"
   ]
  },
  {
   "cell_type": "code",
   "execution_count": 17,
   "metadata": {},
   "outputs": [
    {
     "name": "stdout",
     "output_type": "stream",
     "text": [
      "['enfj' 'enfp' 'entj' 'entp' 'infj' 'infp' 'intj' 'intp' 'isfp' 'istj'\n",
      " 'istp' 'estj' 'isfj']\n"
     ]
    }
   ],
   "source": [
    "# Check that all personality types are coming through correctly\n",
    "personality_types = df.Personality.unique()\n",
    "print(personality_types)"
   ]
  },
  {
   "cell_type": "code",
   "execution_count": 18,
   "metadata": {},
   "outputs": [
    {
     "data": {
      "text/plain": [
       "13"
      ]
     },
     "execution_count": 18,
     "metadata": {},
     "output_type": "execute_result"
    }
   ],
   "source": [
    "len(personality_types)"
   ]
  },
  {
   "cell_type": "markdown",
   "metadata": {},
   "source": [
    "### We are missing 3 personality types: \"esfj\", \"esfp\", \"estp\"."
   ]
  },
  {
   "cell_type": "code",
   "execution_count": 19,
   "metadata": {},
   "outputs": [
    {
     "data": {
      "text/plain": [
       "149"
      ]
     },
     "execution_count": 19,
     "metadata": {},
     "output_type": "execute_result"
    }
   ],
   "source": [
    "len(df.username.unique())"
   ]
  },
  {
   "cell_type": "code",
   "execution_count": 20,
   "metadata": {},
   "outputs": [
    {
     "data": {
      "text/plain": [
       "148"
      ]
     },
     "execution_count": 20,
     "metadata": {},
     "output_type": "execute_result"
    }
   ],
   "source": [
    "len(df.user_id.unique())"
   ]
  },
  {
   "cell_type": "code",
   "execution_count": 21,
   "metadata": {},
   "outputs": [],
   "source": [
    "duplicate_user_ids = df.duplicated(subset=\"user_id\")\n",
    "duplicate_usernames = df.duplicated(subset=\"username\")"
   ]
  },
  {
   "cell_type": "code",
   "execution_count": 22,
   "metadata": {},
   "outputs": [],
   "source": [
    "duplicate_user_ids = (duplicate_user_ids[duplicate_user_ids==True])\n",
    "duplicate_usernames = (duplicate_usernames[duplicate_usernames==True])"
   ]
  },
  {
   "cell_type": "code",
   "execution_count": 23,
   "metadata": {},
   "outputs": [
    {
     "data": {
      "text/plain": [
       "27"
      ]
     },
     "execution_count": 23,
     "metadata": {},
     "output_type": "execute_result"
    }
   ],
   "source": [
    "len(duplicate_user_ids)"
   ]
  },
  {
   "cell_type": "code",
   "execution_count": 24,
   "metadata": {},
   "outputs": [
    {
     "data": {
      "text/plain": [
       "26"
      ]
     },
     "execution_count": 24,
     "metadata": {},
     "output_type": "execute_result"
    }
   ],
   "source": [
    "len(duplicate_usernames)"
   ]
  },
  {
   "cell_type": "code",
   "execution_count": 25,
   "metadata": {},
   "outputs": [
    {
     "data": {
      "text/plain": [
       "22     True\n",
       "50     True\n",
       "51     True\n",
       "61     True\n",
       "73     True\n",
       "74     True\n",
       "79     True\n",
       "92     True\n",
       "93     True\n",
       "94     True\n",
       "98     True\n",
       "99     True\n",
       "104    True\n",
       "108    True\n",
       "112    True\n",
       "116    True\n",
       "120    True\n",
       "125    True\n",
       "133    True\n",
       "136    True\n",
       "149    True\n",
       "153    True\n",
       "159    True\n",
       "165    True\n",
       "166    True\n",
       "167    True\n",
       "172    True\n",
       "dtype: bool"
      ]
     },
     "execution_count": 25,
     "metadata": {},
     "output_type": "execute_result"
    }
   ],
   "source": [
    "duplicate_user_ids"
   ]
  },
  {
   "cell_type": "code",
   "execution_count": 26,
   "metadata": {},
   "outputs": [
    {
     "data": {
      "text/plain": [
       "22     True\n",
       "50     True\n",
       "51     True\n",
       "73     True\n",
       "74     True\n",
       "79     True\n",
       "92     True\n",
       "93     True\n",
       "94     True\n",
       "98     True\n",
       "99     True\n",
       "104    True\n",
       "108    True\n",
       "112    True\n",
       "116    True\n",
       "120    True\n",
       "125    True\n",
       "133    True\n",
       "136    True\n",
       "149    True\n",
       "153    True\n",
       "159    True\n",
       "165    True\n",
       "166    True\n",
       "167    True\n",
       "172    True\n",
       "dtype: bool"
      ]
     },
     "execution_count": 26,
     "metadata": {},
     "output_type": "execute_result"
    }
   ],
   "source": [
    "duplicate_usernames"
   ]
  },
  {
   "cell_type": "code",
   "execution_count": 27,
   "metadata": {},
   "outputs": [
    {
     "data": {
      "text/plain": [
       "8.721172740769505e+17"
      ]
     },
     "execution_count": 27,
     "metadata": {},
     "output_type": "execute_result"
    }
   ],
   "source": [
    "#example of repeat usernames\n",
    "df.iloc[50,2]"
   ]
  },
  {
   "cell_type": "code",
   "execution_count": 28,
   "metadata": {},
   "outputs": [
    {
     "name": "stdout",
     "output_type": "stream",
     "text": [
      "    Personality username       user_id  \\\n",
      "45         intj  TIL_ayg  8.721173e+17   \n",
      "50         intj  TIL_ayg  8.721173e+17   \n",
      "51         intj  TIL_ayg  8.721173e+17   \n",
      "108        intj  TIL_ayg  8.721173e+17   \n",
      "\n",
      "                                                tweets  followers_count  \\\n",
      "45   ['does anyone remember poopreport dot com', '@...             1816   \n",
      "50   ['@user Oh no!  Are you ok?', '@user Wow!  Wha...             1816   \n",
      "51   ['@user Good that you shared this online. Very...             1816   \n",
      "108  ['', '', \"Woke up and realized am okay. Okay t...             1807   \n",
      "\n",
      "                                                 image  \n",
      "45   http://pbs.twimg.com/profile_images/1065646698...  \n",
      "50   http://pbs.twimg.com/profile_images/1065646698...  \n",
      "51   http://pbs.twimg.com/profile_images/1065646698...  \n",
      "108  http://pbs.twimg.com/profile_images/1065646698...  \n"
     ]
    }
   ],
   "source": [
    "user_50 = df[df.user_id == 8.721172740769505e+17]\n",
    "print(user_50)"
   ]
  },
  {
   "cell_type": "markdown",
   "metadata": {},
   "source": [
    "### 26 users are repeated in the dataset"
   ]
  },
  {
   "cell_type": "code",
   "execution_count": 29,
   "metadata": {},
   "outputs": [],
   "source": [
    "# Remove repeated users in dataframe\n",
    "\n",
    "df = df.drop_duplicates(subset=\"username\", keep=\"last\")"
   ]
  },
  {
   "cell_type": "code",
   "execution_count": 30,
   "metadata": {},
   "outputs": [
    {
     "data": {
      "text/plain": [
       "149"
      ]
     },
     "execution_count": 30,
     "metadata": {},
     "output_type": "execute_result"
    }
   ],
   "source": [
    "len(df)"
   ]
  },
  {
   "cell_type": "markdown",
   "metadata": {},
   "source": [
    "## Converting Tweets to List"
   ]
  },
  {
   "cell_type": "code",
   "execution_count": 31,
   "metadata": {},
   "outputs": [
    {
     "data": {
      "text/html": [
       "<div>\n",
       "<style scoped>\n",
       "    .dataframe tbody tr th:only-of-type {\n",
       "        vertical-align: middle;\n",
       "    }\n",
       "\n",
       "    .dataframe tbody tr th {\n",
       "        vertical-align: top;\n",
       "    }\n",
       "\n",
       "    .dataframe thead th {\n",
       "        text-align: right;\n",
       "    }\n",
       "</style>\n",
       "<table border=\"1\" class=\"dataframe\">\n",
       "  <thead>\n",
       "    <tr style=\"text-align: right;\">\n",
       "      <th></th>\n",
       "      <th>Personality</th>\n",
       "      <th>username</th>\n",
       "      <th>user_id</th>\n",
       "      <th>tweets</th>\n",
       "      <th>followers_count</th>\n",
       "      <th>image</th>\n",
       "    </tr>\n",
       "  </thead>\n",
       "  <tbody>\n",
       "    <tr>\n",
       "      <th>2</th>\n",
       "      <td>enfj</td>\n",
       "      <td>camperry21</td>\n",
       "      <td>2.653982e+07</td>\n",
       "      <td>[\"@user @user He ain't winning with the Clippe...</td>\n",
       "      <td>1240</td>\n",
       "      <td>http://pbs.twimg.com/profile_images/1078547897...</td>\n",
       "    </tr>\n",
       "    <tr>\n",
       "      <th>3</th>\n",
       "      <td>enfj</td>\n",
       "      <td>galaxiaskykloz</td>\n",
       "      <td>2.268542e+09</td>\n",
       "      <td>['does anyone remember poopreport dot com', '@...</td>\n",
       "      <td>2227</td>\n",
       "      <td>http://pbs.twimg.com/profile_images/1001856767...</td>\n",
       "    </tr>\n",
       "    <tr>\n",
       "      <th>4</th>\n",
       "      <td>enfj</td>\n",
       "      <td>sarahyoung_esq</td>\n",
       "      <td>1.090463e+18</td>\n",
       "      <td>['MeatPotatoesNBeans ', 'THE LITTLE BLEP TONGU...</td>\n",
       "      <td>76</td>\n",
       "      <td>http://pbs.twimg.com/profile_images/1090465009...</td>\n",
       "    </tr>\n",
       "    <tr>\n",
       "      <th>5</th>\n",
       "      <td>enfj</td>\n",
       "      <td>filmandtheatre</td>\n",
       "      <td>3.686383e+08</td>\n",
       "      <td>['oh my god she is adorable i love her so much...</td>\n",
       "      <td>6031</td>\n",
       "      <td>http://pbs.twimg.com/profile_images/1137455550...</td>\n",
       "    </tr>\n",
       "    <tr>\n",
       "      <th>6</th>\n",
       "      <td>enfj</td>\n",
       "      <td>MeghanLeVota</td>\n",
       "      <td>1.016060e+18</td>\n",
       "      <td>['@user I’m an ENFJ 1) individualization 2) fu...</td>\n",
       "      <td>1038</td>\n",
       "      <td>http://pbs.twimg.com/profile_images/1133759007...</td>\n",
       "    </tr>\n",
       "  </tbody>\n",
       "</table>\n",
       "</div>"
      ],
      "text/plain": [
       "  Personality        username       user_id  \\\n",
       "2        enfj      camperry21  2.653982e+07   \n",
       "3        enfj  galaxiaskykloz  2.268542e+09   \n",
       "4        enfj  sarahyoung_esq  1.090463e+18   \n",
       "5        enfj  filmandtheatre  3.686383e+08   \n",
       "6        enfj    MeghanLeVota  1.016060e+18   \n",
       "\n",
       "                                              tweets  followers_count  \\\n",
       "2  [\"@user @user He ain't winning with the Clippe...             1240   \n",
       "3  ['does anyone remember poopreport dot com', '@...             2227   \n",
       "4  ['MeatPotatoesNBeans ', 'THE LITTLE BLEP TONGU...               76   \n",
       "5  ['oh my god she is adorable i love her so much...             6031   \n",
       "6  ['@user I’m an ENFJ 1) individualization 2) fu...             1038   \n",
       "\n",
       "                                               image  \n",
       "2  http://pbs.twimg.com/profile_images/1078547897...  \n",
       "3  http://pbs.twimg.com/profile_images/1001856767...  \n",
       "4  http://pbs.twimg.com/profile_images/1090465009...  \n",
       "5  http://pbs.twimg.com/profile_images/1137455550...  \n",
       "6  http://pbs.twimg.com/profile_images/1133759007...  "
      ]
     },
     "execution_count": 31,
     "metadata": {},
     "output_type": "execute_result"
    }
   ],
   "source": [
    "df.head()"
   ]
  },
  {
   "cell_type": "code",
   "execution_count": 32,
   "metadata": {},
   "outputs": [
    {
     "name": "stdout",
     "output_type": "stream",
     "text": [
      "48\n"
     ]
    }
   ],
   "source": [
    "# Checking for exceptions\n",
    "non_string_tweets = []\n",
    "for row in range (len(df)):\n",
    "    if type(df.iloc[row, 3]) != str:\n",
    "        non_string_tweets.append(row)\n",
    "        print(row)\n",
    "    "
   ]
  },
  {
   "cell_type": "code",
   "execution_count": 33,
   "metadata": {
    "scrolled": true
   },
   "outputs": [
    {
     "data": {
      "text/plain": [
       "Personality                                                     intp\n",
       "username                                               Juliamagdazrc\n",
       "user_id                                                  3.43289e+09\n",
       "tweets                                                           NaN\n",
       "followers_count                                                   49\n",
       "image              http://pbs.twimg.com/profile_images/1125699825...\n",
       "Name: 62, dtype: object"
      ]
     },
     "execution_count": 33,
     "metadata": {},
     "output_type": "execute_result"
    }
   ],
   "source": [
    "df.iloc[48,]"
   ]
  },
  {
   "cell_type": "code",
   "execution_count": 34,
   "metadata": {
    "scrolled": true
   },
   "outputs": [
    {
     "data": {
      "text/plain": [
       "1"
      ]
     },
     "execution_count": 34,
     "metadata": {},
     "output_type": "execute_result"
    }
   ],
   "source": [
    "len(non_string_tweets)"
   ]
  },
  {
   "cell_type": "code",
   "execution_count": 35,
   "metadata": {},
   "outputs": [],
   "source": [
    "# Fixing exception; this isn't ideal\n",
    "#df.iloc[48, 3] = \"No Tweets\""
   ]
  },
  {
   "cell_type": "code",
   "execution_count": 36,
   "metadata": {},
   "outputs": [],
   "source": [
    "tweet_dict = {}\n",
    "\n",
    "for row in range (len(df)):\n",
    "    username = df.iloc[row, 1]\n",
    "    personality = df.iloc[row, 0]\n",
    "    user_id = df.iloc[row, 2]\n",
    "    followers_count = df.iloc[row, 4]\n",
    "    tweets_str = df.iloc[row, 3]\n",
    "    try:\n",
    "        tweets = eval(tweets_str)\n",
    "    except:\n",
    "        tweets = tweets_str\n",
    "    \n",
    "    tweet_dict[username] = [user_id, personality, followers_count, tweets]"
   ]
  },
  {
   "cell_type": "code",
   "execution_count": 37,
   "metadata": {},
   "outputs": [],
   "source": [
    "df_new = pd.DataFrame.from_dict(data = tweet_dict, orient='index', columns=['user_id', 'personality', 'follower_count', 'tweets'])"
   ]
  },
  {
   "cell_type": "code",
   "execution_count": 38,
   "metadata": {
    "scrolled": true
   },
   "outputs": [
    {
     "data": {
      "text/html": [
       "<div>\n",
       "<style scoped>\n",
       "    .dataframe tbody tr th:only-of-type {\n",
       "        vertical-align: middle;\n",
       "    }\n",
       "\n",
       "    .dataframe tbody tr th {\n",
       "        vertical-align: top;\n",
       "    }\n",
       "\n",
       "    .dataframe thead th {\n",
       "        text-align: right;\n",
       "    }\n",
       "</style>\n",
       "<table border=\"1\" class=\"dataframe\">\n",
       "  <thead>\n",
       "    <tr style=\"text-align: right;\">\n",
       "      <th></th>\n",
       "      <th>user_id</th>\n",
       "      <th>personality</th>\n",
       "      <th>follower_count</th>\n",
       "      <th>tweets</th>\n",
       "    </tr>\n",
       "  </thead>\n",
       "  <tbody>\n",
       "    <tr>\n",
       "      <th>camperry21</th>\n",
       "      <td>2.653982e+07</td>\n",
       "      <td>enfj</td>\n",
       "      <td>1240</td>\n",
       "      <td>[@user @user He ain't winning with the Clipper...</td>\n",
       "    </tr>\n",
       "    <tr>\n",
       "      <th>galaxiaskykloz</th>\n",
       "      <td>2.268542e+09</td>\n",
       "      <td>enfj</td>\n",
       "      <td>2227</td>\n",
       "      <td>[does anyone remember poopreport dot com, @use...</td>\n",
       "    </tr>\n",
       "    <tr>\n",
       "      <th>sarahyoung_esq</th>\n",
       "      <td>1.090463e+18</td>\n",
       "      <td>enfj</td>\n",
       "      <td>76</td>\n",
       "      <td>[MeatPotatoesNBeans , THE LITTLE BLEP TONGUE😭 ...</td>\n",
       "    </tr>\n",
       "    <tr>\n",
       "      <th>filmandtheatre</th>\n",
       "      <td>3.686383e+08</td>\n",
       "      <td>enfj</td>\n",
       "      <td>6031</td>\n",
       "      <td>[oh my god she is adorable i love her so much ...</td>\n",
       "    </tr>\n",
       "    <tr>\n",
       "      <th>MeghanLeVota</th>\n",
       "      <td>1.016060e+18</td>\n",
       "      <td>enfj</td>\n",
       "      <td>1038</td>\n",
       "      <td>[@user I’m an ENFJ 1) individualization 2) fut...</td>\n",
       "    </tr>\n",
       "  </tbody>\n",
       "</table>\n",
       "</div>"
      ],
      "text/plain": [
       "                     user_id personality  follower_count  \\\n",
       "camperry21      2.653982e+07        enfj            1240   \n",
       "galaxiaskykloz  2.268542e+09        enfj            2227   \n",
       "sarahyoung_esq  1.090463e+18        enfj              76   \n",
       "filmandtheatre  3.686383e+08        enfj            6031   \n",
       "MeghanLeVota    1.016060e+18        enfj            1038   \n",
       "\n",
       "                                                           tweets  \n",
       "camperry21      [@user @user He ain't winning with the Clipper...  \n",
       "galaxiaskykloz  [does anyone remember poopreport dot com, @use...  \n",
       "sarahyoung_esq  [MeatPotatoesNBeans , THE LITTLE BLEP TONGUE😭 ...  \n",
       "filmandtheatre  [oh my god she is adorable i love her so much ...  \n",
       "MeghanLeVota    [@user I’m an ENFJ 1) individualization 2) fut...  "
      ]
     },
     "execution_count": 38,
     "metadata": {},
     "output_type": "execute_result"
    }
   ],
   "source": [
    "df_new.head()"
   ]
  },
  {
   "cell_type": "code",
   "execution_count": 39,
   "metadata": {
    "scrolled": true
   },
   "outputs": [
    {
     "data": {
      "text/plain": [
       "(149, 4)"
      ]
     },
     "execution_count": 39,
     "metadata": {},
     "output_type": "execute_result"
    }
   ],
   "source": [
    "df_new.shape"
   ]
  },
  {
   "cell_type": "raw",
   "metadata": {},
   "source": [
    "df_new_nonan = df_new.dropna().head()\n",
    "df_new_nonan.shape"
   ]
  },
  {
   "cell_type": "code",
   "execution_count": 40,
   "metadata": {
    "scrolled": true
   },
   "outputs": [
    {
     "data": {
      "text/plain": [
       "(149, 4)"
      ]
     },
     "execution_count": 40,
     "metadata": {},
     "output_type": "execute_result"
    }
   ],
   "source": [
    "df_new.shape"
   ]
  },
  {
   "cell_type": "code",
   "execution_count": 261,
   "metadata": {},
   "outputs": [],
   "source": [
    "#df_new.iloc[3,3]"
   ]
  },
  {
   "cell_type": "markdown",
   "metadata": {},
   "source": [
    "### Remove row with NaN"
   ]
  },
  {
   "cell_type": "code",
   "execution_count": 45,
   "metadata": {},
   "outputs": [
    {
     "data": {
      "text/plain": [
       "(148, 4)"
      ]
     },
     "execution_count": 45,
     "metadata": {},
     "output_type": "execute_result"
    }
   ],
   "source": [
    "df_new_n = df_new[df_new.index != \"Juliamagdazrc\"]\n",
    "df_new_n.shape"
   ]
  },
  {
   "cell_type": "code",
   "execution_count": 46,
   "metadata": {},
   "outputs": [
    {
     "data": {
      "text/html": [
       "<div>\n",
       "<style scoped>\n",
       "    .dataframe tbody tr th:only-of-type {\n",
       "        vertical-align: middle;\n",
       "    }\n",
       "\n",
       "    .dataframe tbody tr th {\n",
       "        vertical-align: top;\n",
       "    }\n",
       "\n",
       "    .dataframe thead th {\n",
       "        text-align: right;\n",
       "    }\n",
       "</style>\n",
       "<table border=\"1\" class=\"dataframe\">\n",
       "  <thead>\n",
       "    <tr style=\"text-align: right;\">\n",
       "      <th></th>\n",
       "      <th>user_id</th>\n",
       "      <th>personality</th>\n",
       "      <th>follower_count</th>\n",
       "      <th>tweets</th>\n",
       "    </tr>\n",
       "  </thead>\n",
       "  <tbody>\n",
       "    <tr>\n",
       "      <th>Wanderingc0rpse</th>\n",
       "      <td>1.080971e+18</td>\n",
       "      <td>intp</td>\n",
       "      <td>74</td>\n",
       "      <td>[@user Mozart, Always be Lilith, never Eve., ,...</td>\n",
       "    </tr>\n",
       "  </tbody>\n",
       "</table>\n",
       "</div>"
      ],
      "text/plain": [
       "                      user_id personality  follower_count  \\\n",
       "Wanderingc0rpse  1.080971e+18        intp              74   \n",
       "\n",
       "                                                            tweets  \n",
       "Wanderingc0rpse  [@user Mozart, Always be Lilith, never Eve., ,...  "
      ]
     },
     "execution_count": 46,
     "metadata": {},
     "output_type": "execute_result"
    }
   ],
   "source": [
    "df_new_n.iloc[[48]]"
   ]
  },
  {
   "cell_type": "code",
   "execution_count": 47,
   "metadata": {},
   "outputs": [
    {
     "data": {
      "text/plain": [
       "148"
      ]
     },
     "execution_count": 47,
     "metadata": {},
     "output_type": "execute_result"
    }
   ],
   "source": [
    "df_l = df_new_n.tweets.tolist()\n",
    "kk = df_l[9]\n",
    "kk[0]\n",
    "len(df_l)\n"
   ]
  },
  {
   "cell_type": "code",
   "execution_count": 50,
   "metadata": {},
   "outputs": [],
   "source": [
    "#df_l[0]"
   ]
  },
  {
   "cell_type": "code",
   "execution_count": 51,
   "metadata": {},
   "outputs": [
    {
     "data": {
      "text/plain": [
       "2886"
      ]
     },
     "execution_count": 51,
     "metadata": {},
     "output_type": "execute_result"
    }
   ],
   "source": [
    "len(df_l[0])"
   ]
  },
  {
   "cell_type": "code",
   "execution_count": 347,
   "metadata": {},
   "outputs": [],
   "source": [
    "numb = []\n",
    "for i in range(len(df_l)):\n",
    "    if type(df_l[i])!=float:\n",
    "        numb.append(len(df_l[i]))\n",
    "    else:\n",
    "        print(i)\n",
    "len(numb)\n",
    "import matplotlib.pyplot as plt\n"
   ]
  },
  {
   "cell_type": "code",
   "execution_count": 349,
   "metadata": {
    "scrolled": true
   },
   "outputs": [
    {
     "name": "stdout",
     "output_type": "stream",
     "text": [
      "                      user_id personality  follower_count  \\\n",
      "Wanderingc0rpse  1.080971e+18        intp              74   \n",
      "\n",
      "                                                            tweets  \n",
      "Wanderingc0rpse  [@user Mozart, Always be Lilith, never Eve., ,...  \n"
     ]
    }
   ],
   "source": [
    "print(df_new_n.iloc[[48]])"
   ]
  },
  {
   "cell_type": "code",
   "execution_count": 350,
   "metadata": {
    "scrolled": true
   },
   "outputs": [
    {
     "data": {
      "text/plain": [
       "148"
      ]
     },
     "execution_count": 350,
     "metadata": {},
     "output_type": "execute_result"
    }
   ],
   "source": [
    "len(numb)"
   ]
  },
  {
   "cell_type": "code",
   "execution_count": 373,
   "metadata": {
    "scrolled": true
   },
   "outputs": [
    {
     "data": {
      "text/plain": [
       "<matplotlib.axes._subplots.AxesSubplot at 0x1a772178d0>"
      ]
     },
     "execution_count": 373,
     "metadata": {},
     "output_type": "execute_result"
    },
    {
     "data": {
      "image/png": "[encoded data removed]",
      "text/plain": [
       "<Figure size 432x288 with 2 Axes>"
      ]
     },
     "metadata": {},
     "output_type": "display_data"
    }
   ],
   "source": [
    "sns.heatmap(df_new_n.isna())"
   ]
  },
  {
   "cell_type": "code",
   "execution_count": 377,
   "metadata": {},
   "outputs": [],
   "source": [
    "#df_new_n.head"
   ]
  },
  {
   "cell_type": "code",
   "execution_count": 352,
   "metadata": {
    "scrolled": false
   },
   "outputs": [
    {
     "name": "stderr",
     "output_type": "stream",
     "text": [
      "//anaconda/lib/python3.6/site-packages/ipykernel_launcher.py:1: SettingWithCopyWarning: \n",
      "A value is trying to be set on a copy of a slice from a DataFrame.\n",
      "Try using .loc[row_indexer,col_indexer] = value instead\n",
      "\n",
      "See the caveats in the documentation: http://pandas.pydata.org/pandas-docs/stable/indexing.html#indexing-view-versus-copy\n",
      "  \"\"\"Entry point for launching an IPython kernel.\n"
     ]
    },
    {
     "data": {
      "text/html": [
       "<div>\n",
       "<style scoped>\n",
       "    .dataframe tbody tr th:only-of-type {\n",
       "        vertical-align: middle;\n",
       "    }\n",
       "\n",
       "    .dataframe tbody tr th {\n",
       "        vertical-align: top;\n",
       "    }\n",
       "\n",
       "    .dataframe thead th {\n",
       "        text-align: right;\n",
       "    }\n",
       "</style>\n",
       "<table border=\"1\" class=\"dataframe\">\n",
       "  <thead>\n",
       "    <tr style=\"text-align: right;\">\n",
       "      <th></th>\n",
       "      <th>user_id</th>\n",
       "      <th>personality</th>\n",
       "      <th>follower_count</th>\n",
       "      <th>tweets</th>\n",
       "      <th>num tweets</th>\n",
       "      <th>num_tweets</th>\n",
       "    </tr>\n",
       "  </thead>\n",
       "  <tbody>\n",
       "    <tr>\n",
       "      <th>camperry21</th>\n",
       "      <td>2.653982e+07</td>\n",
       "      <td>enfj</td>\n",
       "      <td>1240</td>\n",
       "      <td>[@user @user He ain't winning with the Clipper...</td>\n",
       "      <td>2886</td>\n",
       "      <td>2886</td>\n",
       "    </tr>\n",
       "    <tr>\n",
       "      <th>galaxiaskykloz</th>\n",
       "      <td>2.268542e+09</td>\n",
       "      <td>enfj</td>\n",
       "      <td>2227</td>\n",
       "      <td>[does anyone remember poopreport dot com, @use...</td>\n",
       "      <td>2271</td>\n",
       "      <td>2271</td>\n",
       "    </tr>\n",
       "    <tr>\n",
       "      <th>sarahyoung_esq</th>\n",
       "      <td>1.090463e+18</td>\n",
       "      <td>enfj</td>\n",
       "      <td>76</td>\n",
       "      <td>[MeatPotatoesNBeans , THE LITTLE BLEP TONGUE😭 ...</td>\n",
       "      <td>758</td>\n",
       "      <td>758</td>\n",
       "    </tr>\n",
       "    <tr>\n",
       "      <th>filmandtheatre</th>\n",
       "      <td>3.686383e+08</td>\n",
       "      <td>enfj</td>\n",
       "      <td>6031</td>\n",
       "      <td>[oh my god she is adorable i love her so much ...</td>\n",
       "      <td>2407</td>\n",
       "      <td>2407</td>\n",
       "    </tr>\n",
       "    <tr>\n",
       "      <th>MeghanLeVota</th>\n",
       "      <td>1.016060e+18</td>\n",
       "      <td>enfj</td>\n",
       "      <td>1038</td>\n",
       "      <td>[@user I’m an ENFJ 1) individualization 2) fut...</td>\n",
       "      <td>2504</td>\n",
       "      <td>2504</td>\n",
       "    </tr>\n",
       "  </tbody>\n",
       "</table>\n",
       "</div>"
      ],
      "text/plain": [
       "                     user_id personality  follower_count  \\\n",
       "camperry21      2.653982e+07        enfj            1240   \n",
       "galaxiaskykloz  2.268542e+09        enfj            2227   \n",
       "sarahyoung_esq  1.090463e+18        enfj              76   \n",
       "filmandtheatre  3.686383e+08        enfj            6031   \n",
       "MeghanLeVota    1.016060e+18        enfj            1038   \n",
       "\n",
       "                                                           tweets  num tweets  \\\n",
       "camperry21      [@user @user He ain't winning with the Clipper...        2886   \n",
       "galaxiaskykloz  [does anyone remember poopreport dot com, @use...        2271   \n",
       "sarahyoung_esq  [MeatPotatoesNBeans , THE LITTLE BLEP TONGUE😭 ...         758   \n",
       "filmandtheatre  [oh my god she is adorable i love her so much ...        2407   \n",
       "MeghanLeVota    [@user I’m an ENFJ 1) individualization 2) fut...        2504   \n",
       "\n",
       "                num_tweets  \n",
       "camperry21            2886  \n",
       "galaxiaskykloz        2271  \n",
       "sarahyoung_esq         758  \n",
       "filmandtheatre        2407  \n",
       "MeghanLeVota          2504  "
      ]
     },
     "execution_count": 352,
     "metadata": {},
     "output_type": "execute_result"
    }
   ],
   "source": [
    "df_new_n['num_tweets'] = numb\n",
    "df_new_n.head()"
   ]
  },
  {
   "cell_type": "code",
   "execution_count": 159,
   "metadata": {},
   "outputs": [],
   "source": [
    "#df_new.iloc[0,3]"
   ]
  },
  {
   "cell_type": "code",
   "execution_count": 141,
   "metadata": {},
   "outputs": [],
   "source": [
    "import seaborn as sns"
   ]
  },
  {
   "cell_type": "code",
   "execution_count": 355,
   "metadata": {},
   "outputs": [
    {
     "data": {
      "text/plain": [
       "<matplotlib.axes._subplots.AxesSubplot at 0x1a765b1c88>"
      ]
     },
     "execution_count": 355,
     "metadata": {},
     "output_type": "execute_result"
    },
    {
     "data": {
      "image/png": "[encoded data removed]",
      "text/plain": [
       "<Figure size 720x288 with 1 Axes>"
      ]
     },
     "metadata": {},
     "output_type": "display_data"
    }
   ],
   "source": [
    "sns.set()\n",
    "df_new_n.groupby(\"personality\")['num_tweets'].mean().plot(kind='bar',\\\n",
    "                legend=True, figsize = (10,4),color = 'r', fontsize = 12, title = 'Tweets count by MBTI type')\n"
   ]
  },
  {
   "cell_type": "code",
   "execution_count": 356,
   "metadata": {
    "scrolled": true
   },
   "outputs": [
    {
     "data": {
      "text/plain": [
       "<matplotlib.axes._subplots.AxesSubplot at 0x1a76dd4208>"
      ]
     },
     "execution_count": 356,
     "metadata": {},
     "output_type": "execute_result"
    },
    {
     "data": {
      "image/png": "[encoded data removed]",
      "text/plain": [
       "<Figure size 720x288 with 1 Axes>"
      ]
     },
     "metadata": {},
     "output_type": "display_data"
    }
   ],
   "source": [
    "df_new_n.groupby(\"personality\")['follower_count'].mean().plot(kind='bar',\\\n",
    "            figsize = (10,4),color = 'green', fontsize = 15, title = 'Followers count by MBTI type')"
   ]
  },
  {
   "cell_type": "code",
   "execution_count": 362,
   "metadata": {},
   "outputs": [
    {
     "data": {
      "text/plain": [
       "Index(['user_id', 'personality', 'follower_count', 'tweets', 'num tweets',\n",
       "       'num_tweets'],\n",
       "      dtype='object')"
      ]
     },
     "execution_count": 362,
     "metadata": {},
     "output_type": "execute_result"
    }
   ],
   "source": [
    "df_new_n.columns"
   ]
  },
  {
   "cell_type": "code",
   "execution_count": 370,
   "metadata": {},
   "outputs": [
    {
     "name": "stderr",
     "output_type": "stream",
     "text": [
      "//anaconda/lib/python3.6/site-packages/ipykernel_launcher.py:1: SettingWithCopyWarning: \n",
      "A value is trying to be set on a copy of a slice from a DataFrame.\n",
      "Try using .loc[row_indexer,col_indexer] = value instead\n",
      "\n",
      "See the caveats in the documentation: http://pandas.pydata.org/pandas-docs/stable/indexing.html#indexing-view-versus-copy\n",
      "  \"\"\"Entry point for launching an IPython kernel.\n"
     ]
    }
   ],
   "source": [
    "df_new_n['followers_per_tweet'] = df_new_n.apply(lambda row: row.follower_count/row.num_tweets, axis=1)\n",
    "\n"
   ]
  },
  {
   "cell_type": "code",
   "execution_count": 371,
   "metadata": {
    "scrolled": true
   },
   "outputs": [
    {
     "data": {
      "text/html": [
       "<div>\n",
       "<style scoped>\n",
       "    .dataframe tbody tr th:only-of-type {\n",
       "        vertical-align: middle;\n",
       "    }\n",
       "\n",
       "    .dataframe tbody tr th {\n",
       "        vertical-align: top;\n",
       "    }\n",
       "\n",
       "    .dataframe thead th {\n",
       "        text-align: right;\n",
       "    }\n",
       "</style>\n",
       "<table border=\"1\" class=\"dataframe\">\n",
       "  <thead>\n",
       "    <tr style=\"text-align: right;\">\n",
       "      <th></th>\n",
       "      <th>user_id</th>\n",
       "      <th>personality</th>\n",
       "      <th>follower_count</th>\n",
       "      <th>tweets</th>\n",
       "      <th>num tweets</th>\n",
       "      <th>num_tweets</th>\n",
       "      <th>followers_per_tweet</th>\n",
       "    </tr>\n",
       "  </thead>\n",
       "  <tbody>\n",
       "    <tr>\n",
       "      <th>camperry21</th>\n",
       "      <td>2.653982e+07</td>\n",
       "      <td>enfj</td>\n",
       "      <td>1240</td>\n",
       "      <td>[@user @user He ain't winning with the Clipper...</td>\n",
       "      <td>2886</td>\n",
       "      <td>2886</td>\n",
       "      <td>0.429660</td>\n",
       "    </tr>\n",
       "    <tr>\n",
       "      <th>galaxiaskykloz</th>\n",
       "      <td>2.268542e+09</td>\n",
       "      <td>enfj</td>\n",
       "      <td>2227</td>\n",
       "      <td>[does anyone remember poopreport dot com, @use...</td>\n",
       "      <td>2271</td>\n",
       "      <td>2271</td>\n",
       "      <td>0.980625</td>\n",
       "    </tr>\n",
       "    <tr>\n",
       "      <th>sarahyoung_esq</th>\n",
       "      <td>1.090463e+18</td>\n",
       "      <td>enfj</td>\n",
       "      <td>76</td>\n",
       "      <td>[MeatPotatoesNBeans , THE LITTLE BLEP TONGUE😭 ...</td>\n",
       "      <td>758</td>\n",
       "      <td>758</td>\n",
       "      <td>0.100264</td>\n",
       "    </tr>\n",
       "    <tr>\n",
       "      <th>filmandtheatre</th>\n",
       "      <td>3.686383e+08</td>\n",
       "      <td>enfj</td>\n",
       "      <td>6031</td>\n",
       "      <td>[oh my god she is adorable i love her so much ...</td>\n",
       "      <td>2407</td>\n",
       "      <td>2407</td>\n",
       "      <td>2.505609</td>\n",
       "    </tr>\n",
       "    <tr>\n",
       "      <th>MeghanLeVota</th>\n",
       "      <td>1.016060e+18</td>\n",
       "      <td>enfj</td>\n",
       "      <td>1038</td>\n",
       "      <td>[@user I’m an ENFJ 1) individualization 2) fut...</td>\n",
       "      <td>2504</td>\n",
       "      <td>2504</td>\n",
       "      <td>0.414537</td>\n",
       "    </tr>\n",
       "  </tbody>\n",
       "</table>\n",
       "</div>"
      ],
      "text/plain": [
       "                     user_id personality  follower_count  \\\n",
       "camperry21      2.653982e+07        enfj            1240   \n",
       "galaxiaskykloz  2.268542e+09        enfj            2227   \n",
       "sarahyoung_esq  1.090463e+18        enfj              76   \n",
       "filmandtheatre  3.686383e+08        enfj            6031   \n",
       "MeghanLeVota    1.016060e+18        enfj            1038   \n",
       "\n",
       "                                                           tweets  num tweets  \\\n",
       "camperry21      [@user @user He ain't winning with the Clipper...        2886   \n",
       "galaxiaskykloz  [does anyone remember poopreport dot com, @use...        2271   \n",
       "sarahyoung_esq  [MeatPotatoesNBeans , THE LITTLE BLEP TONGUE😭 ...         758   \n",
       "filmandtheatre  [oh my god she is adorable i love her so much ...        2407   \n",
       "MeghanLeVota    [@user I’m an ENFJ 1) individualization 2) fut...        2504   \n",
       "\n",
       "                num_tweets  followers_per_tweet  \n",
       "camperry21            2886             0.429660  \n",
       "galaxiaskykloz        2271             0.980625  \n",
       "sarahyoung_esq         758             0.100264  \n",
       "filmandtheatre        2407             2.505609  \n",
       "MeghanLeVota          2504             0.414537  "
      ]
     },
     "execution_count": 371,
     "metadata": {},
     "output_type": "execute_result"
    }
   ],
   "source": [
    "df_new_n.head()"
   ]
  },
  {
   "cell_type": "code",
   "execution_count": 372,
   "metadata": {
    "scrolled": false
   },
   "outputs": [
    {
     "data": {
      "text/plain": [
       "<matplotlib.axes._subplots.AxesSubplot at 0x1a76d65f28>"
      ]
     },
     "execution_count": 372,
     "metadata": {},
     "output_type": "execute_result"
    },
    {
     "data": {
      "image/png": "[encoded data removed]",
      "text/plain": [
       "<Figure size 720x288 with 1 Axes>"
      ]
     },
     "metadata": {},
     "output_type": "display_data"
    }
   ],
   "source": [
    "df_new_n.groupby(\"personality\")['followers_per_tweet'].mean().plot(kind='bar',\\\n",
    "            figsize = (10,4),color = 'yellow', fontsize = 15, title = 'Followers/tweet by MBTI type')"
   ]
  },
  {
   "cell_type": "markdown",
   "metadata": {},
   "source": [
    "### working with iloc in pandas\n",
    "https://www.shanelynn.ie/select-pandas-dataframe-rows-and-columns-using-iloc-loc-and-ix/"
   ]
  },
  {
   "cell_type": "markdown",
   "metadata": {},
   "source": [
    "### how to check if DF has NA\"\n",
    "https://chartio.com/resources/tutorials/how-to-check-if-any-value-is-nan-in-a-pandas-dataframe/"
   ]
  },
  {
   "cell_type": "markdown",
   "metadata": {},
   "source": [
    "### filtering DF by name of column\n",
    "https://cmdlinetips.com/2018/02/how-to-subset-pandas-dataframe-based-on-values-of-a-column/"
   ]
  },
  {
   "cell_type": "code",
   "execution_count": null,
   "metadata": {},
   "outputs": [],
   "source": []
  },
  {
   "cell_type": "markdown",
   "metadata": {},
   "source": [
    "### User's engagement in social media"
   ]
  },
  {
   "cell_type": "code",
   "execution_count": 378,
   "metadata": {},
   "outputs": [],
   "source": [
    "# Module imports \n",
    "import tweepy\n",
    "import time\n",
    "import pandas as pd\n",
    "import numpy as np\n",
    "import json\n",
    "import time\n",
    "from random import randint, random\n",
    "from googlesearch import search as gsearch\n",
    "import matplotlib.pyplot as plt\n",
    "import seaborn as sns\n",
    "%matplotlib inline"
   ]
  },
  {
   "cell_type": "code",
   "execution_count": 386,
   "metadata": {},
   "outputs": [],
   "source": [
    "import json\n",
    "import twitter"
   ]
  },
  {
   "cell_type": "markdown",
   "metadata": {},
   "source": [
    "source:\n",
    "    https://towardsdatascience.com/use-google-and-tweepy-to-build-a-dataset-of-twitter-users-cbfd556493a9"
   ]
  },
  {
   "cell_type": "code",
   "execution_count": 379,
   "metadata": {},
   "outputs": [],
   "source": [
    "with open('twitter_credentials.json') as cred_data:\n",
    "    info = json.load(cred_data)\n",
    "    api_key = info['CONSUMER_KEY']\n",
    "    secret_key = info['CONSUMER_SECRET']\n",
    "    access_token = info['ACCESS_KEY']\n",
    "    secret_token = info['ACCESS_SECRET']"
   ]
  },
  {
   "cell_type": "code",
   "execution_count": 382,
   "metadata": {},
   "outputs": [],
   "source": [
    "\n",
    "def authenticate(api_key, secret_key, access_token, secret_token):\n",
    "\n",
    "    auth = tweepy.OAuthHandler(api_key, secret_key)\n",
    "    auth.set_access_token(access_token, secret_token)\n",
    "    api = tweepy.API(auth, \n",
    "                     wait_on_rate_limit=True, \n",
    "                     wait_on_rate_limit_notify=True)\n",
    "  \n",
    "    return api\n",
    "\n",
    "\n",
    "api = authenticate(api_key, secret_key, access_token, secret_token)"
   ]
  },
  {
   "cell_type": "code",
   "execution_count": 387,
   "metadata": {},
   "outputs": [],
   "source": [
    "appi = twitter.Api(consumer_key='MGZq7elPgM7ebbiMMfehQpws3',\n",
    "                      consumer_secret='8iCUvtegMrpwZhJyVdAkTfsQ10F8Ev6eUzEY8rHGZcOcnQsoAZ',\n",
    "                      access_token_key='850564782310608896-eKZe7kL5H3pX4H6v8pDmGS4nM9SjEIw',\n",
    "                      access_token_secret='sFokhSX1DiPvJleKNUWMJHeRf48nXAlQzwscf1QW8Gnxu')\n"
   ]
  },
  {
   "cell_type": "markdown",
   "metadata": {},
   "source": [
    "#### Check if Twitter API is working"
   ]
  },
  {
   "cell_type": "code",
   "execution_count": 390,
   "metadata": {},
   "outputs": [],
   "source": [
    "\n",
    "appi = twitter.Api(api_key, secret_key, access_token, secret_token)\n",
    "\n"
   ]
  },
  {
   "cell_type": "code",
   "execution_count": 401,
   "metadata": {
    "scrolled": false
   },
   "outputs": [
    {
     "name": "stdout",
     "output_type": "stream",
     "text": [
      "my twitter info & tweete: \n",
      " {\"created_at\": \"Sat Apr 08 04:23:41 +0000 2017\", \"default_profile\": true, \"default_profile_image\": true, \"favourites_count\": 6, \"followers_count\": 5, \"friends_count\": 94, \"id\": 850564782310608896, \"id_str\": \"850564782310608896\", \"name\": \"Natallia\", \"profile_background_color\": \"F5F8FA\", \"profile_image_url\": \"http://abs.twimg.com/sticky/default_profile_images/default_profile_normal.png\", \"profile_image_url_https\": \"https://abs.twimg.com/sticky/default_profile_images/default_profile_normal.png\", \"profile_link_color\": \"1DA1F2\", \"profile_sidebar_border_color\": \"C0DEED\", \"profile_sidebar_fill_color\": \"DDEEF6\", \"profile_text_color\": \"333333\", \"profile_use_background_image\": true, \"screen_name\": \"natallia112202\", \"status\": {\"created_at\": \"Mon Jun 24 05:13:15 +0000 2019\", \"id\": 1143024265526038528, \"id_str\": \"1143024265526038528\", \"in_reply_to_screen_name\": \"AOC\", \"in_reply_to_status_id\": 1134591497951764481, \"in_reply_to_user_id\": 138203134, \"lang\": \"en\", \"source\": \"<a href=\\\"http://twitter.com\\\" rel=\\\"nofollow\\\">Twitter Web Client</a>\", \"text\": \"@AOC Wow. Leave ICE employees alone... They are clearly overwhelmed by illegals pouring through the border and doin\\u2026 https://t.co/mZd3LCYoGf\", \"truncated\": true}, \"statuses_count\": 122}\n"
     ]
    }
   ],
   "source": [
    "print('my twitter info & tweete:','\\n',appi.VerifyCredentials())"
   ]
  },
  {
   "cell_type": "code",
   "execution_count": null,
   "metadata": {},
   "outputs": [],
   "source": []
  },
  {
   "cell_type": "code",
   "execution_count": 405,
   "metadata": {
    "scrolled": true
   },
   "outputs": [
    {
     "name": "stdout",
     "output_type": "stream",
     "text": [
      "Enter the number of tweets that you want to extract- 600\n",
      "Enter the hashtag you want to scrape- MBTI\n"
     ]
    },
    {
     "ename": "AttributeError",
     "evalue": "'Status' object has no attribute 'text'",
     "output_type": "error",
     "traceback": [
      "\u001b[0;31m---------------------------------------------------------------------------\u001b[0m",
      "\u001b[0;31mAttributeError\u001b[0m                            Traceback (most recent call last)",
      "\u001b[0;32m<ipython-input-405-9218d92a9d87>\u001b[0m in \u001b[0;36m<module>\u001b[0;34m\u001b[0m\n\u001b[1;32m     26\u001b[0m     \u001b[0;32mwith\u001b[0m \u001b[0mopen\u001b[0m\u001b[0;34m(\u001b[0m\u001b[0;34m'tweets_with_hashtag_'\u001b[0m \u001b[0;34m+\u001b[0m \u001b[0mhashtag\u001b[0m \u001b[0;34m+\u001b[0m \u001b[0;34m'.txt'\u001b[0m\u001b[0;34m,\u001b[0m \u001b[0;34m'a'\u001b[0m\u001b[0;34m)\u001b[0m \u001b[0;32mas\u001b[0m\u001b[0;31m \u001b[0m\u001b[0;31m\\\u001b[0m\u001b[0;34m\u001b[0m\u001b[0;34m\u001b[0m\u001b[0m\n\u001b[1;32m     27\u001b[0m     \u001b[0mthe_file\u001b[0m\u001b[0;34m:\u001b[0m\u001b[0;34m\u001b[0m\u001b[0;34m\u001b[0m\u001b[0m\n\u001b[0;32m---> 28\u001b[0;31m         \u001b[0mthe_file\u001b[0m\u001b[0;34m.\u001b[0m\u001b[0mwrite\u001b[0m\u001b[0;34m(\u001b[0m\u001b[0mstr\u001b[0m\u001b[0;34m(\u001b[0m\u001b[0mtweet\u001b[0m\u001b[0;34m.\u001b[0m\u001b[0mtext\u001b[0m\u001b[0;34m)\u001b[0m \u001b[0;34m+\u001b[0m \u001b[0;34m'\\n'\u001b[0m\u001b[0;34m)\u001b[0m\u001b[0;34m\u001b[0m\u001b[0;34m\u001b[0m\u001b[0m\n\u001b[0m\u001b[1;32m     29\u001b[0m \u001b[0;34m\u001b[0m\u001b[0m\n\u001b[1;32m     30\u001b[0m     print ('Extracted ' + str(maximum_number_of_tweets_to_be_extracted) \\\n",
      "\u001b[0;31mAttributeError\u001b[0m: 'Status' object has no attribute 'text'"
     ]
    }
   ],
   "source": [
    "# Twitter API credentials\n",
    "\n",
    "with open('twitter_credentials.json') as cred_data:\n",
    "    info = json.load(cred_data)\n",
    "    consumer_key = info['CONSUMER_KEY']\n",
    "    consumer_secret = info['CONSUMER_SECRET']\n",
    "    access_key = info['ACCESS_KEY']\n",
    "    access_secret = info['ACCESS_SECRET']\n",
    "\n",
    "# Create the api endpoint\n",
    "\n",
    "auth = tweepy.OAuthHandler(consumer_key, consumer_secret)\n",
    "api = tweepy.API(auth,wait_on_rate_limit=True,wait_on_rate_limit_notify=True)\n",
    "\n",
    "# Mention the maximum number of tweets that you want to be extracted.\n",
    "\n",
    "maximum_number_of_tweets_to_be_extracted = \\\n",
    "int(input('Enter the number of tweets that you want to extract- '))\n",
    "\n",
    "# Mention the hashtag that you want to look out for\n",
    "\n",
    "hashtag = input('Enter the hashtag you want to scrape- ')\n",
    "\n",
    "for tweet in tweepy.Cursor(api.search, q='#' + hashtag,rpp=100,lang=\"en\",tweet_mode='extended').items(maximum_number_of_tweets_to_be_extracted):\n",
    "    \n",
    "    with open('tweets_with_hashtag_' + hashtag + '.txt', 'a') as \\\n",
    "    the_file:\n",
    "        the_file.write(str(tweet.text) + '\\n')\n",
    "\n",
    "    print ('Extracted ' + str(maximum_number_of_tweets_to_be_extracted) \\\n",
    "    + ' tweets with hashtag #' + hashtag)\n",
    "    "
   ]
  },
  {
   "cell_type": "markdown",
   "metadata": {},
   "source": [
    "### Catch all the users on the hashtag MBTI (most probable plece to find users!)"
   ]
  },
  {
   "cell_type": "code",
   "execution_count": 419,
   "metadata": {
    "scrolled": false
   },
   "outputs": [
    {
     "name": "stdout",
     "output_type": "stream",
     "text": [
      "Enter the number of tweets that you want to extract- 300\n",
      "Enter the hashtag you want to scrape- MBTI\n",
      "Extracted 300 tweets with hashtag #MBTI\n"
     ]
    }
   ],
   "source": [
    "# Twitter API credentials\n",
    "\n",
    "with open('twitter_credentials.json') as cred_data:\n",
    "    info = json.load(cred_data)\n",
    "    consumer_key = info['CONSUMER_KEY']\n",
    "    consumer_secret = info['CONSUMER_SECRET']\n",
    "    access_key = info['ACCESS_KEY']\n",
    "    access_secret = info['ACCESS_SECRET']\n",
    "\n",
    "# Create the api endpoint\n",
    "\n",
    "auth = tweepy.OAuthHandler(consumer_key, consumer_secret)\n",
    "api = tweepy.API(auth)\n",
    "\n",
    "# Mention the maximum number of tweets that you want to be extracted.\n",
    "\n",
    "maximum_number_of_tweets_to_be_extracted = \\\n",
    "int(input('Enter the number of tweets that you want to extract- '))\n",
    "\n",
    "# Mention the hashtag that you want to look out for\n",
    "\n",
    "hashtag = input('Enter the hashtag you want to scrape- ')\n",
    "\n",
    "for tweet in tweepy.Cursor(api.search, q='#' + hashtag,\\\n",
    "    rpp=100,lang=\"en\").items(maximum_number_of_tweets_to_be_extracted):\n",
    "        with open('tweets_with_hashtag_' + hashtag + '.txt', 'a') as \\\n",
    "        the_file:\n",
    "            the_file.write(str(tweet.text) + '\\n')\n",
    "\n",
    "print ('Extracted ' + str(maximum_number_of_tweets_to_be_extracted) \\\n",
    "+ ' tweets with hashtag #' + hashtag)"
   ]
  },
  {
   "cell_type": "code",
   "execution_count": 534,
   "metadata": {},
   "outputs": [],
   "source": [
    "mbtifile = open('tweets_with_hashtag_MBTI.txt','r')\n",
    "\n",
    "#mbtifile.readline()"
   ]
  },
  {
   "cell_type": "code",
   "execution_count": 597,
   "metadata": {
    "scrolled": true
   },
   "outputs": [
    {
     "name": "stdout",
     "output_type": "stream",
     "text": [
      "unique users collected 58\n",
      "lines in the file 486\n",
      "lines where MBTI is mentioned 118\n",
      "the list of users [\"realDonaldTrump'\", 'SANDAPT', 'YouTub', 'DesignCULT_002', 'JohnHackston', '16Personalitie', 'FIRESTARTERS101', 'BarackObam', 'mbti_insights', 'elyssarahilly_', 'AusAPT', 'introvert360', 'theinfjwoman', 'LoreAdept', 'mbtifacts1', 'JohannesPinina', 'INTParent76', 'cuppaJasmine', 'FlowState9', 'erikthor_', 'StellaSanLF', 'SANDAP', 'AJThurston', 'allifenwick_', 'theRealENTJ', 'JZType', 'theINTJnovelis', 'Discovering_Her', 'alonzovibez_23', 'ChrisRCason', 'themyersbrigg', 'lakedirect', 'CateHawekotte', 'atopcareer', 'atopcaree', 'SatoshiDoodles', 'StellaYeahilike', 'zdon89', 'AusAP', 'ENFJ_Support', 'inkandstars', 'WarmestRobot', 'xQ', 'all_of_MBTI', 'Grumpyturtle0', 'we', 'ELFT_OD', 'thereelanna', 'match_type', 'Shon_Doe', 'mbti_insight', 'PsychometricsCA', 'commcapers', 'Yeahilike', 'theINTJnovelist', 'GodYaylor', 'YAI019', 'blueskyperfor']\n"
     ]
    }
   ],
   "source": [
    "with open('tweets_with_hashtag_MBTI.txt') as f:\n",
    "    data = f.readlines()\n",
    "    users = []\n",
    "    num_lines = 0\n",
    "    num_mbti1 = 0\n",
    "    \n",
    "    for line in data:\n",
    "        num_lines += 1\n",
    "        if 'MBTI' in line:\n",
    "            num_mbti1+=1\n",
    "            \n",
    "        wordlist = line.split()\n",
    "        \n",
    "        #print(wordlist)\n",
    "        \n",
    "        users.append([word[1:-1] for word in wordlist if word[0]=='@'])\n",
    "    all_users = [u[0] for u in users if len(u)>0]\n",
    "            \n",
    "    #all_lines.append(words)   \n",
    "    \n",
    "    #users = [w for w in all_lines if w[0]=='@']\n",
    "MBTI_users = list(set(all_users))\n",
    "print(\"unique users collected\", len(set(all_users)))\n",
    "print('lines in the file',num_lines)\n",
    "print('lines where MBTI is mentioned',num_mbti1)\n",
    "print('the list of users',MBTI_users)"
   ]
  },
  {
   "cell_type": "code",
   "execution_count": null,
   "metadata": {},
   "outputs": [],
   "source": []
  },
  {
   "cell_type": "markdown",
   "metadata": {},
   "source": [
    "#### link\n",
    "https://stackoverflow.com/questions/22469713/managing-tweepy-api-search"
   ]
  },
  {
   "cell_type": "code",
   "execution_count": null,
   "metadata": {},
   "outputs": [],
   "source": []
  },
  {
   "cell_type": "markdown",
   "metadata": {},
   "source": []
  },
  {
   "cell_type": "code",
   "execution_count": 420,
   "metadata": {},
   "outputs": [],
   "source": [
    "query = 'I am ESFJ'\n",
    "max_tweets = 1000\n",
    "searched_tweets = []\n",
    "last_id = -1\n",
    "while len(searched_tweets) < max_tweets:\n",
    "    count = max_tweets - len(searched_tweets)\n",
    "    try:\n",
    "        new_tweets = api.search(q=query, count=count, max_id=str(last_id - 1))\n",
    "        if not new_tweets:\n",
    "            break\n",
    "        searched_tweets.extend(new_tweets)\n",
    "        last_id = new_tweets[-1].id\n",
    "    except tweepy.TweepError as e:\n",
    "        # depending on TweepError.code, one may want to retry or wait\n",
    "        # to keep things simple, we will give up on an error\n",
    "        break\n"
   ]
  },
  {
   "cell_type": "code",
   "execution_count": 457,
   "metadata": {
    "scrolled": false
   },
   "outputs": [
    {
     "data": {
      "text/plain": [
       "tweepy.models.Status"
      ]
     },
     "execution_count": 457,
     "metadata": {},
     "output_type": "execute_result"
    }
   ],
   "source": [
    "type(searched_tweets[1])"
   ]
  },
  {
   "cell_type": "code",
   "execution_count": 467,
   "metadata": {
    "scrolled": true
   },
   "outputs": [
    {
     "data": {
      "text/plain": [
       "11"
      ]
     },
     "execution_count": 467,
     "metadata": {},
     "output_type": "execute_result"
    }
   ],
   "source": [
    "len(searched_tweets)"
   ]
  },
  {
   "cell_type": "markdown",
   "metadata": {},
   "source": [
    "### about tweepy.models.Status object\n",
    "\n",
    "https://stackoverflow.com/questions/27900451/convert-tweepy-status-object-into-json#comment68376331_27901076"
   ]
  },
  {
   "cell_type": "markdown",
   "metadata": {},
   "source": [
    "#### COnvert tweepy.models.Status object into regular dictionary (json)"
   ]
  },
  {
   "cell_type": "code",
   "execution_count": 465,
   "metadata": {},
   "outputs": [],
   "source": [
    "full_text = []\n",
    "for i in range(len(searched_tweets)):\n",
    "    \n",
    "    status = searched_tweets[i]\n",
    "    json_str = json.dumps(status._json)\n",
    "    full_text.append(json_str)"
   ]
  },
  {
   "cell_type": "code",
   "execution_count": 466,
   "metadata": {
    "scrolled": true
   },
   "outputs": [
    {
     "data": {
      "text/plain": [
       "11"
      ]
     },
     "execution_count": 466,
     "metadata": {},
     "output_type": "execute_result"
    }
   ],
   "source": [
    "len(full_text)"
   ]
  },
  {
   "cell_type": "code",
   "execution_count": 593,
   "metadata": {
    "scrolled": true
   },
   "outputs": [
    {
     "data": {
      "text/plain": [
       "'{\"created_at\": \"Tue Jul 02 18:17:21 +0000 2019\", \"id\": 1146120690816442370, \"id_str\": \"1146120690816442370\", \"text\": \"I am ESFJ and I got sailor Jupiter!\\\\nHere\\\\u2019s the Myers-Briggs test: https://t.co/63lzFus4ZX\", \"truncated\": false, \"entities\": {\"hashtags\": [], \"symbols\": [], \"user_mentions\": [], \"urls\": [{\"url\": \"https://t.co/63lzFus4ZX\", \"expanded_url\": \"http://16personalities.com\", \"display_url\": \"16personalities.com\", \"indices\": [66, 89]}]}, \"metadata\": {\"iso_language_code\": \"en\", \"result_type\": \"recent\"}, \"source\": \"<a href=\\\\\"http://twitter.com/download/iphone\\\\\" rel=\\\\\"nofollow\\\\\">Twitter for iPhone</a>\", \"in_reply_to_status_id\": 1146113826577948672, \"in_reply_to_status_id_str\": \"1146113826577948672\", \"in_reply_to_user_id\": 1023392516996034560, \"in_reply_to_user_id_str\": \"1023392516996034560\", \"in_reply_to_screen_name\": \"KagurasDream\", \"user\": {\"id\": 1023392516996034560, \"id_str\": \"1023392516996034560\", \"name\": \"Vix \\\\u2728 \\\\ud83c\\\\udff3\\\\ufe0f\\\\u200d\\\\ud83c\\\\udf08\", \"screen_name\": \"KagurasDream\", \"location\": \"FL \\\\u2600\\\\ufe0f 23 she/her \", \"description\": \"Vix \\\\ud83d\\\\udcab Content Creator & Aspiring Cosplayer\\\\u2763\\\\ufe0f @Twitch Affiliate \\\\ud83c\\\\udfae Anime, Video Games, MTG Goofy Magical Girl \\\\ud83c\\\\udf19 \\\\u2728@MIS4TO\\\\u2728 @JackiCanYouNot\\\\ud83d\\\\udc9e\", \"url\": \"https://t.co/veEzc5WynK\", \"entities\": {\"url\": {\"urls\": [{\"url\": \"https://t.co/veEzc5WynK\", \"expanded_url\": \"https://cash.me/$omgVix\", \"display_url\": \"cash.me/$omgVix\", \"indices\": [0, 23]}]}, \"description\": {\"urls\": []}}, \"protected\": false, \"followers_count\": 1895, \"friends_count\": 721, \"listed_count\": 65, \"created_at\": \"Sun Jul 29 02:19:24 +0000 2018\", \"favourites_count\": 41698, \"utc_offset\": null, \"time_zone\": null, \"geo_enabled\": false, \"verified\": false, \"statuses_count\": 28834, \"lang\": null, \"contributors_enabled\": false, \"is_translator\": false, \"is_translation_enabled\": false, \"profile_background_color\": \"F5F8FA\", \"profile_background_image_url\": null, \"profile_background_image_url_https\": null, \"profile_background_tile\": false, \"profile_image_url\": \"http://pbs.twimg.com/profile_images/1143893596816465920/XFTBqFqL_normal.jpg\", \"profile_image_url_https\": \"https://pbs.twimg.com/profile_images/1143893596816465920/XFTBqFqL_normal.jpg\", \"profile_banner_url\": \"https://pbs.twimg.com/profile_banners/1023392516996034560/1561599336\", \"profile_link_color\": \"1DA1F2\", \"profile_sidebar_border_color\": \"C0DEED\", \"profile_sidebar_fill_color\": \"DDEEF6\", \"profile_text_color\": \"333333\", \"profile_use_background_image\": true, \"has_extended_profile\": true, \"default_profile\": true, \"default_profile_image\": false, \"following\": null, \"follow_request_sent\": null, \"notifications\": null, \"translator_type\": \"none\"}, \"geo\": null, \"coordinates\": null, \"place\": null, \"contributors\": null, \"is_quote_status\": false, \"retweet_count\": 0, \"favorite_count\": 3, \"favorited\": false, \"retweeted\": false, \"possibly_sensitive\": false, \"lang\": \"en\"}'"
      ]
     },
     "execution_count": 593,
     "metadata": {},
     "output_type": "execute_result"
    }
   ],
   "source": [
    "## Big dictionary (0ne of 11)\n",
    "full_text[1]"
   ]
  },
  {
   "cell_type": "code",
   "execution_count": 470,
   "metadata": {},
   "outputs": [],
   "source": [
    "with open('all_ESFJ_2.txt', 'w') as f:\n",
    "    for item in full_text:\n",
    "        f.write(\"%s\\n\" % item)"
   ]
  },
  {
   "cell_type": "code",
   "execution_count": 471,
   "metadata": {},
   "outputs": [],
   "source": [
    "tweets_data_path = 'all_ESFJ_2.txt'"
   ]
  },
  {
   "cell_type": "code",
   "execution_count": 472,
   "metadata": {},
   "outputs": [],
   "source": [
    "tweets_data = []\n",
    "tweets_file = open(tweets_data_path, \"r\")\n",
    "for line in tweets_file:\n",
    "    try:\n",
    "        tweet = json.loads(line)\n",
    "        tweets_data.append(tweet)\n",
    "    except:\n",
    "        print('!!!!')\n",
    "        continue"
   ]
  },
  {
   "cell_type": "code",
   "execution_count": 474,
   "metadata": {
    "scrolled": true
   },
   "outputs": [
    {
     "data": {
      "text/plain": [
       "11"
      ]
     },
     "execution_count": 474,
     "metadata": {},
     "output_type": "execute_result"
    }
   ],
   "source": [
    "len(tweets_data)"
   ]
  },
  {
   "cell_type": "code",
   "execution_count": 483,
   "metadata": {},
   "outputs": [
    {
     "data": {
      "text/plain": [
       "dict"
      ]
     },
     "execution_count": 483,
     "metadata": {},
     "output_type": "execute_result"
    }
   ],
   "source": [
    "type(tweets_data[0])"
   ]
  },
  {
   "cell_type": "code",
   "execution_count": 501,
   "metadata": {
    "scrolled": true
   },
   "outputs": [
    {
     "data": {
      "text/plain": [
       "{'created_at': 'Tue Jul 02 18:17:21 +0000 2019',\n",
       " 'id': 1146120690816442370,\n",
       " 'id_str': '1146120690816442370',\n",
       " 'text': 'I am ESFJ and I got sailor Jupiter!\\nHere’s the Myers-Briggs test: https://t.co/63lzFus4ZX',\n",
       " 'truncated': False,\n",
       " 'entities': {'hashtags': [],\n",
       "  'symbols': [],\n",
       "  'user_mentions': [],\n",
       "  'urls': [{'url': 'https://t.co/63lzFus4ZX',\n",
       "    'expanded_url': 'http://16personalities.com',\n",
       "    'display_url': '16personalities.com',\n",
       "    'indices': [66, 89]}]},\n",
       " 'metadata': {'iso_language_code': 'en', 'result_type': 'recent'},\n",
       " 'source': '<a href=\"http://twitter.com/download/iphone\" rel=\"nofollow\">Twitter for iPhone</a>',\n",
       " 'in_reply_to_status_id': 1146113826577948672,\n",
       " 'in_reply_to_status_id_str': '1146113826577948672',\n",
       " 'in_reply_to_user_id': 1023392516996034560,\n",
       " 'in_reply_to_user_id_str': '1023392516996034560',\n",
       " 'in_reply_to_screen_name': 'KagurasDream',\n",
       " 'user': {'id': 1023392516996034560,\n",
       "  'id_str': '1023392516996034560',\n",
       "  'name': 'Vix ✨ 🏳️\\u200d🌈',\n",
       "  'screen_name': 'KagurasDream',\n",
       "  'location': 'FL ☀️ 23 she/her ',\n",
       "  'description': 'Vix 💫 Content Creator & Aspiring Cosplayer❣️ @Twitch Affiliate 🎮 Anime, Video Games, MTG Goofy Magical Girl 🌙 ✨@MIS4TO✨ @JackiCanYouNot💞',\n",
       "  'url': 'https://t.co/veEzc5WynK',\n",
       "  'entities': {'url': {'urls': [{'url': 'https://t.co/veEzc5WynK',\n",
       "      'expanded_url': 'https://cash.me/$omgVix',\n",
       "      'display_url': 'cash.me/$omgVix',\n",
       "      'indices': [0, 23]}]},\n",
       "   'description': {'urls': []}},\n",
       "  'protected': False,\n",
       "  'followers_count': 1895,\n",
       "  'friends_count': 721,\n",
       "  'listed_count': 65,\n",
       "  'created_at': 'Sun Jul 29 02:19:24 +0000 2018',\n",
       "  'favourites_count': 41698,\n",
       "  'utc_offset': None,\n",
       "  'time_zone': None,\n",
       "  'geo_enabled': False,\n",
       "  'verified': False,\n",
       "  'statuses_count': 28834,\n",
       "  'lang': None,\n",
       "  'contributors_enabled': False,\n",
       "  'is_translator': False,\n",
       "  'is_translation_enabled': False,\n",
       "  'profile_background_color': 'F5F8FA',\n",
       "  'profile_background_image_url': None,\n",
       "  'profile_background_image_url_https': None,\n",
       "  'profile_background_tile': False,\n",
       "  'profile_image_url': 'http://pbs.twimg.com/profile_images/1143893596816465920/XFTBqFqL_normal.jpg',\n",
       "  'profile_image_url_https': 'https://pbs.twimg.com/profile_images/1143893596816465920/XFTBqFqL_normal.jpg',\n",
       "  'profile_banner_url': 'https://pbs.twimg.com/profile_banners/1023392516996034560/1561599336',\n",
       "  'profile_link_color': '1DA1F2',\n",
       "  'profile_sidebar_border_color': 'C0DEED',\n",
       "  'profile_sidebar_fill_color': 'DDEEF6',\n",
       "  'profile_text_color': '333333',\n",
       "  'profile_use_background_image': True,\n",
       "  'has_extended_profile': True,\n",
       "  'default_profile': True,\n",
       "  'default_profile_image': False,\n",
       "  'following': None,\n",
       "  'follow_request_sent': None,\n",
       "  'notifications': None,\n",
       "  'translator_type': 'none'},\n",
       " 'geo': None,\n",
       " 'coordinates': None,\n",
       " 'place': None,\n",
       " 'contributors': None,\n",
       " 'is_quote_status': False,\n",
       " 'retweet_count': 0,\n",
       " 'favorite_count': 3,\n",
       " 'favorited': False,\n",
       " 'retweeted': False,\n",
       " 'possibly_sensitive': False,\n",
       " 'lang': 'en'}"
      ]
     },
     "execution_count": 501,
     "metadata": {},
     "output_type": "execute_result"
    }
   ],
   "source": [
    "tweets_data[1]"
   ]
  },
  {
   "cell_type": "code",
   "execution_count": 507,
   "metadata": {
    "scrolled": true
   },
   "outputs": [
    {
     "data": {
      "text/plain": [
       "1895"
      ]
     },
     "execution_count": 507,
     "metadata": {},
     "output_type": "execute_result"
    }
   ],
   "source": [
    "tweets_data[1]['user']['followers_count']"
   ]
  },
  {
   "cell_type": "code",
   "execution_count": 509,
   "metadata": {},
   "outputs": [
    {
     "data": {
      "text/plain": [
       "11"
      ]
     },
     "execution_count": 509,
     "metadata": {},
     "output_type": "execute_result"
    }
   ],
   "source": [
    "len(tweets_data)"
   ]
  },
  {
   "cell_type": "code",
   "execution_count": 510,
   "metadata": {},
   "outputs": [],
   "source": [
    "timestamp = []\n",
    "tweet_text = []\n",
    "username = []\n",
    "image = []\n",
    "followers_count = []\n",
    "for i in range(len(tweets_data)):\n",
    "    timestamp.append(tweets_data[i]['created_at'])\n",
    "    \n",
    "    tweet_text.append(tweets_data[i]['text'])\n",
    "    username.append(tweets_data[i]['user']['screen_name'])\n",
    "    image.append(tweets_data[i]['user']['profile_image_url'])\n",
    "    followers_count.append(tweets_data[i]['user']['followers_count'])\n"
   ]
  },
  {
   "cell_type": "code",
   "execution_count": 513,
   "metadata": {},
   "outputs": [],
   "source": [
    "df_ESFJ = pd.DataFrame(list(zip(timestamp,tweet_text,username,image,followers_count)),\n",
    "              columns=['timestamp','tweet_text','username','image','followers_count'])"
   ]
  },
  {
   "cell_type": "code",
   "execution_count": 518,
   "metadata": {},
   "outputs": [
    {
     "data": {
      "text/plain": [
       "'@cathyknightscot Now obsessively googling ESFJ. I have also learnt I am a type 2 personality... #notagoodthing'"
      ]
     },
     "execution_count": 518,
     "metadata": {},
     "output_type": "execute_result"
    }
   ],
   "source": [
    "df_ESFJ.iloc[3,1]"
   ]
  },
  {
   "cell_type": "code",
   "execution_count": 512,
   "metadata": {
    "scrolled": false
   },
   "outputs": [
    {
     "data": {
      "text/html": [
       "<div>\n",
       "<style scoped>\n",
       "    .dataframe tbody tr th:only-of-type {\n",
       "        vertical-align: middle;\n",
       "    }\n",
       "\n",
       "    .dataframe tbody tr th {\n",
       "        vertical-align: top;\n",
       "    }\n",
       "\n",
       "    .dataframe thead th {\n",
       "        text-align: right;\n",
       "    }\n",
       "</style>\n",
       "<table border=\"1\" class=\"dataframe\">\n",
       "  <thead>\n",
       "    <tr style=\"text-align: right;\">\n",
       "      <th></th>\n",
       "      <th>timestamp</th>\n",
       "      <th>tweet_text</th>\n",
       "      <th>username</th>\n",
       "      <th>image</th>\n",
       "      <th>ollowers_count</th>\n",
       "    </tr>\n",
       "  </thead>\n",
       "  <tbody>\n",
       "    <tr>\n",
       "      <th>0</th>\n",
       "      <td>Wed Jul 03 09:51:35 +0000 2019</td>\n",
       "      <td>S vs N at the summer cottage.\\nENFP: How long ...</td>\n",
       "      <td>Sagotantenett</td>\n",
       "      <td>http://pbs.twimg.com/profile_images/6351313827...</td>\n",
       "      <td>18</td>\n",
       "    </tr>\n",
       "    <tr>\n",
       "      <th>1</th>\n",
       "      <td>Tue Jul 02 18:17:21 +0000 2019</td>\n",
       "      <td>I am ESFJ and I got sailor Jupiter!\\nHere’s th...</td>\n",
       "      <td>KagurasDream</td>\n",
       "      <td>http://pbs.twimg.com/profile_images/1143893596...</td>\n",
       "      <td>1895</td>\n",
       "    </tr>\n",
       "    <tr>\n",
       "      <th>2</th>\n",
       "      <td>Tue Jul 02 01:25:48 +0000 2019</td>\n",
       "      <td>@MattWaters9 I am an ESFJ!</td>\n",
       "      <td>IrishHoneyDip</td>\n",
       "      <td>http://pbs.twimg.com/profile_images/1142952533...</td>\n",
       "      <td>1658</td>\n",
       "    </tr>\n",
       "    <tr>\n",
       "      <th>3</th>\n",
       "      <td>Sat Jun 29 21:01:09 +0000 2019</td>\n",
       "      <td>@cathyknightscot Now obsessively googling ESFJ...</td>\n",
       "      <td>amymeganbrown</td>\n",
       "      <td>http://pbs.twimg.com/profile_images/1143969577...</td>\n",
       "      <td>113</td>\n",
       "    </tr>\n",
       "    <tr>\n",
       "      <th>4</th>\n",
       "      <td>Sat Jun 29 16:40:48 +0000 2019</td>\n",
       "      <td>In an alternative universe, I am ESFJ.\\n\\nImag...</td>\n",
       "      <td>JohannesPinina</td>\n",
       "      <td>http://pbs.twimg.com/profile_images/1067147954...</td>\n",
       "      <td>603</td>\n",
       "    </tr>\n",
       "    <tr>\n",
       "      <th>5</th>\n",
       "      <td>Sat Jun 29 04:21:20 +0000 2019</td>\n",
       "      <td>Personalities are fascinating to me. The more ...</td>\n",
       "      <td>CarissaRaye68</td>\n",
       "      <td>http://pbs.twimg.com/profile_images/1132827578...</td>\n",
       "      <td>37</td>\n",
       "    </tr>\n",
       "    <tr>\n",
       "      <th>6</th>\n",
       "      <td>Fri Jun 28 12:35:52 +0000 2019</td>\n",
       "      <td>so um she's an esfj...............for referenc...</td>\n",
       "      <td>swainashleyyyy</td>\n",
       "      <td>http://pbs.twimg.com/profile_images/1145358709...</td>\n",
       "      <td>222</td>\n",
       "    </tr>\n",
       "    <tr>\n",
       "      <th>7</th>\n",
       "      <td>Thu Jun 27 20:11:07 +0000 2019</td>\n",
       "      <td>@andreia_nichols @mworkwork Nice! I am ESFJ as...</td>\n",
       "      <td>hailleymari</td>\n",
       "      <td>http://pbs.twimg.com/profile_images/1118729261...</td>\n",
       "      <td>4942</td>\n",
       "    </tr>\n",
       "    <tr>\n",
       "      <th>8</th>\n",
       "      <td>Wed Jun 26 09:15:34 +0000 2019</td>\n",
       "      <td>Last night i was reading description of INFP, ...</td>\n",
       "      <td>flowerlec</td>\n",
       "      <td>http://pbs.twimg.com/profile_images/1103321841...</td>\n",
       "      <td>168</td>\n",
       "    </tr>\n",
       "    <tr>\n",
       "      <th>9</th>\n",
       "      <td>Wed Jun 26 01:37:36 +0000 2019</td>\n",
       "      <td>Based on this test I just took, it said I am a...</td>\n",
       "      <td>DaCapricorn</td>\n",
       "      <td>http://pbs.twimg.com/profile_images/6461292295...</td>\n",
       "      <td>814</td>\n",
       "    </tr>\n",
       "    <tr>\n",
       "      <th>10</th>\n",
       "      <td>Tue Jun 25 01:31:09 +0000 2019</td>\n",
       "      <td>they gave me: straight as a pole\\ni am: lil bi...</td>\n",
       "      <td>lazypotato_12</td>\n",
       "      <td>http://pbs.twimg.com/profile_images/1143350355...</td>\n",
       "      <td>62</td>\n",
       "    </tr>\n",
       "  </tbody>\n",
       "</table>\n",
       "</div>"
      ],
      "text/plain": [
       "                         timestamp  \\\n",
       "0   Wed Jul 03 09:51:35 +0000 2019   \n",
       "1   Tue Jul 02 18:17:21 +0000 2019   \n",
       "2   Tue Jul 02 01:25:48 +0000 2019   \n",
       "3   Sat Jun 29 21:01:09 +0000 2019   \n",
       "4   Sat Jun 29 16:40:48 +0000 2019   \n",
       "5   Sat Jun 29 04:21:20 +0000 2019   \n",
       "6   Fri Jun 28 12:35:52 +0000 2019   \n",
       "7   Thu Jun 27 20:11:07 +0000 2019   \n",
       "8   Wed Jun 26 09:15:34 +0000 2019   \n",
       "9   Wed Jun 26 01:37:36 +0000 2019   \n",
       "10  Tue Jun 25 01:31:09 +0000 2019   \n",
       "\n",
       "                                           tweet_text        username  \\\n",
       "0   S vs N at the summer cottage.\\nENFP: How long ...   Sagotantenett   \n",
       "1   I am ESFJ and I got sailor Jupiter!\\nHere’s th...    KagurasDream   \n",
       "2                          @MattWaters9 I am an ESFJ!   IrishHoneyDip   \n",
       "3   @cathyknightscot Now obsessively googling ESFJ...   amymeganbrown   \n",
       "4   In an alternative universe, I am ESFJ.\\n\\nImag...  JohannesPinina   \n",
       "5   Personalities are fascinating to me. The more ...   CarissaRaye68   \n",
       "6   so um she's an esfj...............for referenc...  swainashleyyyy   \n",
       "7   @andreia_nichols @mworkwork Nice! I am ESFJ as...     hailleymari   \n",
       "8   Last night i was reading description of INFP, ...       flowerlec   \n",
       "9   Based on this test I just took, it said I am a...     DaCapricorn   \n",
       "10  they gave me: straight as a pole\\ni am: lil bi...   lazypotato_12   \n",
       "\n",
       "                                                image  ollowers_count  \n",
       "0   http://pbs.twimg.com/profile_images/6351313827...              18  \n",
       "1   http://pbs.twimg.com/profile_images/1143893596...            1895  \n",
       "2   http://pbs.twimg.com/profile_images/1142952533...            1658  \n",
       "3   http://pbs.twimg.com/profile_images/1143969577...             113  \n",
       "4   http://pbs.twimg.com/profile_images/1067147954...             603  \n",
       "5   http://pbs.twimg.com/profile_images/1132827578...              37  \n",
       "6   http://pbs.twimg.com/profile_images/1145358709...             222  \n",
       "7   http://pbs.twimg.com/profile_images/1118729261...            4942  \n",
       "8   http://pbs.twimg.com/profile_images/1103321841...             168  \n",
       "9   http://pbs.twimg.com/profile_images/6461292295...             814  \n",
       "10  http://pbs.twimg.com/profile_images/1143350355...              62  "
      ]
     },
     "execution_count": 512,
     "metadata": {},
     "output_type": "execute_result"
    }
   ],
   "source": [
    "df_ESFJ = pd.DataFrame()\n",
    "df_ESFJ['timestamp']=timestamp\n",
    "df_ESFJ['tweet_text']=tweet_text\n",
    "df_ESFJ['username']=username\n",
    "df_ESFJ['image']=image\n",
    "df_ESFJ['ollowers_count']=followers_count\n",
    "\n",
    "df_ESFJ"
   ]
  },
  {
   "cell_type": "code",
   "execution_count": 586,
   "metadata": {},
   "outputs": [],
   "source": [
    "import csv\n",
    "import os,re,csv\n",
    "p_type ='ESFJ'\n",
    "timeframe = 'Jun_25_Jul_03'\n",
    "fname = ('_'.join(p_type)+'_'+timeframe + '.csv')\n"
   ]
  },
  {
   "cell_type": "code",
   "execution_count": 591,
   "metadata": {},
   "outputs": [],
   "source": [
    "fname = ('_'.join(p_type)+'_'+timeframe + '.csv')\n",
    "df_ESFJ.to_csv(fname, index = None, header=True)\n"
   ]
  },
  {
   "cell_type": "code",
   "execution_count": 592,
   "metadata": {},
   "outputs": [
    {
     "name": "stdout",
     "output_type": "stream",
     "text": [
      "                                           tweet_text\n",
      "0   S vs N at the summer cottage.\\nENFP: How long ...\n",
      "1   I am ESFJ and I got sailor Jupiter!\\nHere’s th...\n",
      "2                          @MattWaters9 I am an ESFJ!\n",
      "3   @cathyknightscot Now obsessively googling ESFJ...\n",
      "4   In an alternative universe, I am ESFJ.\\n\\nImag...\n",
      "5   Personalities are fascinating to me. The more ...\n",
      "6   so um she's an esfj...............for referenc...\n",
      "7   @andreia_nichols @mworkwork Nice! I am ESFJ as...\n",
      "8   Last night i was reading description of INFP, ...\n",
      "9   Based on this test I just took, it said I am a...\n",
      "10  they gave me: straight as a pole\\ni am: lil bi...\n"
     ]
    }
   ],
   "source": [
    "print(df_ESFJ[['tweet_text']])"
   ]
  },
  {
   "cell_type": "code",
   "execution_count": 500,
   "metadata": {},
   "outputs": [
    {
     "data": {
      "text/plain": [
       "'Sagotantenett'"
      ]
     },
     "execution_count": 500,
     "metadata": {},
     "output_type": "execute_result"
    }
   ],
   "source": [
    "tweets_data[0]['user']['screen_name']"
   ]
  },
  {
   "cell_type": "code",
   "execution_count": 480,
   "metadata": {},
   "outputs": [
    {
     "data": {
      "text/plain": [
       "<matplotlib.axes._subplots.AxesSubplot at 0x1a7a9ab7b8>"
      ]
     },
     "execution_count": 480,
     "metadata": {},
     "output_type": "execute_result"
    },
    {
     "data": {
      "image/png": "[encoded data removed]",
      "text/plain": [
       "<Figure size 432x288 with 1 Axes>"
      ]
     },
     "metadata": {
      "needs_background": "light"
     },
     "output_type": "display_data"
    }
   ],
   "source": [
    "tweets_by_lang = tweets['lang'].value_counts()\n",
    "\n",
    "fig, ax = plt.subplots()\n",
    "ax.tick_params(axis='x', labelsize=15)\n",
    "ax.tick_params(axis='y', labelsize=10)\n",
    "ax.set_xlabel('Languages', fontsize=15)\n",
    "ax.set_ylabel('Number of tweets' , fontsize=15)\n",
    "ax.set_title('Top 5 languages', fontsize=15, fontweight='bold')\n",
    "tweets_by_lang[:5].plot(ax=ax, kind='bar', color='red')"
   ]
  },
  {
   "cell_type": "markdown",
   "metadata": {},
   "source": [
    "https://stackoverflow.com/questions/899103/writing-a-list-to-a-file-with-python"
   ]
  },
  {
   "cell_type": "code",
   "execution_count": null,
   "metadata": {},
   "outputs": [],
   "source": [
    "Status(_api=<tweepy.api.API object at 0x1a7aa4ec18>, _json="
   ]
  },
  {
   "cell_type": "code",
   "execution_count": 437,
   "metadata": {},
   "outputs": [],
   "source": [
    "import pickle\n",
    "\n",
    "with open('all_ESFJ', 'wb') as fp:\n",
    "    pickle.dump(searched_tweets, fp)"
   ]
  },
  {
   "cell_type": "code",
   "execution_count": 438,
   "metadata": {},
   "outputs": [],
   "source": [
    "with open('all_ESFJ_1.txt', 'w') as f:\n",
    "    for item in searched_tweets:\n",
    "        f.write(\"%s\\n\" % item)"
   ]
  },
  {
   "cell_type": "code",
   "execution_count": 454,
   "metadata": {},
   "outputs": [
    {
     "data": {
      "text/plain": [
       "'all_ESFJ_1.txt'"
      ]
     },
     "execution_count": 454,
     "metadata": {},
     "output_type": "execute_result"
    }
   ],
   "source": [
    "tweets_data_path = 'all_ESFJ_1.txt'\n",
    "tweets_data_path"
   ]
  },
  {
   "cell_type": "code",
   "execution_count": 455,
   "metadata": {},
   "outputs": [
    {
     "name": "stdout",
     "output_type": "stream",
     "text": [
      "!!!!\n",
      "!!!!\n",
      "!!!!\n",
      "!!!!\n",
      "!!!!\n",
      "!!!!\n",
      "!!!!\n",
      "!!!!\n",
      "!!!!\n",
      "!!!!\n",
      "!!!!\n"
     ]
    }
   ],
   "source": [
    "\n",
    "\n",
    "tweets_data = []\n",
    "tweets_file = open(tweets_data_path, \"r\")\n",
    "for line in tweets_file:\n",
    "    try:\n",
    "        tweet = json.loads(line)\n",
    "        tweets_data.append(tweet)\n",
    "    except:\n",
    "        print('!!!!')\n",
    "        continue"
   ]
  },
  {
   "cell_type": "code",
   "execution_count": 456,
   "metadata": {},
   "outputs": [
    {
     "data": {
      "text/plain": [
       "[]"
      ]
     },
     "execution_count": 456,
     "metadata": {},
     "output_type": "execute_result"
    }
   ],
   "source": [
    "tweets_data"
   ]
  },
  {
   "cell_type": "code",
   "execution_count": 441,
   "metadata": {},
   "outputs": [],
   "source": [
    "ESFP_tweets = pd.DataFrame()"
   ]
  },
  {
   "cell_type": "code",
   "execution_count": 442,
   "metadata": {},
   "outputs": [],
   "source": [
    "ESFP_tweets['screen_name'] = map(lambda tweet: tweet['screen_name'], tweets_data)\n",
    "ESFP_tweets['text'] = map(lambda tweet: tweet['text'], tweets_data)\n",
    "ESFP_tweets['lang'] = map(lambda tweet: tweet['lang'], tweets_data)\n",
    "ESFP_tweets['country'] = map(lambda tweet: tweet['place']['country'] if tweet['place'] != None else None, tweets_data)"
   ]
  },
  {
   "cell_type": "code",
   "execution_count": 443,
   "metadata": {},
   "outputs": [
    {
     "data": {
      "text/html": [
       "<div>\n",
       "<style scoped>\n",
       "    .dataframe tbody tr th:only-of-type {\n",
       "        vertical-align: middle;\n",
       "    }\n",
       "\n",
       "    .dataframe tbody tr th {\n",
       "        vertical-align: top;\n",
       "    }\n",
       "\n",
       "    .dataframe thead th {\n",
       "        text-align: right;\n",
       "    }\n",
       "</style>\n",
       "<table border=\"1\" class=\"dataframe\">\n",
       "  <thead>\n",
       "    <tr style=\"text-align: right;\">\n",
       "      <th></th>\n",
       "      <th>screen_name</th>\n",
       "      <th>text</th>\n",
       "      <th>lang</th>\n",
       "      <th>country</th>\n",
       "    </tr>\n",
       "  </thead>\n",
       "  <tbody>\n",
       "  </tbody>\n",
       "</table>\n",
       "</div>"
      ],
      "text/plain": [
       "Empty DataFrame\n",
       "Columns: [screen_name, text, lang, country]\n",
       "Index: []"
      ]
     },
     "execution_count": 443,
     "metadata": {},
     "output_type": "execute_result"
    }
   ],
   "source": [
    "ESFP_tweets.head()"
   ]
  },
  {
   "cell_type": "code",
   "execution_count": 436,
   "metadata": {},
   "outputs": [
    {
     "ename": "TypeError",
     "evalue": "Object of type 'Status' is not JSON serializable",
     "output_type": "error",
     "traceback": [
      "\u001b[0;31m---------------------------------------------------------------------------\u001b[0m",
      "\u001b[0;31mTypeError\u001b[0m                                 Traceback (most recent call last)",
      "\u001b[0;32m<ipython-input-436-4aa139e9fe65>\u001b[0m in \u001b[0;36m<module>\u001b[0;34m\u001b[0m\n\u001b[1;32m      1\u001b[0m \u001b[0;32mimport\u001b[0m \u001b[0mjson\u001b[0m\u001b[0;34m\u001b[0m\u001b[0;34m\u001b[0m\u001b[0m\n\u001b[1;32m      2\u001b[0m \u001b[0;32mwith\u001b[0m \u001b[0mopen\u001b[0m\u001b[0;34m(\u001b[0m\u001b[0;34m'all_ESFJ.txt'\u001b[0m\u001b[0;34m,\u001b[0m \u001b[0;34m'w'\u001b[0m\u001b[0;34m)\u001b[0m \u001b[0;32mas\u001b[0m \u001b[0mf\u001b[0m\u001b[0;34m:\u001b[0m\u001b[0;34m\u001b[0m\u001b[0;34m\u001b[0m\u001b[0m\n\u001b[0;32m----> 3\u001b[0;31m     \u001b[0mf\u001b[0m\u001b[0;34m.\u001b[0m\u001b[0mwrite\u001b[0m\u001b[0;34m(\u001b[0m\u001b[0mjson\u001b[0m\u001b[0;34m.\u001b[0m\u001b[0mdumps\u001b[0m\u001b[0;34m(\u001b[0m\u001b[0msearched_tweets\u001b[0m\u001b[0;34m)\u001b[0m\u001b[0;34m)\u001b[0m\u001b[0;34m\u001b[0m\u001b[0;34m\u001b[0m\u001b[0m\n\u001b[0m",
      "\u001b[0;32m//anaconda/lib/python3.6/json/__init__.py\u001b[0m in \u001b[0;36mdumps\u001b[0;34m(obj, skipkeys, ensure_ascii, check_circular, allow_nan, cls, indent, separators, default, sort_keys, **kw)\u001b[0m\n\u001b[1;32m    229\u001b[0m         \u001b[0mcls\u001b[0m \u001b[0;32mis\u001b[0m \u001b[0;32mNone\u001b[0m \u001b[0;32mand\u001b[0m \u001b[0mindent\u001b[0m \u001b[0;32mis\u001b[0m \u001b[0;32mNone\u001b[0m \u001b[0;32mand\u001b[0m \u001b[0mseparators\u001b[0m \u001b[0;32mis\u001b[0m \u001b[0;32mNone\u001b[0m \u001b[0;32mand\u001b[0m\u001b[0;34m\u001b[0m\u001b[0;34m\u001b[0m\u001b[0m\n\u001b[1;32m    230\u001b[0m         default is None and not sort_keys and not kw):\n\u001b[0;32m--> 231\u001b[0;31m         \u001b[0;32mreturn\u001b[0m \u001b[0m_default_encoder\u001b[0m\u001b[0;34m.\u001b[0m\u001b[0mencode\u001b[0m\u001b[0;34m(\u001b[0m\u001b[0mobj\u001b[0m\u001b[0;34m)\u001b[0m\u001b[0;34m\u001b[0m\u001b[0;34m\u001b[0m\u001b[0m\n\u001b[0m\u001b[1;32m    232\u001b[0m     \u001b[0;32mif\u001b[0m \u001b[0mcls\u001b[0m \u001b[0;32mis\u001b[0m \u001b[0;32mNone\u001b[0m\u001b[0;34m:\u001b[0m\u001b[0;34m\u001b[0m\u001b[0;34m\u001b[0m\u001b[0m\n\u001b[1;32m    233\u001b[0m         \u001b[0mcls\u001b[0m \u001b[0;34m=\u001b[0m \u001b[0mJSONEncoder\u001b[0m\u001b[0;34m\u001b[0m\u001b[0;34m\u001b[0m\u001b[0m\n",
      "\u001b[0;32m//anaconda/lib/python3.6/json/encoder.py\u001b[0m in \u001b[0;36mencode\u001b[0;34m(self, o)\u001b[0m\n\u001b[1;32m    197\u001b[0m         \u001b[0;31m# exceptions aren't as detailed.  The list call should be roughly\u001b[0m\u001b[0;34m\u001b[0m\u001b[0;34m\u001b[0m\u001b[0;34m\u001b[0m\u001b[0m\n\u001b[1;32m    198\u001b[0m         \u001b[0;31m# equivalent to the PySequence_Fast that ''.join() would do.\u001b[0m\u001b[0;34m\u001b[0m\u001b[0;34m\u001b[0m\u001b[0;34m\u001b[0m\u001b[0m\n\u001b[0;32m--> 199\u001b[0;31m         \u001b[0mchunks\u001b[0m \u001b[0;34m=\u001b[0m \u001b[0mself\u001b[0m\u001b[0;34m.\u001b[0m\u001b[0miterencode\u001b[0m\u001b[0;34m(\u001b[0m\u001b[0mo\u001b[0m\u001b[0;34m,\u001b[0m \u001b[0m_one_shot\u001b[0m\u001b[0;34m=\u001b[0m\u001b[0;32mTrue\u001b[0m\u001b[0;34m)\u001b[0m\u001b[0;34m\u001b[0m\u001b[0;34m\u001b[0m\u001b[0m\n\u001b[0m\u001b[1;32m    200\u001b[0m         \u001b[0;32mif\u001b[0m \u001b[0;32mnot\u001b[0m \u001b[0misinstance\u001b[0m\u001b[0;34m(\u001b[0m\u001b[0mchunks\u001b[0m\u001b[0;34m,\u001b[0m \u001b[0;34m(\u001b[0m\u001b[0mlist\u001b[0m\u001b[0;34m,\u001b[0m \u001b[0mtuple\u001b[0m\u001b[0;34m)\u001b[0m\u001b[0;34m)\u001b[0m\u001b[0;34m:\u001b[0m\u001b[0;34m\u001b[0m\u001b[0;34m\u001b[0m\u001b[0m\n\u001b[1;32m    201\u001b[0m             \u001b[0mchunks\u001b[0m \u001b[0;34m=\u001b[0m \u001b[0mlist\u001b[0m\u001b[0;34m(\u001b[0m\u001b[0mchunks\u001b[0m\u001b[0;34m)\u001b[0m\u001b[0;34m\u001b[0m\u001b[0;34m\u001b[0m\u001b[0m\n",
      "\u001b[0;32m//anaconda/lib/python3.6/json/encoder.py\u001b[0m in \u001b[0;36miterencode\u001b[0;34m(self, o, _one_shot)\u001b[0m\n\u001b[1;32m    255\u001b[0m                 \u001b[0mself\u001b[0m\u001b[0;34m.\u001b[0m\u001b[0mkey_separator\u001b[0m\u001b[0;34m,\u001b[0m \u001b[0mself\u001b[0m\u001b[0;34m.\u001b[0m\u001b[0mitem_separator\u001b[0m\u001b[0;34m,\u001b[0m \u001b[0mself\u001b[0m\u001b[0;34m.\u001b[0m\u001b[0msort_keys\u001b[0m\u001b[0;34m,\u001b[0m\u001b[0;34m\u001b[0m\u001b[0;34m\u001b[0m\u001b[0m\n\u001b[1;32m    256\u001b[0m                 self.skipkeys, _one_shot)\n\u001b[0;32m--> 257\u001b[0;31m         \u001b[0;32mreturn\u001b[0m \u001b[0m_iterencode\u001b[0m\u001b[0;34m(\u001b[0m\u001b[0mo\u001b[0m\u001b[0;34m,\u001b[0m \u001b[0;36m0\u001b[0m\u001b[0;34m)\u001b[0m\u001b[0;34m\u001b[0m\u001b[0;34m\u001b[0m\u001b[0m\n\u001b[0m\u001b[1;32m    258\u001b[0m \u001b[0;34m\u001b[0m\u001b[0m\n\u001b[1;32m    259\u001b[0m def _make_iterencode(markers, _default, _encoder, _indent, _floatstr,\n",
      "\u001b[0;32m//anaconda/lib/python3.6/json/encoder.py\u001b[0m in \u001b[0;36mdefault\u001b[0;34m(self, o)\u001b[0m\n\u001b[1;32m    178\u001b[0m         \"\"\"\n\u001b[1;32m    179\u001b[0m         raise TypeError(\"Object of type '%s' is not JSON serializable\" %\n\u001b[0;32m--> 180\u001b[0;31m                         o.__class__.__name__)\n\u001b[0m\u001b[1;32m    181\u001b[0m \u001b[0;34m\u001b[0m\u001b[0m\n\u001b[1;32m    182\u001b[0m     \u001b[0;32mdef\u001b[0m \u001b[0mencode\u001b[0m\u001b[0;34m(\u001b[0m\u001b[0mself\u001b[0m\u001b[0;34m,\u001b[0m \u001b[0mo\u001b[0m\u001b[0;34m)\u001b[0m\u001b[0;34m:\u001b[0m\u001b[0;34m\u001b[0m\u001b[0;34m\u001b[0m\u001b[0m\n",
      "\u001b[0;31mTypeError\u001b[0m: Object of type 'Status' is not JSON serializable"
     ]
    }
   ],
   "source": [
    "import json\n",
    "with open('all_ESFJ.txt', 'w') as f:\n",
    "    f.write(json.dumps(searched_tweets))"
   ]
  },
  {
   "cell_type": "code",
   "execution_count": 435,
   "metadata": {},
   "outputs": [
    {
     "ename": "AttributeError",
     "evalue": "'Status' object has no attribute 'screen_name'",
     "output_type": "error",
     "traceback": [
      "\u001b[0;31m---------------------------------------------------------------------------\u001b[0m",
      "\u001b[0;31mAttributeError\u001b[0m                            Traceback (most recent call last)",
      "\u001b[0;32m<ipython-input-435-e4e8e0b499c5>\u001b[0m in \u001b[0;36m<module>\u001b[0;34m\u001b[0m\n\u001b[1;32m      3\u001b[0m     \u001b[0;31m## added the language requirement\u001b[0m\u001b[0;34m\u001b[0m\u001b[0;34m\u001b[0m\u001b[0;34m\u001b[0m\u001b[0m\n\u001b[1;32m      4\u001b[0m     \u001b[0;32mif\u001b[0m\u001b[0;34m(\u001b[0m\u001b[0mlen\u001b[0m\u001b[0;34m(\u001b[0m\u001b[0mtweet\u001b[0m\u001b[0;34m.\u001b[0m\u001b[0mtext\u001b[0m\u001b[0;34m)\u001b[0m\u001b[0;34m>\u001b[0m\u001b[0;36m0\u001b[0m\u001b[0;34m)\u001b[0m \u001b[0;32mand\u001b[0m \u001b[0mtweet\u001b[0m\u001b[0;34m.\u001b[0m\u001b[0mlang\u001b[0m \u001b[0;34m==\u001b[0m \u001b[0;34m\"en\"\u001b[0m\u001b[0;34m:\u001b[0m\u001b[0;34m\u001b[0m\u001b[0;34m\u001b[0m\u001b[0m\n\u001b[0;32m----> 5\u001b[0;31m         \u001b[0mouttweets\u001b[0m\u001b[0;34m.\u001b[0m\u001b[0mappend\u001b[0m\u001b[0;34m(\u001b[0m\u001b[0;34m[\u001b[0m\u001b[0mtweet\u001b[0m\u001b[0;34m.\u001b[0m\u001b[0mscreen_name\u001b[0m\u001b[0;34m,\u001b[0m\u001b[0mtweet\u001b[0m\u001b[0;34m.\u001b[0m\u001b[0mid_str\u001b[0m\u001b[0;34m,\u001b[0m \u001b[0mtweet\u001b[0m\u001b[0;34m.\u001b[0m\u001b[0mcreated_at\u001b[0m\u001b[0;34m,\u001b[0m\u001b[0mtweet\u001b[0m\u001b[0;34m.\u001b[0m\u001b[0mtext\u001b[0m\u001b[0;34m,\u001b[0m\u001b[0mtweet\u001b[0m\u001b[0;34m.\u001b[0m\u001b[0mfollowers_count\u001b[0m\u001b[0;34m,\u001b[0m\u001b[0mtweet\u001b[0m\u001b[0;34m.\u001b[0m\u001b[0mprofile_image_url\u001b[0m\u001b[0;34m]\u001b[0m\u001b[0;34m)\u001b[0m\u001b[0;34m\u001b[0m\u001b[0;34m\u001b[0m\u001b[0m\n\u001b[0m\u001b[1;32m      6\u001b[0m     \u001b[0;32melse\u001b[0m\u001b[0;34m:\u001b[0m\u001b[0;34m\u001b[0m\u001b[0;34m\u001b[0m\u001b[0m\n\u001b[1;32m      7\u001b[0m         \u001b[0mouttweets\u001b[0m\u001b[0;34m.\u001b[0m\u001b[0mappend\u001b[0m\u001b[0;34m(\u001b[0m\u001b[0;34m[\u001b[0m\u001b[0mtweet\u001b[0m\u001b[0;34m.\u001b[0m\u001b[0mscreen_name\u001b[0m\u001b[0;34m,\u001b[0m\u001b[0mtweet\u001b[0m\u001b[0;34m.\u001b[0m\u001b[0mid_str\u001b[0m\u001b[0;34m,\u001b[0m \u001b[0mtweet\u001b[0m\u001b[0;34m.\u001b[0m\u001b[0mcreated_at\u001b[0m\u001b[0;34m,\u001b[0m\u001b[0;34m''\u001b[0m\u001b[0;34m,\u001b[0m\u001b[0mtweet\u001b[0m\u001b[0;34m.\u001b[0m\u001b[0mfollowers_count\u001b[0m\u001b[0;34m,\u001b[0m\u001b[0mtweet\u001b[0m\u001b[0;34m.\u001b[0m\u001b[0mprofile_image_url\u001b[0m\u001b[0;34m]\u001b[0m\u001b[0;34m)\u001b[0m\u001b[0;34m\u001b[0m\u001b[0;34m\u001b[0m\u001b[0m\n",
      "\u001b[0;31mAttributeError\u001b[0m: 'Status' object has no attribute 'screen_name'"
     ]
    }
   ],
   "source": [
    "outtweets = []\n",
    "for tweet in searched_tweets:\n",
    "    ## added the language requirement\n",
    "    if(len(tweet.text)>0) and tweet.lang == \"en\":\n",
    "        outtweets.append([tweet.screen_name,tweet.id_str, tweet.created_at,tweet.text,tweet.followers_count,tweet.profile_image_url])\n",
    "    else:\n",
    "        outtweets.append([tweet.screen_name,tweet.id_str, tweet.created_at,'',tweet.followers_count,tweet.profile_image_url])\n",
    "\n",
    "    #print(\"we are here\")\n",
    "#write the csv\n",
    "    with open('%s.csv' % ESFJ, 'w', encoding='utf-8') as f:\n",
    "            writer = csv.writer(f, delimiter = ',')\n",
    "            writer.writerows(outtweets)\n"
   ]
  },
  {
   "cell_type": "code",
   "execution_count": 423,
   "metadata": {},
   "outputs": [
    {
     "ename": "AttributeError",
     "evalue": "'Status' object has no attribute 'AsDict'",
     "output_type": "error",
     "traceback": [
      "\u001b[0;31m---------------------------------------------------------------------------\u001b[0m",
      "\u001b[0;31mAttributeError\u001b[0m                            Traceback (most recent call last)",
      "\u001b[0;32m<ipython-input-423-301579fe4998>\u001b[0m in \u001b[0;36m<module>\u001b[0;34m\u001b[0m\n\u001b[0;32m----> 1\u001b[0;31m \u001b[0mtweets\u001b[0m \u001b[0;34m=\u001b[0m \u001b[0;34m[\u001b[0m\u001b[0mi\u001b[0m\u001b[0;34m.\u001b[0m\u001b[0mAsDict\u001b[0m\u001b[0;34m(\u001b[0m\u001b[0;34m)\u001b[0m \u001b[0;32mfor\u001b[0m \u001b[0mi\u001b[0m \u001b[0;32min\u001b[0m \u001b[0msearched_tweets\u001b[0m\u001b[0;34m]\u001b[0m\u001b[0;34m\u001b[0m\u001b[0;34m\u001b[0m\u001b[0m\n\u001b[0m",
      "\u001b[0;32m<ipython-input-423-301579fe4998>\u001b[0m in \u001b[0;36m<listcomp>\u001b[0;34m(.0)\u001b[0m\n\u001b[0;32m----> 1\u001b[0;31m \u001b[0mtweets\u001b[0m \u001b[0;34m=\u001b[0m \u001b[0;34m[\u001b[0m\u001b[0mi\u001b[0m\u001b[0;34m.\u001b[0m\u001b[0mAsDict\u001b[0m\u001b[0;34m(\u001b[0m\u001b[0;34m)\u001b[0m \u001b[0;32mfor\u001b[0m \u001b[0mi\u001b[0m \u001b[0;32min\u001b[0m \u001b[0msearched_tweets\u001b[0m\u001b[0;34m]\u001b[0m\u001b[0;34m\u001b[0m\u001b[0;34m\u001b[0m\u001b[0m\n\u001b[0m",
      "\u001b[0;31mAttributeError\u001b[0m: 'Status' object has no attribute 'AsDict'"
     ]
    }
   ],
   "source": [
    "\n",
    "userID = [i['user'][\"id\"] for i in tweets]\n",
    "\n",
    "#userGen = [i['user'][\"description\"] for i in tweets]\n",
    "userPhoto = [i['user'][\"profile_image_url\"] for i in tweets]\n",
    "\n",
    "created = [i[\"created_at\"] for i in tweets]\n",
    "#tweettext\n",
    "#userID\n",
    "len(userID)"
   ]
  },
  {
   "cell_type": "code",
   "execution_count": 399,
   "metadata": {},
   "outputs": [
    {
     "data": {
      "text/plain": [
       "user_id                                          2.65398e+07\n",
       "tweets     [@user @user He ain't winning with the Clipper...\n",
       "Name: camperry21, dtype: object"
      ]
     },
     "execution_count": 399,
     "metadata": {},
     "output_type": "execute_result"
    }
   ],
   "source": [
    "df_new_n.iloc[0, lambda df_new_n: [0,3]]"
   ]
  },
  {
   "cell_type": "code",
   "execution_count": null,
   "metadata": {},
   "outputs": [],
   "source": [
    "### Missing \"esfj\", \"esfp\", \"estp\""
   ]
  }
 ],
 "metadata": {
  "kernelspec": {
   "display_name": "Python 3",
   "language": "python",
   "name": "python3"
  },
  "language_info": {
   "codemirror_mode": {
    "name": "ipython",
    "version": 3
   },
   "file_extension": ".py",
   "mimetype": "text/x-python",
   "name": "python",
   "nbconvert_exporter": "python",
   "pygments_lexer": "ipython3",
   "version": "3.6.8"
  }
 },
 "nbformat": 4,
 "nbformat_minor": 2
}
