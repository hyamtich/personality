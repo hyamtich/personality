{
 "cells": [
  {
   "cell_type": "markdown",
   "metadata": {},
   "source": [
    "# imports"
   ]
  },
  {
   "cell_type": "code",
   "execution_count": 2,
   "metadata": {},
   "outputs": [],
   "source": [
    "import csv\n",
    "import os,re,csv\n",
    "from nltk.tokenize import RegexpTokenizer\n",
    "from stop_words import get_stop_words\n",
    "from nltk.stem.porter import PorterStemmer\n",
    "from sklearn.feature_extraction.text import TfidfVectorizer, CountVectorizer\n",
    "from gensim import corpora, models\n",
    "import gensim\n",
    "import numpy as np\n",
    "import scipy\n",
    "import math\n",
    "import matplotlib.pyplot as plt\n",
    "import plotly.plotly as py\n",
    "import twitter\n",
    "import json\n",
    "import pandas as pd"
   ]
  },
  {
   "cell_type": "code",
   "execution_count": 3,
   "metadata": {},
   "outputs": [],
   "source": [
    "import tweepy\n",
    "import csv\n",
    "import json"
   ]
  },
  {
   "cell_type": "markdown",
   "metadata": {},
   "source": [
    "# setting up the csv files"
   ]
  },
  {
   "cell_type": "markdown",
   "metadata": {},
   "source": [
    "## Start (added by Natallia)"
   ]
  },
  {
   "cell_type": "code",
   "execution_count": 3,
   "metadata": {},
   "outputs": [
    {
     "name": "stdout",
     "output_type": "stream",
     "text": [
      "/Users/Natallia/Documents/R/W210_capstone/Project/personality\r\n"
     ]
    }
   ],
   "source": [
    "!pwd"
   ]
  },
  {
   "cell_type": "code",
   "execution_count": 5,
   "metadata": {},
   "outputs": [],
   "source": [
    "#!ls -l"
   ]
  },
  {
   "cell_type": "code",
   "execution_count": 6,
   "metadata": {},
   "outputs": [],
   "source": [
    "## CSV folder have all scv files starts with 'b..."
   ]
  },
  {
   "cell_type": "markdown",
   "metadata": {},
   "source": [
    "#### Rename original files"
   ]
  },
  {
   "cell_type": "code",
   "execution_count": 108,
   "metadata": {},
   "outputs": [
    {
     "data": {
      "text/plain": [
       "[\"b'E_N_F_J_Jun_6_30'.csv\",\n",
       " \"b'I_S_T_P_Jun_6_23'.csv\",\n",
       " \"b'E_N_T_P_Jun_6_15'.csv\",\n",
       " \"b'E_N_T_P_Jun_6_23'.csv\"]"
      ]
     },
     "execution_count": 108,
     "metadata": {},
     "output_type": "execute_result"
    }
   ],
   "source": [
    "os.chdir('/Users/Natallia/Documents/R/W210_capstone/Project/personality/CSV')\n",
    "originals = []\n",
    "for f in os.listdir():\n",
    "    #print(f)\n",
    "    originals.append(f)\n",
    "originals[:4]\n",
    "    "
   ]
  },
  {
   "cell_type": "code",
   "execution_count": 31,
   "metadata": {},
   "outputs": [
    {
     "name": "stdout",
     "output_type": "stream",
     "text": [
      "E_S_T_J_Jun_6_15 .csv\n",
      "E_S_T_P_Jun_6_30 .csv\n",
      "E_S_F_J_Jun_6_23 .csv\n",
      "I_S_T_J_Jun_6_30 .csv\n",
      "I_S_F_P_Jun_6_23 .csv\n",
      "I_S_T_P_Jun_6_15 .csv\n",
      "E_S_F_J_Jun_6_30 .csv\n",
      "E_S_T_P_Jun_6_23 .csv\n",
      "E_S_F_P_Jun_6_15 .csv\n",
      "I_S_F_J_Jun_6_15 .csv\n",
      "I_S_F_P_Jun_6_30 .csv\n",
      "I_S_T_J_Jun_6_23 .csv\n",
      "I_N_T_P_Jun_6_23 .csv\n",
      "I_N_F_J_Jun_6_30 .csv\n",
      "I_N_F_P_Jun_6_15 .csv\n",
      "E_N_F_J_Jun_6_15 .csv\n",
      "E_N_T_J_Jun_6_23 .csv\n",
      "E_N_F_P_Jun_6_30 .csv\n",
      "i_n_t_j_Jun_6_15 .csv\n",
      "I_N_F_J_Jun_6_23 .csv\n",
      "I_N_T_P_Jun_6_30 .csv\n",
      "E_N_F_P_Jun_6_23 .csv\n",
      "E_N_T_J_Jun_6_30 .csv\n",
      "E_N_T_P_Jun_6_15 .csv\n",
      "E_N_F_J_Jun_6_23 .csv\n",
      "E_N_T_P_Jun_6_30 .csv\n",
      "E_N_T_J_Jun_6_15 .csv\n",
      "I_N_T_P_Jun_6_15 .csv\n",
      "I_N_F_P_Jun_6_23 .csv\n",
      "I_N_T_J_Jun_6_30 .csv\n",
      "E_N_F_P_Jun_6_15 .csv\n",
      "E_N_T_P_Jun_6_23 .csv\n",
      "E_N_F_J_Jun_6_30 .csv\n",
      "I_N_T_J_Jun_6_23 .csv\n",
      "I_N_F_P_Jun_6_30 .csv\n",
      "I_N_F_J_Jun_6_15 .csv\n",
      "I_S_F_P_Jun_6_15 .csv\n",
      "I_S_F_J_Jun_6_30 .csv\n",
      "I_S_T_P_Jun_6_23 .csv\n",
      "E_S_F_P_Jun_6_30 .csv\n",
      "E_S_T_J_Jun_6_23 .csv\n",
      "E_S_F_J_Jun_6_15 .csv\n",
      "I_S_T_P_Jun_6_30 .csv\n",
      "I_S_F_J_Jun_6_23 .csv\n",
      "I_S_T_J_Jun_6_15 .csv\n",
      "E_S_T_P_Jun_6_15 .csv\n",
      "E_S_T_J_Jun_6_30 .csv\n",
      "E_S_F_P_Jun_6_23 .csv\n"
     ]
    }
   ],
   "source": [
    "import os\n",
    "os.chdir('/Users/Natallia/Documents/R/W210_capstone/Project/personality/CSV')\n",
    "for f in os.listdir():\n",
    "    file_n,file_ext = os.path.splitext(f)\n",
    "    #print(file_n,file_ext)\n",
    "    file_n = str(file_n.strip(\"b'\"))\n",
    "    new = '{}{}'.format(file_n,file_ext)\n",
    "    os.rename(f,new)\n",
    "    \n",
    "    print(file_n,file_ext)\n",
    "    "
   ]
  },
  {
   "cell_type": "markdown",
   "metadata": {},
   "source": [
    "http://jonathansoma.com/lede/foundations-2017/classes/working-with-many-files/class/"
   ]
  },
  {
   "cell_type": "code",
   "execution_count": 32,
   "metadata": {},
   "outputs": [
    {
     "data": {
      "text/plain": [
       "['E_S_T_J_Jun_6_15.csv',\n",
       " 'E_S_T_P_Jun_6_30.csv',\n",
       " 'E_S_F_J_Jun_6_23.csv',\n",
       " 'I_S_T_J_Jun_6_30.csv',\n",
       " 'I_S_F_P_Jun_6_23.csv',\n",
       " 'I_S_T_P_Jun_6_15.csv',\n",
       " 'E_S_F_J_Jun_6_30.csv',\n",
       " 'E_S_T_P_Jun_6_23.csv',\n",
       " 'E_S_F_P_Jun_6_15.csv',\n",
       " 'I_S_F_J_Jun_6_15.csv',\n",
       " 'I_S_F_P_Jun_6_30.csv',\n",
       " 'I_S_T_J_Jun_6_23.csv',\n",
       " 'I_N_T_P_Jun_6_23.csv',\n",
       " 'I_N_F_J_Jun_6_30.csv',\n",
       " 'I_N_F_P_Jun_6_15.csv',\n",
       " 'E_N_F_J_Jun_6_15.csv',\n",
       " 'E_N_T_J_Jun_6_23.csv',\n",
       " 'E_N_F_P_Jun_6_30.csv',\n",
       " 'i_n_t_j_Jun_6_15.csv',\n",
       " 'I_N_F_J_Jun_6_23.csv',\n",
       " 'I_N_T_P_Jun_6_30.csv',\n",
       " 'E_N_F_P_Jun_6_23.csv',\n",
       " 'E_N_T_J_Jun_6_30.csv',\n",
       " 'E_N_T_P_Jun_6_15.csv',\n",
       " 'E_N_F_J_Jun_6_23.csv',\n",
       " 'E_N_T_P_Jun_6_30.csv',\n",
       " 'E_N_T_J_Jun_6_15.csv',\n",
       " 'I_N_T_P_Jun_6_15.csv',\n",
       " 'I_N_F_P_Jun_6_23.csv',\n",
       " 'I_N_T_J_Jun_6_30.csv',\n",
       " 'E_N_F_P_Jun_6_15.csv',\n",
       " 'E_N_T_P_Jun_6_23.csv',\n",
       " 'E_N_F_J_Jun_6_30.csv',\n",
       " 'I_N_T_J_Jun_6_23.csv',\n",
       " 'I_N_F_P_Jun_6_30.csv',\n",
       " 'I_N_F_J_Jun_6_15.csv',\n",
       " 'I_S_F_P_Jun_6_15.csv',\n",
       " 'I_S_F_J_Jun_6_30.csv',\n",
       " 'I_S_T_P_Jun_6_23.csv',\n",
       " 'E_S_F_P_Jun_6_30.csv',\n",
       " 'E_S_T_J_Jun_6_23.csv',\n",
       " 'E_S_F_J_Jun_6_15.csv',\n",
       " 'I_S_T_P_Jun_6_30.csv',\n",
       " 'I_S_F_J_Jun_6_23.csv',\n",
       " 'I_S_T_J_Jun_6_15.csv',\n",
       " 'E_S_T_P_Jun_6_15.csv',\n",
       " 'E_S_T_J_Jun_6_30.csv',\n",
       " 'E_S_F_P_Jun_6_23.csv']"
      ]
     },
     "execution_count": 32,
     "metadata": {},
     "output_type": "execute_result"
    }
   ],
   "source": [
    "import glob\n",
    "\n",
    "# The * is not a regex, it just means \"match anything\"\n",
    "# This matches datafile-0.csv, datafile-1.csv, etc.\n",
    "glob.glob(\"*_*.csv\")"
   ]
  },
  {
   "cell_type": "code",
   "execution_count": 4,
   "metadata": {},
   "outputs": [],
   "source": [
    "## add more time frames//\n",
    "time_frames = ['Jun_6_15','Jun_6_23','Jun_6_30']"
   ]
  },
  {
   "cell_type": "code",
   "execution_count": 5,
   "metadata": {},
   "outputs": [],
   "source": [
    "p_types = 'ISTJ,ISFJ,INFJ,INTJ,ISTP,ISFP,INFP,INTP,ESTP,ESFP,ENFP,ENTP,ESTJ,ESFJ,ENFJ,ENTJ'\n",
    "## transformed into python list\n",
    "p_list = p_types.split(',', 16)\n",
    "#len(p_list)\n",
    "#p_list\n",
    "\n"
   ]
  },
  {
   "cell_type": "markdown",
   "metadata": {},
   "source": [
    "### create a list of file names that include personality type + time frame\n",
    "\n"
   ]
  },
  {
   "cell_type": "code",
   "execution_count": 6,
   "metadata": {},
   "outputs": [],
   "source": [
    "file_names = []\n",
    "for tf in time_frames:\n",
    "    for pt in p_list:\n",
    "        file_names.append('_'.join(pt)+'_'+ tf + '.csv')\n",
    "    "
   ]
  },
  {
   "cell_type": "code",
   "execution_count": 7,
   "metadata": {},
   "outputs": [
    {
     "data": {
      "text/plain": [
       "['I_S_T_J_Jun_6_15.csv', 'I_S_F_J_Jun_6_15.csv', 'I_N_F_J_Jun_6_15.csv']"
      ]
     },
     "execution_count": 7,
     "metadata": {},
     "output_type": "execute_result"
    }
   ],
   "source": [
    "file_names[:3]"
   ]
  },
  {
   "cell_type": "markdown",
   "metadata": {},
   "source": [
    "### Create list of dataframes for processing"
   ]
  },
  {
   "cell_type": "code",
   "execution_count": 8,
   "metadata": {},
   "outputs": [],
   "source": [
    "list_of_dfs = [pd.read_csv(fn,\\\n",
    "            dtype={'tweet_text': str,'username':str,'followers_count': int}) for fn in file_names]\n",
    "\n"
   ]
  },
  {
   "cell_type": "code",
   "execution_count": 9,
   "metadata": {
    "scrolled": true
   },
   "outputs": [
    {
     "data": {
      "text/html": [
       "<div>\n",
       "<style scoped>\n",
       "    .dataframe tbody tr th:only-of-type {\n",
       "        vertical-align: middle;\n",
       "    }\n",
       "\n",
       "    .dataframe tbody tr th {\n",
       "        vertical-align: top;\n",
       "    }\n",
       "\n",
       "    .dataframe thead th {\n",
       "        text-align: right;\n",
       "    }\n",
       "</style>\n",
       "<table border=\"1\" class=\"dataframe\">\n",
       "  <thead>\n",
       "    <tr style=\"text-align: right;\">\n",
       "      <th></th>\n",
       "      <th>timestamp</th>\n",
       "      <th>tweet_text</th>\n",
       "      <th>username</th>\n",
       "      <th>image</th>\n",
       "      <th>followers_count</th>\n",
       "    </tr>\n",
       "  </thead>\n",
       "  <tbody>\n",
       "    <tr>\n",
       "      <th>0</th>\n",
       "      <td>2019-06-15 23:44:16</td>\n",
       "      <td>b\"Just wanna share that i am an ISTJ short for...</td>\n",
       "      <td>b'luripilsin'</td>\n",
       "      <td>http://pbs.twimg.com/profile_images/1131020082...</td>\n",
       "      <td>937</td>\n",
       "    </tr>\n",
       "  </tbody>\n",
       "</table>\n",
       "</div>"
      ],
      "text/plain": [
       "             timestamp                                         tweet_text  \\\n",
       "0  2019-06-15 23:44:16  b\"Just wanna share that i am an ISTJ short for...   \n",
       "\n",
       "        username                                              image  \\\n",
       "0  b'luripilsin'  http://pbs.twimg.com/profile_images/1131020082...   \n",
       "\n",
       "   followers_count  \n",
       "0              937  "
      ]
     },
     "execution_count": 9,
     "metadata": {},
     "output_type": "execute_result"
    }
   ],
   "source": [
    "list_of_dfs[0]"
   ]
  },
  {
   "cell_type": "markdown",
   "metadata": {},
   "source": [
    "#### assign the last  column to be file name "
   ]
  },
  {
   "cell_type": "code",
   "execution_count": 10,
   "metadata": {},
   "outputs": [],
   "source": [
    "for dataframe, filename in zip(list_of_dfs, file_names):\n",
    "    dataframe['filename'] = filename"
   ]
  },
  {
   "cell_type": "code",
   "execution_count": 11,
   "metadata": {
    "scrolled": false
   },
   "outputs": [
    {
     "data": {
      "text/html": [
       "<div>\n",
       "<style scoped>\n",
       "    .dataframe tbody tr th:only-of-type {\n",
       "        vertical-align: middle;\n",
       "    }\n",
       "\n",
       "    .dataframe tbody tr th {\n",
       "        vertical-align: top;\n",
       "    }\n",
       "\n",
       "    .dataframe thead th {\n",
       "        text-align: right;\n",
       "    }\n",
       "</style>\n",
       "<table border=\"1\" class=\"dataframe\">\n",
       "  <thead>\n",
       "    <tr style=\"text-align: right;\">\n",
       "      <th></th>\n",
       "      <th>timestamp</th>\n",
       "      <th>tweet_text</th>\n",
       "      <th>username</th>\n",
       "      <th>image</th>\n",
       "      <th>followers_count</th>\n",
       "      <th>filename</th>\n",
       "    </tr>\n",
       "  </thead>\n",
       "  <tbody>\n",
       "    <tr>\n",
       "      <th>0</th>\n",
       "      <td>2019-06-25 23:53:39</td>\n",
       "      <td>b'@EdLatimore My late mother was an ENTJ. I am...</td>\n",
       "      <td>b'RassGlass'</td>\n",
       "      <td>http://pbs.twimg.com/profile_images/1124621789...</td>\n",
       "      <td>111</td>\n",
       "      <td>E_N_T_J_Jun_6_30.csv</td>\n",
       "    </tr>\n",
       "    <tr>\n",
       "      <th>1</th>\n",
       "      <td>2019-06-25 18:08:22</td>\n",
       "      <td>b'@EdLatimore I am an ENTJ and fit the descrip...</td>\n",
       "      <td>b'J_Immormino'</td>\n",
       "      <td>http://pbs.twimg.com/profile_images/1131228408...</td>\n",
       "      <td>111</td>\n",
       "      <td>E_N_T_J_Jun_6_30.csv</td>\n",
       "    </tr>\n",
       "    <tr>\n",
       "      <th>2</th>\n",
       "      <td>2019-06-21 15:11:05</td>\n",
       "      <td>b'@tipsymerlot Yes! I am an entj \\xf0\\x9f\\x92\\...</td>\n",
       "      <td>b'blaxmatcha'</td>\n",
       "      <td>http://pbs.twimg.com/profile_images/1145276678...</td>\n",
       "      <td>2963</td>\n",
       "      <td>E_N_T_J_Jun_6_30.csv</td>\n",
       "    </tr>\n",
       "  </tbody>\n",
       "</table>\n",
       "</div>"
      ],
      "text/plain": [
       "             timestamp                                         tweet_text  \\\n",
       "0  2019-06-25 23:53:39  b'@EdLatimore My late mother was an ENTJ. I am...   \n",
       "1  2019-06-25 18:08:22  b'@EdLatimore I am an ENTJ and fit the descrip...   \n",
       "2  2019-06-21 15:11:05  b'@tipsymerlot Yes! I am an entj \\xf0\\x9f\\x92\\...   \n",
       "\n",
       "         username                                              image  \\\n",
       "0    b'RassGlass'  http://pbs.twimg.com/profile_images/1124621789...   \n",
       "1  b'J_Immormino'  http://pbs.twimg.com/profile_images/1131228408...   \n",
       "2   b'blaxmatcha'  http://pbs.twimg.com/profile_images/1145276678...   \n",
       "\n",
       "   followers_count              filename  \n",
       "0              111  E_N_T_J_Jun_6_30.csv  \n",
       "1              111  E_N_T_J_Jun_6_30.csv  \n",
       "2             2963  E_N_T_J_Jun_6_30.csv  "
      ]
     },
     "execution_count": 11,
     "metadata": {},
     "output_type": "execute_result"
    }
   ],
   "source": [
    "list_of_dfs[-1]"
   ]
  },
  {
   "cell_type": "markdown",
   "metadata": {},
   "source": [
    "### concatenate all df"
   ]
  },
  {
   "cell_type": "code",
   "execution_count": 12,
   "metadata": {
    "scrolled": true
   },
   "outputs": [
    {
     "data": {
      "text/html": [
       "<div>\n",
       "<style scoped>\n",
       "    .dataframe tbody tr th:only-of-type {\n",
       "        vertical-align: middle;\n",
       "    }\n",
       "\n",
       "    .dataframe tbody tr th {\n",
       "        vertical-align: top;\n",
       "    }\n",
       "\n",
       "    .dataframe thead th {\n",
       "        text-align: right;\n",
       "    }\n",
       "</style>\n",
       "<table border=\"1\" class=\"dataframe\">\n",
       "  <thead>\n",
       "    <tr style=\"text-align: right;\">\n",
       "      <th></th>\n",
       "      <th>timestamp</th>\n",
       "      <th>tweet_text</th>\n",
       "      <th>username</th>\n",
       "      <th>image</th>\n",
       "      <th>followers_count</th>\n",
       "      <th>filename</th>\n",
       "    </tr>\n",
       "  </thead>\n",
       "  <tbody>\n",
       "    <tr>\n",
       "      <th>0</th>\n",
       "      <td>2019-06-15 23:44:16</td>\n",
       "      <td>b\"Just wanna share that i am an ISTJ short for...</td>\n",
       "      <td>b'luripilsin'</td>\n",
       "      <td>http://pbs.twimg.com/profile_images/1131020082...</td>\n",
       "      <td>937</td>\n",
       "      <td>I_S_T_J_Jun_6_15.csv</td>\n",
       "    </tr>\n",
       "    <tr>\n",
       "      <th>1</th>\n",
       "      <td>2019-06-14 21:34:45</td>\n",
       "      <td>b\"I don't understand... i'm so fucking lost, w...</td>\n",
       "      <td>b'heiseinbitch'</td>\n",
       "      <td>http://pbs.twimg.com/profile_images/1097456689...</td>\n",
       "      <td>233</td>\n",
       "      <td>I_N_F_J_Jun_6_15.csv</td>\n",
       "    </tr>\n",
       "  </tbody>\n",
       "</table>\n",
       "</div>"
      ],
      "text/plain": [
       "             timestamp                                         tweet_text  \\\n",
       "0  2019-06-15 23:44:16  b\"Just wanna share that i am an ISTJ short for...   \n",
       "1  2019-06-14 21:34:45  b\"I don't understand... i'm so fucking lost, w...   \n",
       "\n",
       "          username                                              image  \\\n",
       "0    b'luripilsin'  http://pbs.twimg.com/profile_images/1131020082...   \n",
       "1  b'heiseinbitch'  http://pbs.twimg.com/profile_images/1097456689...   \n",
       "\n",
       "   followers_count              filename  \n",
       "0              937  I_S_T_J_Jun_6_15.csv  \n",
       "1              233  I_N_F_J_Jun_6_15.csv  "
      ]
     },
     "execution_count": 12,
     "metadata": {},
     "output_type": "execute_result"
    }
   ],
   "source": [
    "df_NS = pd.concat(list_of_dfs, ignore_index=True)\n",
    "df_NS.head(2)"
   ]
  },
  {
   "cell_type": "code",
   "execution_count": 13,
   "metadata": {
    "scrolled": false
   },
   "outputs": [],
   "source": [
    "df_NS['Personality'] = df_NS['filename'].apply(lambda x: x[:7][::2].lower())"
   ]
  },
  {
   "cell_type": "code",
   "execution_count": 14,
   "metadata": {},
   "outputs": [],
   "source": [
    "df = df_NS.drop(['timestamp','tweet_text','filename'],axis=1)"
   ]
  },
  {
   "cell_type": "code",
   "execution_count": 15,
   "metadata": {},
   "outputs": [
    {
     "data": {
      "text/html": [
       "<div>\n",
       "<style scoped>\n",
       "    .dataframe tbody tr th:only-of-type {\n",
       "        vertical-align: middle;\n",
       "    }\n",
       "\n",
       "    .dataframe tbody tr th {\n",
       "        vertical-align: top;\n",
       "    }\n",
       "\n",
       "    .dataframe thead th {\n",
       "        text-align: right;\n",
       "    }\n",
       "</style>\n",
       "<table border=\"1\" class=\"dataframe\">\n",
       "  <thead>\n",
       "    <tr style=\"text-align: right;\">\n",
       "      <th></th>\n",
       "      <th>username</th>\n",
       "      <th>image</th>\n",
       "      <th>followers_count</th>\n",
       "      <th>Personality</th>\n",
       "    </tr>\n",
       "  </thead>\n",
       "  <tbody>\n",
       "    <tr>\n",
       "      <th>170</th>\n",
       "      <td>b'readwithanna'</td>\n",
       "      <td>http://pbs.twimg.com/profile_images/1118231210...</td>\n",
       "      <td>18</td>\n",
       "      <td>enfj</td>\n",
       "    </tr>\n",
       "    <tr>\n",
       "      <th>171</th>\n",
       "      <td>b'meliekfilms'</td>\n",
       "      <td>http://pbs.twimg.com/profile_images/9394471442...</td>\n",
       "      <td>72</td>\n",
       "      <td>enfj</td>\n",
       "    </tr>\n",
       "    <tr>\n",
       "      <th>172</th>\n",
       "      <td>b'RassGlass'</td>\n",
       "      <td>http://pbs.twimg.com/profile_images/1124621789...</td>\n",
       "      <td>111</td>\n",
       "      <td>entj</td>\n",
       "    </tr>\n",
       "    <tr>\n",
       "      <th>173</th>\n",
       "      <td>b'J_Immormino'</td>\n",
       "      <td>http://pbs.twimg.com/profile_images/1131228408...</td>\n",
       "      <td>111</td>\n",
       "      <td>entj</td>\n",
       "    </tr>\n",
       "    <tr>\n",
       "      <th>174</th>\n",
       "      <td>b'blaxmatcha'</td>\n",
       "      <td>http://pbs.twimg.com/profile_images/1145276678...</td>\n",
       "      <td>2963</td>\n",
       "      <td>entj</td>\n",
       "    </tr>\n",
       "  </tbody>\n",
       "</table>\n",
       "</div>"
      ],
      "text/plain": [
       "            username                                              image  \\\n",
       "170  b'readwithanna'  http://pbs.twimg.com/profile_images/1118231210...   \n",
       "171   b'meliekfilms'  http://pbs.twimg.com/profile_images/9394471442...   \n",
       "172     b'RassGlass'  http://pbs.twimg.com/profile_images/1124621789...   \n",
       "173   b'J_Immormino'  http://pbs.twimg.com/profile_images/1131228408...   \n",
       "174    b'blaxmatcha'  http://pbs.twimg.com/profile_images/1145276678...   \n",
       "\n",
       "     followers_count Personality  \n",
       "170               18        enfj  \n",
       "171               72        enfj  \n",
       "172              111        entj  \n",
       "173              111        entj  \n",
       "174             2963        entj  "
      ]
     },
     "execution_count": 15,
     "metadata": {},
     "output_type": "execute_result"
    }
   ],
   "source": [
    "df.tail()"
   ]
  },
  {
   "cell_type": "code",
   "execution_count": 16,
   "metadata": {
    "scrolled": false
   },
   "outputs": [
    {
     "data": {
      "text/plain": [
       "username           object\n",
       "image              object\n",
       "followers_count     int64\n",
       "Personality        object\n",
       "dtype: object"
      ]
     },
     "execution_count": 16,
     "metadata": {},
     "output_type": "execute_result"
    }
   ],
   "source": [
    "df.dtypes"
   ]
  },
  {
   "cell_type": "code",
   "execution_count": 17,
   "metadata": {
    "scrolled": true
   },
   "outputs": [
    {
     "data": {
      "text/plain": [
       "(175, 4)"
      ]
     },
     "execution_count": 17,
     "metadata": {},
     "output_type": "execute_result"
    }
   ],
   "source": [
    "df.shape"
   ]
  },
  {
   "cell_type": "markdown",
   "metadata": {},
   "source": [
    "## End (added by Natallia)"
   ]
  },
  {
   "cell_type": "code",
   "execution_count": 18,
   "metadata": {
    "scrolled": true
   },
   "outputs": [
    {
     "data": {
      "text/plain": [
       "array(['istj', 'infj', 'intj', 'istp', 'isfp', 'infp', 'intp', 'enfp',\n",
       "       'entp', 'enfj', 'entj', 'isfj', 'estj'], dtype=object)"
      ]
     },
     "execution_count": 18,
     "metadata": {},
     "output_type": "execute_result"
    }
   ],
   "source": [
    "df['Personality'].unique()"
   ]
  },
  {
   "cell_type": "code",
   "execution_count": 19,
   "metadata": {},
   "outputs": [
    {
     "data": {
      "text/plain": [
       "<matplotlib.axes._subplots.AxesSubplot at 0x1a20d024a8>"
      ]
     },
     "execution_count": 19,
     "metadata": {},
     "output_type": "execute_result"
    },
    {
     "data": {
      "image/png": "[encoded data removed]",
      "text/plain": [
       "<Figure size 720x288 with 1 Axes>"
      ]
     },
     "metadata": {},
     "output_type": "display_data"
    }
   ],
   "source": [
    "import seaborn as sns\n",
    "sns.set()\n",
    "df['Personality'].value_counts().plot(kind='bar',\\\n",
    "                colormap = 'plasma',figsize = (10,4),fontsize = 16,\\\n",
    "                title = 'Frequency of MBTI types on Twitter')"
   ]
  },
  {
   "cell_type": "markdown",
   "metadata": {},
   "source": [
    "### set up the columns for the final dataframe"
   ]
  },
  {
   "cell_type": "code",
   "execution_count": 20,
   "metadata": {},
   "outputs": [
    {
     "data": {
      "text/html": [
       "<div>\n",
       "<style scoped>\n",
       "    .dataframe tbody tr th:only-of-type {\n",
       "        vertical-align: middle;\n",
       "    }\n",
       "\n",
       "    .dataframe tbody tr th {\n",
       "        vertical-align: top;\n",
       "    }\n",
       "\n",
       "    .dataframe thead th {\n",
       "        text-align: right;\n",
       "    }\n",
       "</style>\n",
       "<table border=\"1\" class=\"dataframe\">\n",
       "  <thead>\n",
       "    <tr style=\"text-align: right;\">\n",
       "      <th></th>\n",
       "      <th>Personality</th>\n",
       "      <th>username</th>\n",
       "      <th>user_id</th>\n",
       "      <th>tweets</th>\n",
       "      <th>followers_count</th>\n",
       "      <th>image</th>\n",
       "    </tr>\n",
       "  </thead>\n",
       "  <tbody>\n",
       "    <tr>\n",
       "      <th>0</th>\n",
       "      <td>istj</td>\n",
       "      <td>b'luripilsin'</td>\n",
       "      <td>NaN</td>\n",
       "      <td>NaN</td>\n",
       "      <td>937</td>\n",
       "      <td>http://pbs.twimg.com/profile_images/1131020082...</td>\n",
       "    </tr>\n",
       "    <tr>\n",
       "      <th>1</th>\n",
       "      <td>infj</td>\n",
       "      <td>b'heiseinbitch'</td>\n",
       "      <td>NaN</td>\n",
       "      <td>NaN</td>\n",
       "      <td>233</td>\n",
       "      <td>http://pbs.twimg.com/profile_images/1097456689...</td>\n",
       "    </tr>\n",
       "    <tr>\n",
       "      <th>2</th>\n",
       "      <td>infj</td>\n",
       "      <td>b'madihamberger'</td>\n",
       "      <td>NaN</td>\n",
       "      <td>NaN</td>\n",
       "      <td>526</td>\n",
       "      <td>http://pbs.twimg.com/profile_images/1134280248...</td>\n",
       "    </tr>\n",
       "    <tr>\n",
       "      <th>3</th>\n",
       "      <td>infj</td>\n",
       "      <td>b'a_rdirivera'</td>\n",
       "      <td>NaN</td>\n",
       "      <td>NaN</td>\n",
       "      <td>4024</td>\n",
       "      <td>http://pbs.twimg.com/profile_images/1138091420...</td>\n",
       "    </tr>\n",
       "    <tr>\n",
       "      <th>4</th>\n",
       "      <td>infj</td>\n",
       "      <td>b'a_rdirivera'</td>\n",
       "      <td>NaN</td>\n",
       "      <td>NaN</td>\n",
       "      <td>4024</td>\n",
       "      <td>http://pbs.twimg.com/profile_images/1138091420...</td>\n",
       "    </tr>\n",
       "  </tbody>\n",
       "</table>\n",
       "</div>"
      ],
      "text/plain": [
       "  Personality          username  user_id  tweets  followers_count  \\\n",
       "0        istj     b'luripilsin'      NaN     NaN              937   \n",
       "1        infj   b'heiseinbitch'      NaN     NaN              233   \n",
       "2        infj  b'madihamberger'      NaN     NaN              526   \n",
       "3        infj    b'a_rdirivera'      NaN     NaN             4024   \n",
       "4        infj    b'a_rdirivera'      NaN     NaN             4024   \n",
       "\n",
       "                                               image  \n",
       "0  http://pbs.twimg.com/profile_images/1131020082...  \n",
       "1  http://pbs.twimg.com/profile_images/1097456689...  \n",
       "2  http://pbs.twimg.com/profile_images/1134280248...  \n",
       "3  http://pbs.twimg.com/profile_images/1138091420...  \n",
       "4  http://pbs.twimg.com/profile_images/1138091420...  "
      ]
     },
     "execution_count": 20,
     "metadata": {},
     "output_type": "execute_result"
    }
   ],
   "source": [
    "header_list = ['Personality', 'username', 'user_id', 'tweets', 'followers_count','image']\n",
    "df = df.reindex(columns = header_list)\n",
    "df.head()"
   ]
  },
  {
   "cell_type": "markdown",
   "metadata": {},
   "source": [
    "# set up the tweepy credentials to access data from twitter"
   ]
  },
  {
   "cell_type": "code",
   "execution_count": 21,
   "metadata": {},
   "outputs": [],
   "source": [
    "import json\n",
    "\n",
    "# create a dictionary to store your twitter credentials\n",
    "\n",
    "twitter_cred = dict()\n",
    "\n",
    "\n",
    "twitter_cred['CONSUMER_KEY'] = 'FYkqgdipLO6z3Cypq9df7u5Sl'\n",
    "twitter_cred['CONSUMER_SECRET'] = 'JJdJ7Ae4x5WI9VRMyCkcPVZO14eHaMZJjzFXSpO6WkPKB150oO'\n",
    "twitter_cred['ACCESS_KEY'] = '1141049557322592256-zBZj5YJssmyl60B6jXpdCP5qbMZpIZ'\n",
    "twitter_cred['ACCESS_SECRET'] = 'q7EjUt7RJjQaCXXObSXON6gyIDDfwPsbeBbGE74hC9Paw'\n",
    "\n",
    "with open('twitter_credentials1.json', 'w') as secret_info:\n",
    "    json.dump(twitter_cred, secret_info, indent=4, sort_keys=True)\n",
    "#Your saved json will look like the one shown below. It will be saved in the current directory under the name twitter_credentials.json.\n"
   ]
  },
  {
   "cell_type": "code",
   "execution_count": 22,
   "metadata": {},
   "outputs": [],
   "source": [
    "api = twitter.Api(consumer_key='FYkqgdipLO6z3Cypq9df7u5Sl',\n",
    "                      consumer_secret='JJdJ7Ae4x5WI9VRMyCkcPVZO14eHaMZJjzFXSpO6WkPKB150oO',\n",
    "                      access_token_key='1141049557322592256-zBZj5YJssmyl60B6jXpdCP5qbMZpIZ',\n",
    "                      access_token_secret='q7EjUt7RJjQaCXXObSXON6gyIDDfwPsbeBbGE74hC9Paw')"
   ]
  },
  {
   "cell_type": "code",
   "execution_count": 23,
   "metadata": {},
   "outputs": [],
   "source": [
    "auth = tweepy.OAuthHandler(twitter_cred['CONSUMER_KEY'], twitter_cred['CONSUMER_SECRET'])\n",
    "auth.set_access_token(twitter_cred['ACCESS_KEY'], twitter_cred['ACCESS_SECRET'])\n",
    "api = tweepy.API(auth)"
   ]
  },
  {
   "cell_type": "markdown",
   "metadata": {},
   "source": [
    "### Added by Natallia"
   ]
  },
  {
   "cell_type": "code",
   "execution_count": 24,
   "metadata": {},
   "outputs": [],
   "source": [
    "#### try this next time - it might allow more tweets per session:\n",
    "#uncomment below to run:\n",
    "api = tweepy.API(auth,wait_on_rate_limit=True,wait_on_rate_limit_notify=True)\n",
    "  "
   ]
  },
  {
   "cell_type": "markdown",
   "metadata": {},
   "source": [
    "# fix up the username column"
   ]
  },
  {
   "cell_type": "code",
   "execution_count": 26,
   "metadata": {},
   "outputs": [
    {
     "name": "stdout",
     "output_type": "stream",
     "text": [
      "<class 'pandas.core.series.Series'>\n"
     ]
    }
   ],
   "source": [
    "print(type(df['username']))\n",
    "\n",
    "usernames = list(df['username'])\n",
    "\n",
    "#there are two problems here--we have the extra set of quotes and the b in front\n",
    "\n",
    "for i in range(len(usernames)):\n",
    "    usernames[i] = usernames[i][1:]\n",
    "    usernames[i] = usernames[i].replace('\\'', '')\n",
    "\n",
    "#print(usernames)"
   ]
  },
  {
   "cell_type": "markdown",
   "metadata": {},
   "source": [
    "We see that the usernames each have a b in front, so we need to remove the first character of each string, and also the extra set of quotes. We need to remove these in order to pass the username to the other twitter functions."
   ]
  },
  {
   "cell_type": "code",
   "execution_count": 27,
   "metadata": {},
   "outputs": [
    {
     "name": "stdout",
     "output_type": "stream",
     "text": [
      "madihamberger\n",
      "True\n",
      "False\n",
      "True\n",
      "False\n"
     ]
    }
   ],
   "source": [
    "print(usernames[2])\n",
    "\n",
    "#get_user_text(df['username'][2])\n",
    "\n",
    "print(usernames[2]== 'madihamberger')\n",
    "print(usernames[2]== \"'madihamberger'\")\n",
    "\n",
    "s = usernames[2][1: ]\n",
    "s = usernames[2].replace('\\'', '')\n",
    "\n",
    "\n",
    "print(s == 'madihamberger')\n",
    "print(s == \"'madihamberger'\")\n"
   ]
  },
  {
   "cell_type": "code",
   "execution_count": 28,
   "metadata": {},
   "outputs": [
    {
     "data": {
      "text/plain": [
       "44798649"
      ]
     },
     "execution_count": 28,
     "metadata": {},
     "output_type": "execute_result"
    }
   ],
   "source": [
    "api.get_user(screen_name = s).id"
   ]
  },
  {
   "cell_type": "code",
   "execution_count": 29,
   "metadata": {},
   "outputs": [
    {
     "name": "stdout",
     "output_type": "stream",
     "text": [
      "parkjiminfocus\n",
      "badvalue\n",
      "c11192019\n",
      "badvalue\n",
      "wasdgamerguy\n",
      "badvalue\n",
      "wasdgamerguy\n",
      "badvalue\n",
      "19XXBeantown\n",
      "badvalue\n",
      "5\n"
     ]
    }
   ],
   "source": [
    "#create a list of user_ids\n",
    "user_id = []\n",
    "i = 0\n",
    "\n",
    "for item in usernames:\n",
    "    try:\n",
    "        user_id.append(api.get_user(screen_name = item).id)\n",
    "    except:\n",
    "        i = i + 1\n",
    "        print(item)\n",
    "        print(\"badvalue\")\n",
    "        user_id.append(\"NA\")\n",
    "\n",
    "print(i)\n"
   ]
  },
  {
   "cell_type": "code",
   "execution_count": 30,
   "metadata": {},
   "outputs": [
    {
     "name": "stdout",
     "output_type": "stream",
     "text": [
      "[725812023989129216, 337081254, 44798649, 2182094762]\n"
     ]
    }
   ],
   "source": [
    "print(user_id[:4])"
   ]
  },
  {
   "cell_type": "markdown",
   "metadata": {},
   "source": [
    "### why are there still some bad values?"
   ]
  },
  {
   "cell_type": "code",
   "execution_count": null,
   "metadata": {},
   "outputs": [],
   "source": []
  },
  {
   "cell_type": "code",
   "execution_count": 31,
   "metadata": {},
   "outputs": [],
   "source": [
    "df['username'] = usernames"
   ]
  },
  {
   "cell_type": "code",
   "execution_count": 32,
   "metadata": {},
   "outputs": [],
   "source": [
    "df['user_id'] = user_id"
   ]
  },
  {
   "cell_type": "code",
   "execution_count": 33,
   "metadata": {
    "scrolled": true
   },
   "outputs": [
    {
     "data": {
      "text/html": [
       "<div>\n",
       "<style scoped>\n",
       "    .dataframe tbody tr th:only-of-type {\n",
       "        vertical-align: middle;\n",
       "    }\n",
       "\n",
       "    .dataframe tbody tr th {\n",
       "        vertical-align: top;\n",
       "    }\n",
       "\n",
       "    .dataframe thead th {\n",
       "        text-align: right;\n",
       "    }\n",
       "</style>\n",
       "<table border=\"1\" class=\"dataframe\">\n",
       "  <thead>\n",
       "    <tr style=\"text-align: right;\">\n",
       "      <th></th>\n",
       "      <th>Personality</th>\n",
       "      <th>username</th>\n",
       "      <th>user_id</th>\n",
       "      <th>tweets</th>\n",
       "      <th>followers_count</th>\n",
       "      <th>image</th>\n",
       "    </tr>\n",
       "  </thead>\n",
       "  <tbody>\n",
       "    <tr>\n",
       "      <th>0</th>\n",
       "      <td>istj</td>\n",
       "      <td>luripilsin</td>\n",
       "      <td>725812023989129216</td>\n",
       "      <td>NaN</td>\n",
       "      <td>937</td>\n",
       "      <td>http://pbs.twimg.com/profile_images/1131020082...</td>\n",
       "    </tr>\n",
       "    <tr>\n",
       "      <th>1</th>\n",
       "      <td>infj</td>\n",
       "      <td>heiseinbitch</td>\n",
       "      <td>337081254</td>\n",
       "      <td>NaN</td>\n",
       "      <td>233</td>\n",
       "      <td>http://pbs.twimg.com/profile_images/1097456689...</td>\n",
       "    </tr>\n",
       "    <tr>\n",
       "      <th>2</th>\n",
       "      <td>infj</td>\n",
       "      <td>madihamberger</td>\n",
       "      <td>44798649</td>\n",
       "      <td>NaN</td>\n",
       "      <td>526</td>\n",
       "      <td>http://pbs.twimg.com/profile_images/1134280248...</td>\n",
       "    </tr>\n",
       "    <tr>\n",
       "      <th>3</th>\n",
       "      <td>infj</td>\n",
       "      <td>a_rdirivera</td>\n",
       "      <td>2182094762</td>\n",
       "      <td>NaN</td>\n",
       "      <td>4024</td>\n",
       "      <td>http://pbs.twimg.com/profile_images/1138091420...</td>\n",
       "    </tr>\n",
       "    <tr>\n",
       "      <th>4</th>\n",
       "      <td>infj</td>\n",
       "      <td>a_rdirivera</td>\n",
       "      <td>2182094762</td>\n",
       "      <td>NaN</td>\n",
       "      <td>4024</td>\n",
       "      <td>http://pbs.twimg.com/profile_images/1138091420...</td>\n",
       "    </tr>\n",
       "  </tbody>\n",
       "</table>\n",
       "</div>"
      ],
      "text/plain": [
       "  Personality       username             user_id  tweets  followers_count  \\\n",
       "0        istj     luripilsin  725812023989129216     NaN              937   \n",
       "1        infj   heiseinbitch           337081254     NaN              233   \n",
       "2        infj  madihamberger            44798649     NaN              526   \n",
       "3        infj    a_rdirivera          2182094762     NaN             4024   \n",
       "4        infj    a_rdirivera          2182094762     NaN             4024   \n",
       "\n",
       "                                               image  \n",
       "0  http://pbs.twimg.com/profile_images/1131020082...  \n",
       "1  http://pbs.twimg.com/profile_images/1097456689...  \n",
       "2  http://pbs.twimg.com/profile_images/1134280248...  \n",
       "3  http://pbs.twimg.com/profile_images/1138091420...  \n",
       "4  http://pbs.twimg.com/profile_images/1138091420...  "
      ]
     },
     "execution_count": 33,
     "metadata": {},
     "output_type": "execute_result"
    }
   ],
   "source": [
    "df.head()"
   ]
  },
  {
   "cell_type": "code",
   "execution_count": 34,
   "metadata": {},
   "outputs": [
    {
     "data": {
      "text/plain": [
       "(175, 6)"
      ]
     },
     "execution_count": 34,
     "metadata": {},
     "output_type": "execute_result"
    }
   ],
   "source": [
    "df.shape"
   ]
  },
  {
   "cell_type": "markdown",
   "metadata": {},
   "source": [
    "# now lets work on the tweet text column"
   ]
  },
  {
   "cell_type": "code",
   "execution_count": 37,
   "metadata": {},
   "outputs": [],
   "source": [
    "twitter_cred['CONSUMER_KEY'] = 'FYkqgdipLO6z3Cypq9df7u5Sl'\n",
    "twitter_cred['CONSUMER_SECRET'] = 'JJdJ7Ae4x5WI9VRMyCkcPVZO14eHaMZJjzFXSpO6WkPKB150oO'\n",
    "twitter_cred['ACCESS_KEY'] = '1141049557322592256-zBZj5YJssmyl60B6jXpdCP5qbMZpIZ'\n",
    "twitter_cred['ACCESS_SECRET'] = 'q7EjUt7RJjQaCXXObSXON6gyIDDfwPsbeBbGE74hC9Paw'"
   ]
  },
  {
   "cell_type": "markdown",
   "metadata": {},
   "source": [
    "### NS: function below is modified to allow more users tweets collection"
   ]
  },
  {
   "cell_type": "code",
   "execution_count": 68,
   "metadata": {},
   "outputs": [],
   "source": [
    "def get_all_tweets(screen_name):\n",
    "#Twitter only allows access to a users most recent 3240 tweets with this method\n",
    "\n",
    "    consumer_key = twitter_cred['CONSUMER_KEY']\n",
    "    consumer_secret = twitter_cred['CONSUMER_SECRET']\n",
    "    access_token = twitter_cred['ACCESS_KEY']\n",
    "    access_token_secret = twitter_cred['ACCESS_SECRET']\n",
    "\n",
    "    auth = tweepy.OAuthHandler(consumer_key, consumer_secret)\n",
    "    auth.set_access_token(access_token, access_token_secret)\n",
    "    auth.secure = True\n",
    "    #api = tweepy.API(auth)\n",
    "    ## use \"wait_on_rate =True\" to process over 50 users with extended loop\n",
    "    ## the execution will be delayed for 8-10 min, the API simply pause, but then\n",
    "    ## the tweet collection will resume (do not turn off computer pr NB!)\n",
    "    api = tweepy.API(auth,wait_on_rate_limit=True,wait_on_rate_limit_notify=True)\n",
    "  \n",
    "    \n",
    "#initialize a list to hold all the tweepy Tweets\n",
    "    alltweets = []\n",
    "\n",
    "#make initial request for most recent tweets (200 is the maximum allowed count)\n",
    "    new_tweets = api.user_timeline(screen_name = screen_name, count=200, include_rts=False, tweet_mode = 'extended')\n",
    "\n",
    "#save most recent tweets\n",
    "    alltweets.extend(new_tweets)\n",
    "\n",
    "#save the id of the oldest tweet less one\n",
    "    oldest = alltweets[-1].id - 1\n",
    "\n",
    "#keep grabbing tweets until there are no tweets left to grab\n",
    "    while len(new_tweets) > 0:\n",
    "        #print(\"collecting tweets before %s\" % (oldest))\n",
    "\n",
    "    #all subsiquent requests use the max_id param to prevent duplicates\n",
    "        new_tweets = api.user_timeline(screen_name = screen_name,count=200,max_id=oldest,tweet_mode = 'extended')\n",
    "\n",
    "    #save most recent tweets\n",
    "        alltweets.extend(new_tweets)\n",
    "\n",
    "    #update the id of the oldest tweet less one\n",
    "        oldest = alltweets[-1].id - 1\n",
    "\n",
    "        #print(\"...%s tweets downloaded so far\" % (len(alltweets)))\n",
    "        #print(\"##############################################################\")\n",
    "        #uncomment  below if want the tweets printout\n",
    "        #print(alltweets[0])\n",
    "\n",
    "#transform the tweepy tweets into a 2D array that will populate the csv\n",
    "\n",
    "    outtweets = []\n",
    "    for tweet in alltweets:\n",
    "        ## added the language requirement\n",
    "        if(len(tweet.full_text)>0) and tweet.lang == \"en\":\n",
    "            outtweets.append(tweet.full_text)\n",
    "        else:\n",
    "            outtweets.append('')\n",
    "    user_text = []\n",
    "    ## use \" outtweets[:200]\" below to only pull 200 tweets per user\n",
    "    for item in outtweets[:200]:\n",
    "        if item.startswith(\"RT\"):\n",
    "            continue\n",
    "        #take out URLS\n",
    "        replaced = re.sub('http\\S+','', item)\n",
    "        #replace all user tages with generic @user\n",
    "        replaced = re.sub('@\\S+','@user', replaced)\n",
    "        replaced = re.sub('\\\"\\S+\\\"','',replaced)\n",
    "        user_text.append(replaced)\n",
    "\n",
    "    return(user_text)"
   ]
  },
  {
   "cell_type": "markdown",
   "metadata": {},
   "source": [
    "### Regular loop (process up to 50 usernames)\n",
    " -  do not run code below if you have ## over 50 ## usernames in the df"
   ]
  },
  {
   "cell_type": "code",
   "execution_count": null,
   "metadata": {},
   "outputs": [],
   "source": [
    "tweet_text = []\n",
    "i = 0\n",
    "\n",
    "for i in range(len(usernames)):\n",
    "    try:\n",
    "        tweet_text.append(get_all_tweets(usernames[i]))\n",
    "    except:\n",
    "        i = i + 1\n",
    "        tweet_text.append('NA')\n",
    "    print(i)\n",
    "    print(tweet_text[i][0])"
   ]
  },
  {
   "cell_type": "code",
   "execution_count": 89,
   "metadata": {
    "scrolled": true
   },
   "outputs": [
    {
     "name": "stdout",
     "output_type": "stream",
     "text": [
      "['luripilsin', 'heiseinbitch', 'madihamberger', 'a_rdirivera', 'a_rdirivera', 'ladykrisffer', 'onthewaybg', 'patchworkcc2015', 'JanAryannn', 'laura_la_plante', 'harmonicait', 'Soulonajourney1', 'Colleen_Kellogg', 'S7r94', 'CRHarrisWrites', 'nikaizd', 'joemillerwired', 'stephcode', 'JohnBauters', 'TIL_ayg', 'ActionBearson', 'kathryn222882', 'kuehlapis12', 'apbeaton', 'TIL_ayg', 'TIL_ayg', '3amsoda', 'brokeneisenglas', 'rapartin93', 'amykrzyzaniak1', 'pagesandpanels', 'mb_times', 'AlphritaSims', 'ayakanesmoon', 'TheINFP_Bear', 'JordanMarisa11', 'AlexS_Writes', 'airublu', 'imnotasweetie', 'gukmulie', 'xernue', 'BruceSutherlan4', 'nerd_backpack', 'parkjiminfocus', 'namgiaesthetics', 'xasoiaf', 'dylanw', 'c11192019', 'Juliamagdazrc', 'Wanderingc0rpse', 'ukthxbyek', '2dancingpandas', 'DotsWritingDojo', 'SerinaMartinez', 'SandraSchehl', 'IAmCloutier', 'DamnSheElite', 'techmariah', 'pr3achlikeagirl', 'ChurchTherapist', 'camperry21', 'galaxiaskykloz', 'sarahyoung_esq', 'filmandtheatre', 'MeghanLeVota', 'justSona', 'RLBEchad', 'Megan_Hafer', 'Cemeterylegends', 'RyanWilsonKing', 'luripilsin', 'HawkeyeResists', 'MooseKhaleel', 'SsoulMary', 'sndesireecha', 'HalGoldstein', 'RoseRiku', 'Pegasi17', 'mistietolman', 'heiseinbitch', 'a_rdirivera', 'a_rdirivera', 'Roland00Address', 'JamieAkins5', 'wasdgamerguy', 'TheOnlyClydeful', 'Roland00Address', 'abiekaye', 'mullguy58', 'Starinimi', 'TIL_ayg', 'piscespotions', 'TheDreamAvenger', 'colorlessFlag', 'S7r94', 'la_malabana', 'isit_alli', '_cristicisms', 'bundlesofmin', 'SchoolArcane', 'manda_michele88', 'pagesandpanels', 'mb_times', 'TurrellMika', 'pBahtrysia', 'Hilya96', 'imnotasweetie', 'taejinsuga', 'mrsbunnylloyd', 'erinjeanwarde', 'magicshopIive', 'brokeandbookish', 'ukthxbyek', 'meliekfilms', 'todayisnotreal', 'EBronwynHinkle', 'davethewoodsman', 'pr3achlikeagirl', 'ChurchTherapist', 'blaxmatcha', 'JanetJanes', 'JPMcGlone', 'reign_atkins', 'RyanWilsonKing', 'alandavison48', '1mmemorabilis', 'LittleLambMask', 'lorilovesbooks', 'mrmaxnorthman', 'CrazedJust', 'missourimelanin', 'RosieClaire10', 'lilneptuneflowr', 'kendro_f', 'Patrici51915507', 'triptych', 'HawkeyeResists', 'missdaisyICS', 'goddessr0se', 'llynggrain_', 'rogerabramson', 'Roland00Address', 'JamieAkins5', 'wasdgamerguy', 'Starlaxoxo', 'happycat1231', 'Bangtanlesbian1', 'AlphritaSims', 'astrdmagnussen', 'teagancarrie', 'linsequoiaa', 'FilmStripMyLife', 'tomorrowfics', 'bundlesofmin', 'SaraLies4tRump', 'Littlelittles17', '19XXBeantown', 'Blinkonicxz', 'GodsAbundantOne', 'the_______norm', 'grayson_hester', 'moonkin_moonbab', 'superfIybabe', 'idowanu', 'mrsbunnylloyd', 'TessasRaeofSun', 'BroBarbarian', 'jewelkat23', 'Jillian_NicoIIe', 'ModernLifeJon', 'readwithanna', 'meliekfilms', 'RassGlass', 'J_Immormino', 'blaxmatcha']\n"
     ]
    }
   ],
   "source": [
    "print(usernames)"
   ]
  },
  {
   "cell_type": "code",
   "execution_count": 44,
   "metadata": {
    "scrolled": true
   },
   "outputs": [
    {
     "data": {
      "text/plain": [
       "175"
      ]
     },
     "execution_count": 44,
     "metadata": {},
     "output_type": "execute_result"
    }
   ],
   "source": [
    "len(usernames)"
   ]
  },
  {
   "cell_type": "markdown",
   "metadata": {},
   "source": [
    "### Extended loop:\n",
    " - This is how to collect tweets (200 per user) for more than 50 users.\n",
    "     -  divide users into equal in size batches, for example , 175 users will be processed with 3 batches (50*3) plus other 25 users could be process as \"regular loop\"\n",
    "     - also can divide 175 into 7 batches each 25 and use extended loop below\n",
    "     "
   ]
  },
  {
   "cell_type": "code",
   "execution_count": 106,
   "metadata": {
    "scrolled": false
   },
   "outputs": [
    {
     "name": "stdout",
     "output_type": "stream",
     "text": [
      "first user for batch 1: luripilsin\n",
      "LAST user for batch 1: Wanderingc0rpse\n",
      "######\n",
      "first user for batch 2: ukthxbyek\n",
      "first user for batch 2: SchoolArcane\n",
      "######\n",
      "first user for batch 3: manda_michele88\n",
      "LAST user for batch 3: SchoolArcane\n",
      "######\n",
      "first user for batch 4(not complete): linsequoiaa\n",
      "LAST user for batch 4: blaxmatcha\n",
      "first user all usernames list: luripilsin\n",
      "LAST user all usernames list: blaxmatcha\n",
      "full list length 175\n"
     ]
    }
   ],
   "source": [
    "### Here is how extended loop is done:\n",
    "u1 = usernames[0:1*batch]\n",
    "print('first user for batch 1:',u1[0])\n",
    "print('LAST user for batch 1:',u1[-1])\n",
    "print('######')\n",
    "u2 = usernames[1*batch:2*batch]\n",
    "print('first user for batch 2:',u2[0])\n",
    "print('first user for batch 2:',u2[-1])\n",
    "\n",
    "print('######')\n",
    "\n",
    "u3 = usernames[2*batch:3*batch]\n",
    "print('first user for batch 3:',u3[0])\n",
    "print('LAST user for batch 3:',u2[-1])\n",
    "\n",
    "print('######')\n",
    "\n",
    "\n",
    "u4 = usernames[3*batch:N]\n",
    "\n",
    "\n",
    "print('first user for batch 4(not complete):',u4[0])\n",
    "print('LAST user for batch 4:',u4[-1])\n",
    "\n",
    "print('first user all usernames list:',usernames[0])\n",
    "\n",
    "print('LAST user all usernames list:',usernames[-1])\n",
    "\n",
    "print('full list length', len(u1+u2+u3+u4))"
   ]
  },
  {
   "cell_type": "markdown",
   "metadata": {},
   "source": [
    "### Collecting tweets from 150 users at once."
   ]
  },
  {
   "cell_type": "code",
   "execution_count": 67,
   "metadata": {
    "scrolled": true
   },
   "outputs": [
    {
     "name": "stdout",
     "output_type": "stream",
     "text": [
      "0\n",
      "collected: 200 \n",
      "\n",
      "1\n",
      "collected: 199 \n",
      "\n",
      "2\n",
      "collected: 165 \n",
      "\n",
      "3\n",
      "collected: 189 \n",
      "\n",
      "4\n",
      "collected: 189 \n",
      "\n",
      "5\n",
      "collected: 200 \n",
      "\n",
      "6\n",
      "collected: 92 \n",
      "\n",
      "7\n",
      "collected: 134 \n",
      "\n",
      "8\n",
      "collected: 200 \n",
      "\n",
      "9\n",
      "collected: 170 \n",
      "\n",
      "10\n",
      "collected: 190 \n",
      "\n",
      "11\n",
      "collected: 78 \n",
      "\n",
      "12\n",
      "collected: 200 \n",
      "\n",
      "13\n",
      "collected: 194 \n",
      "\n",
      "14\n",
      "collected: 200 \n",
      "\n",
      "15\n",
      "collected: 171 \n",
      "\n",
      "16\n",
      "collected: 198 \n",
      "\n",
      "17\n",
      "collected: 175 \n",
      "\n",
      "18\n",
      "collected: 200 \n",
      "\n",
      "19\n",
      "collected: 200 \n",
      "\n",
      "20\n",
      "collected: 162 \n",
      "\n",
      "21\n",
      "collected: 44 \n",
      "\n",
      "22\n",
      "collected: 199 \n",
      "\n",
      "23\n",
      "collected: 200 \n",
      "\n",
      "24\n",
      "collected: 200 \n",
      "\n",
      "25\n",
      "collected: 200 \n",
      "\n",
      "26\n",
      "collected: 196 \n",
      "\n",
      "27\n",
      "collected: 175 \n",
      "\n",
      "28\n",
      "collected: 200 \n",
      "\n",
      "29\n",
      "collected: 174 \n",
      "\n",
      "30\n",
      "collected: 198 \n",
      "\n",
      "31\n",
      "collected: 200 \n",
      "\n",
      "32\n",
      "collected: 200 \n",
      "\n",
      "33\n",
      "collected: 165 \n",
      "\n",
      "34\n",
      "collected: 199 \n",
      "\n",
      "35\n",
      "collected: 189 \n",
      "\n",
      "36\n",
      "collected: 200 \n",
      "\n",
      "37\n",
      "collected: 140 \n",
      "\n",
      "38\n",
      "collected: 120 \n",
      "\n",
      "39\n",
      "collected: 2 \n",
      "\n",
      "40\n",
      "collected: 196 \n",
      "\n",
      "41\n",
      "collected: 143 \n",
      "\n",
      "42\n",
      "collected: 200 \n",
      "\n",
      "43\n",
      "collected: 2 \n",
      "\n",
      "44\n",
      "collected: 192 \n",
      "\n",
      "45\n",
      "collected: 113 \n",
      "\n",
      "46\n",
      "collected: 199 \n",
      "\n",
      "47\n",
      "collected: 2 \n",
      "\n",
      "48\n",
      "collected: 143 \n",
      "\n",
      "49\n",
      "collected: 182 \n",
      "\n",
      "m= 0\n",
      "0\n",
      "collected: 155 \n",
      "\n",
      "1\n",
      "collected: 199 \n",
      "\n",
      "2\n",
      "collected: 193 \n",
      "\n",
      "3\n",
      "collected: 185 \n",
      "\n",
      "4\n",
      "collected: 200 \n",
      "\n",
      "5\n",
      "collected: 200 \n",
      "\n",
      "6\n",
      "collected: 173 \n",
      "\n",
      "7\n",
      "collected: 200 \n",
      "\n",
      "8\n",
      "collected: 196 \n",
      "\n",
      "9\n",
      "collected: 193 \n",
      "\n",
      "10\n",
      "collected: 199 \n",
      "\n",
      "11\n",
      "collected: 182 \n",
      "\n",
      "12\n",
      "collected: 146 \n",
      "\n",
      "13\n",
      "collected: 199 \n",
      "\n",
      "14\n",
      "collected: 179 \n",
      "\n",
      "15\n",
      "collected: 198 \n",
      "\n",
      "16\n",
      "collected: 200 \n",
      "\n",
      "17\n",
      "collected: 175 \n",
      "\n",
      "18\n",
      "collected: 129 \n",
      "\n"
     ]
    },
    {
     "name": "stderr",
     "output_type": "stream",
     "text": [
      "Rate limit reached. Sleeping for: 520\n"
     ]
    },
    {
     "name": "stdout",
     "output_type": "stream",
     "text": [
      "19\n",
      "collected: 200 \n",
      "\n",
      "20\n",
      "collected: 200 \n",
      "\n",
      "21\n",
      "collected: 129 \n",
      "\n",
      "22\n",
      "collected: 174 \n",
      "\n",
      "23\n",
      "collected: 188 \n",
      "\n",
      "24\n",
      "collected: 194 \n",
      "\n",
      "25\n",
      "collected: 200 \n",
      "\n",
      "26\n",
      "collected: 188 \n",
      "\n",
      "27\n",
      "collected: 188 \n",
      "\n",
      "28\n",
      "collected: 152 \n",
      "\n",
      "29\n",
      "collected: 199 \n",
      "\n",
      "30\n",
      "collected: 189 \n",
      "\n",
      "31\n",
      "collected: 189 \n",
      "\n",
      "32\n",
      "collected: 198 \n",
      "\n",
      "33\n",
      "collected: 200 \n",
      "\n",
      "34\n",
      "collected: 2 \n",
      "\n",
      "35\n",
      "collected: 199 \n",
      "\n",
      "36\n",
      "collected: 198 \n",
      "\n",
      "37\n",
      "collected: 197 \n",
      "\n",
      "38\n",
      "collected: 186 \n",
      "\n",
      "39\n",
      "collected: 197 \n",
      "\n",
      "40\n",
      "collected: 200 \n",
      "\n",
      "41\n",
      "collected: 200 \n",
      "\n",
      "42\n",
      "collected: 200 \n",
      "\n",
      "43\n",
      "collected: 2 \n",
      "\n",
      "44\n",
      "collected: 194 \n",
      "\n",
      "45\n",
      "collected: 157 \n",
      "\n",
      "46\n",
      "collected: 197 \n",
      "\n",
      "47\n",
      "collected: 194 \n",
      "\n",
      "48\n",
      "collected: 196 \n",
      "\n",
      "49\n",
      "collected: 159 \n",
      "\n",
      "m= 1\n",
      "0\n",
      "collected: 197 \n",
      "\n",
      "1\n",
      "collected: 198 \n",
      "\n",
      "2\n",
      "collected: 200 \n",
      "\n",
      "3\n",
      "collected: 198 \n",
      "\n",
      "4\n",
      "collected: 196 \n",
      "\n",
      "5\n",
      "collected: 155 \n",
      "\n",
      "6\n",
      "collected: 120 \n",
      "\n",
      "7\n",
      "collected: 182 \n",
      "\n",
      "8\n",
      "collected: 200 \n",
      "\n",
      "9\n",
      "collected: 199 \n",
      "\n",
      "10\n",
      "collected: 198 \n",
      "\n",
      "11\n",
      "collected: 200 \n",
      "\n",
      "12\n",
      "collected: 155 \n",
      "\n",
      "13\n",
      "collected: 165 \n",
      "\n",
      "14\n",
      "collected: 102 \n",
      "\n",
      "15\n",
      "collected: 196 \n",
      "\n",
      "16\n",
      "collected: 200 \n",
      "\n",
      "17\n",
      "collected: 196 \n",
      "\n",
      "18\n",
      "collected: 193 \n",
      "\n",
      "19\n",
      "collected: 200 \n",
      "\n",
      "20\n",
      "collected: 199 \n",
      "\n",
      "21\n",
      "collected: 186 \n",
      "\n",
      "22\n",
      "collected: 193 \n",
      "\n",
      "23\n",
      "collected: 200 \n",
      "\n",
      "24\n",
      "collected: 177 \n",
      "\n",
      "25\n",
      "collected: 197 \n",
      "\n",
      "26\n",
      "collected: 183 \n",
      "\n",
      "27\n",
      "collected: 194 \n",
      "\n",
      "28\n",
      "collected: 183 \n",
      "\n",
      "29\n",
      "collected: 199 \n",
      "\n",
      "30\n",
      "collected: 175 \n",
      "\n",
      "31\n",
      "collected: 200 \n",
      "\n",
      "32\n",
      "collected: 174 \n",
      "\n"
     ]
    },
    {
     "name": "stderr",
     "output_type": "stream",
     "text": [
      "Rate limit reached. Sleeping for: 499\n"
     ]
    },
    {
     "name": "stdout",
     "output_type": "stream",
     "text": [
      "33\n",
      "collected: 179 \n",
      "\n",
      "34\n",
      "collected: 6 \n",
      "\n",
      "35\n",
      "collected: 138 \n",
      "\n",
      "36\n",
      "collected: 129 \n",
      "\n",
      "37\n",
      "collected: 192 \n",
      "\n",
      "38\n",
      "collected: 169 \n",
      "\n",
      "39\n",
      "collected: 197 \n",
      "\n",
      "40\n",
      "collected: 182 \n",
      "\n",
      "41\n",
      "collected: 198 \n",
      "\n",
      "42\n",
      "collected: 200 \n",
      "\n",
      "43\n",
      "collected: 2 \n",
      "\n",
      "44\n",
      "collected: 197 \n",
      "\n",
      "45\n",
      "collected: 200 \n",
      "\n",
      "46\n",
      "collected: 50 \n",
      "\n",
      "47\n",
      "collected: 200 \n",
      "\n",
      "48\n",
      "collected: 196 \n",
      "\n",
      "49\n",
      "collected: 196 \n",
      "\n",
      "m= 2\n"
     ]
    }
   ],
   "source": [
    "\n",
    "tweet_text = []\n",
    "N = len(usernames)\n",
    "batch = 50\n",
    "num_batch = int(df.shape[0]/batch)\n",
    "#print(num_batch)\n",
    "N - num_batch*batch\n",
    "for m in range(num_batch):\n",
    "    tw = []\n",
    "    u_names = usernames[m*batch:(m+1)*batch]\n",
    "    \n",
    "    \n",
    "    i = 0\n",
    "\n",
    "    for i in range(len(u_names)):\n",
    "        try:\n",
    "            tw.append(get_all_tweets(u_names[i]))\n",
    "        except:\n",
    "            #i = i + 1\n",
    "            tw.append('NA')\n",
    "        print(i)\n",
    "        print('collected:',len(tw[i]),'\\n')\n",
    "    print('m=',m)\n",
    "    tweet_text = tweet_text + tw\n",
    "\n",
    "    "
   ]
  },
  {
   "cell_type": "markdown",
   "metadata": {},
   "source": [
    "### Here what it means \"Rate limit reached. Sleeping for: 520\"\n",
    "https://blog.twitter.com/en_us/a/2008/what-does-rate-limit-exceeded-mean-updated.html"
   ]
  },
  {
   "cell_type": "code",
   "execution_count": 84,
   "metadata": {},
   "outputs": [],
   "source": [
    "import time\n",
    "from tqdm import tqdm "
   ]
  },
  {
   "cell_type": "code",
   "execution_count": 85,
   "metadata": {
    "scrolled": true
   },
   "outputs": [
    {
     "data": {
      "text/plain": [
       "175"
      ]
     },
     "execution_count": 85,
     "metadata": {},
     "output_type": "execute_result"
    }
   ],
   "source": [
    "### Check how many users's tweets were collected with extended loop\n",
    "len(tweet_text)"
   ]
  },
  {
   "cell_type": "code",
   "execution_count": 81,
   "metadata": {},
   "outputs": [
    {
     "data": {
      "text/plain": [
       "25"
      ]
     },
     "execution_count": 81,
     "metadata": {},
     "output_type": "execute_result"
    }
   ],
   "source": [
    "u_4 = usernames[3*batch:N]\n",
    "len(u_4)"
   ]
  },
  {
   "cell_type": "code",
   "execution_count": 83,
   "metadata": {},
   "outputs": [
    {
     "name": "stdout",
     "output_type": "stream",
     "text": [
      "user# 0\n",
      "collected: 200 tweets\n",
      "user# 1\n",
      "collected: 199 tweets\n",
      "user# 2\n",
      "collected: 165 tweets\n",
      "user# 3\n",
      "collected: 189 tweets\n",
      "user# 4\n",
      "collected: 189 tweets\n",
      "user# 5\n",
      "collected: 200 tweets\n",
      "user# 6\n",
      "collected: 92 tweets\n",
      "user# 7\n",
      "collected: 134 tweets\n",
      "user# 8\n",
      "collected: 200 tweets\n",
      "user# 9\n",
      "collected: 170 tweets\n",
      "user# 10\n",
      "collected: 190 tweets\n",
      "user# 11\n",
      "collected: 78 tweets\n",
      "user# 12\n",
      "collected: 200 tweets\n",
      "user# 13\n",
      "collected: 194 tweets\n",
      "user# 14\n",
      "collected: 200 tweets\n",
      "user# 15\n",
      "collected: 171 tweets\n",
      "user# 16\n",
      "collected: 198 tweets\n",
      "user# 17\n",
      "collected: 175 tweets\n",
      "user# 18\n",
      "collected: 200 tweets\n",
      "user# 19\n",
      "collected: 200 tweets\n",
      "user# 20\n",
      "collected: 162 tweets\n",
      "user# 21\n",
      "collected: 44 tweets\n",
      "user# 22\n",
      "collected: 199 tweets\n",
      "user# 23\n",
      "collected: 200 tweets\n",
      "user# 24\n",
      "collected: 200 tweets\n"
     ]
    }
   ],
   "source": [
    "\n",
    "i = 0\n",
    "\n",
    "for i in range(len(u_4)):\n",
    "    \n",
    "    try:\n",
    "        tweet_text.append(get_all_tweets(u_4[i]))\n",
    "    except:\n",
    "        #i = i + 1\n",
    "        tweet_text.append('NA')\n",
    "    print('user#',i)\n",
    "    print('collected:',len(tweet_text[i]), 'tweets')\n",
    "\n"
   ]
  },
  {
   "cell_type": "code",
   "execution_count": 86,
   "metadata": {},
   "outputs": [
    {
     "data": {
      "text/plain": [
       "175"
      ]
     },
     "execution_count": 86,
     "metadata": {},
     "output_type": "execute_result"
    }
   ],
   "source": [
    "len(tweet_text)"
   ]
  },
  {
   "cell_type": "code",
   "execution_count": 88,
   "metadata": {},
   "outputs": [
    {
     "name": "stdout",
     "output_type": "stream",
     "text": [
      "175\n",
      "175\n"
     ]
    }
   ],
   "source": [
    "print(len(tweet_text))\n",
    "print(len(usernames))"
   ]
  },
  {
   "cell_type": "code",
   "execution_count": 89,
   "metadata": {
    "scrolled": true
   },
   "outputs": [
    {
     "name": "stdout",
     "output_type": "stream",
     "text": [
      "<class 'list'>\n"
     ]
    }
   ],
   "source": [
    "print(type(tweet_text))"
   ]
  },
  {
   "cell_type": "code",
   "execution_count": 91,
   "metadata": {},
   "outputs": [],
   "source": [
    "df['tweets'] = tweet_text[0:175]"
   ]
  },
  {
   "cell_type": "code",
   "execution_count": 92,
   "metadata": {},
   "outputs": [
    {
     "data": {
      "text/html": [
       "<div>\n",
       "<style scoped>\n",
       "    .dataframe tbody tr th:only-of-type {\n",
       "        vertical-align: middle;\n",
       "    }\n",
       "\n",
       "    .dataframe tbody tr th {\n",
       "        vertical-align: top;\n",
       "    }\n",
       "\n",
       "    .dataframe thead th {\n",
       "        text-align: right;\n",
       "    }\n",
       "</style>\n",
       "<table border=\"1\" class=\"dataframe\">\n",
       "  <thead>\n",
       "    <tr style=\"text-align: right;\">\n",
       "      <th></th>\n",
       "      <th>Personality</th>\n",
       "      <th>username</th>\n",
       "      <th>user_id</th>\n",
       "      <th>tweets</th>\n",
       "      <th>followers_count</th>\n",
       "      <th>image</th>\n",
       "    </tr>\n",
       "  </thead>\n",
       "  <tbody>\n",
       "    <tr>\n",
       "      <th>0</th>\n",
       "      <td>istj</td>\n",
       "      <td>luripilsin</td>\n",
       "      <td>725812023989129216</td>\n",
       "      <td>[, Of course, MOOD 😚\\n\\nI 💜 @user too , Litera...</td>\n",
       "      <td>937</td>\n",
       "      <td>http://pbs.twimg.com/profile_images/1131020082...</td>\n",
       "    </tr>\n",
       "    <tr>\n",
       "      <th>1</th>\n",
       "      <td>infj</td>\n",
       "      <td>heiseinbitch</td>\n",
       "      <td>337081254</td>\n",
       "      <td>[#nowwatching Stranger Things - Chapter One: S...</td>\n",
       "      <td>233</td>\n",
       "      <td>http://pbs.twimg.com/profile_images/1097456689...</td>\n",
       "    </tr>\n",
       "    <tr>\n",
       "      <th>2</th>\n",
       "      <td>infj</td>\n",
       "      <td>madihamberger</td>\n",
       "      <td>44798649</td>\n",
       "      <td>[@user love you mom, @user &amp;gt;:(\\nI’m so sorr...</td>\n",
       "      <td>526</td>\n",
       "      <td>http://pbs.twimg.com/profile_images/1134280248...</td>\n",
       "    </tr>\n",
       "    <tr>\n",
       "      <th>3</th>\n",
       "      <td>infj</td>\n",
       "      <td>a_rdirivera</td>\n",
       "      <td>2182094762</td>\n",
       "      <td>[, The night is still young , , , , , , , My s...</td>\n",
       "      <td>4024</td>\n",
       "      <td>http://pbs.twimg.com/profile_images/1138091420...</td>\n",
       "    </tr>\n",
       "    <tr>\n",
       "      <th>4</th>\n",
       "      <td>infj</td>\n",
       "      <td>a_rdirivera</td>\n",
       "      <td>2182094762</td>\n",
       "      <td>[, The night is still young , , , , , , , My s...</td>\n",
       "      <td>4024</td>\n",
       "      <td>http://pbs.twimg.com/profile_images/1138091420...</td>\n",
       "    </tr>\n",
       "  </tbody>\n",
       "</table>\n",
       "</div>"
      ],
      "text/plain": [
       "  Personality       username             user_id  \\\n",
       "0        istj     luripilsin  725812023989129216   \n",
       "1        infj   heiseinbitch           337081254   \n",
       "2        infj  madihamberger            44798649   \n",
       "3        infj    a_rdirivera          2182094762   \n",
       "4        infj    a_rdirivera          2182094762   \n",
       "\n",
       "                                              tweets  followers_count  \\\n",
       "0  [, Of course, MOOD 😚\\n\\nI 💜 @user too , Litera...              937   \n",
       "1  [#nowwatching Stranger Things - Chapter One: S...              233   \n",
       "2  [@user love you mom, @user &gt;:(\\nI’m so sorr...              526   \n",
       "3  [, The night is still young , , , , , , , My s...             4024   \n",
       "4  [, The night is still young , , , , , , , My s...             4024   \n",
       "\n",
       "                                               image  \n",
       "0  http://pbs.twimg.com/profile_images/1131020082...  \n",
       "1  http://pbs.twimg.com/profile_images/1097456689...  \n",
       "2  http://pbs.twimg.com/profile_images/1134280248...  \n",
       "3  http://pbs.twimg.com/profile_images/1138091420...  \n",
       "4  http://pbs.twimg.com/profile_images/1138091420...  "
      ]
     },
     "execution_count": 92,
     "metadata": {},
     "output_type": "execute_result"
    }
   ],
   "source": [
    "df.head()"
   ]
  },
  {
   "cell_type": "markdown",
   "metadata": {},
   "source": [
    "# fix the image URLs"
   ]
  },
  {
   "cell_type": "code",
   "execution_count": 93,
   "metadata": {},
   "outputs": [
    {
     "name": "stdout",
     "output_type": "stream",
     "text": [
      "['http://pbs.twimg.com/profile_images/1131020082102935552/ygGygumt_normal.jpg', 'http://pbs.twimg.com/profile_images/1097456689194942465/bIVc7V1P_normal.jpg', 'http://pbs.twimg.com/profile_images/1134280248709636096/XKnryDno_normal.jpg', 'http://pbs.twimg.com/profile_images/1138091420927946753/0oRjg8hC_normal.jpg', 'http://pbs.twimg.com/profile_images/1138091420927946753/0oRjg8hC_normal.jpg']\n"
     ]
    }
   ],
   "source": [
    "images = list(df['image'])\n",
    "print(images[0:5])"
   ]
  },
  {
   "cell_type": "code",
   "execution_count": 94,
   "metadata": {},
   "outputs": [
    {
     "name": "stdout",
     "output_type": "stream",
     "text": [
      "<class 'str'>\n"
     ]
    }
   ],
   "source": [
    "print(type(images[0]))"
   ]
  },
  {
   "cell_type": "code",
   "execution_count": 95,
   "metadata": {},
   "outputs": [
    {
     "name": "stdout",
     "output_type": "stream",
     "text": [
      "http://pbs.twimg.com/profile_images/1131020082102935552/ygGygumt_normal.jpg\n",
      "http://pbs.twimg.com/profile_images/1131020082102935552/ygGygumt.jpg\n"
     ]
    }
   ],
   "source": [
    "print(images[0])\n",
    "images[0] = images[0].replace('_normal', '')\n",
    "print(images[0])\n",
    "                        "
   ]
  },
  {
   "cell_type": "code",
   "execution_count": 96,
   "metadata": {},
   "outputs": [],
   "source": [
    "for i in range(len(images)):\n",
    "    images[i] = images[i].replace('_normal', '')"
   ]
  },
  {
   "cell_type": "code",
   "execution_count": 97,
   "metadata": {},
   "outputs": [
    {
     "name": "stdout",
     "output_type": "stream",
     "text": [
      "['http://pbs.twimg.com/profile_images/1131020082102935552/ygGygumt.jpg', 'http://pbs.twimg.com/profile_images/1097456689194942465/bIVc7V1P.jpg', 'http://pbs.twimg.com/profile_images/1134280248709636096/XKnryDno.jpg', 'http://pbs.twimg.com/profile_images/1138091420927946753/0oRjg8hC.jpg', 'http://pbs.twimg.com/profile_images/1138091420927946753/0oRjg8hC.jpg']\n"
     ]
    }
   ],
   "source": [
    "print(images[0:5])"
   ]
  },
  {
   "cell_type": "code",
   "execution_count": 98,
   "metadata": {},
   "outputs": [],
   "source": [
    "df['image'] = images\n"
   ]
  },
  {
   "cell_type": "code",
   "execution_count": 99,
   "metadata": {},
   "outputs": [
    {
     "data": {
      "text/html": [
       "<div>\n",
       "<style scoped>\n",
       "    .dataframe tbody tr th:only-of-type {\n",
       "        vertical-align: middle;\n",
       "    }\n",
       "\n",
       "    .dataframe tbody tr th {\n",
       "        vertical-align: top;\n",
       "    }\n",
       "\n",
       "    .dataframe thead th {\n",
       "        text-align: right;\n",
       "    }\n",
       "</style>\n",
       "<table border=\"1\" class=\"dataframe\">\n",
       "  <thead>\n",
       "    <tr style=\"text-align: right;\">\n",
       "      <th></th>\n",
       "      <th>Personality</th>\n",
       "      <th>username</th>\n",
       "      <th>user_id</th>\n",
       "      <th>tweets</th>\n",
       "      <th>followers_count</th>\n",
       "      <th>image</th>\n",
       "    </tr>\n",
       "  </thead>\n",
       "  <tbody>\n",
       "    <tr>\n",
       "      <th>0</th>\n",
       "      <td>istj</td>\n",
       "      <td>luripilsin</td>\n",
       "      <td>725812023989129216</td>\n",
       "      <td>[, Of course, MOOD 😚\\n\\nI 💜 @user too , Litera...</td>\n",
       "      <td>937</td>\n",
       "      <td>http://pbs.twimg.com/profile_images/1131020082...</td>\n",
       "    </tr>\n",
       "    <tr>\n",
       "      <th>1</th>\n",
       "      <td>infj</td>\n",
       "      <td>heiseinbitch</td>\n",
       "      <td>337081254</td>\n",
       "      <td>[#nowwatching Stranger Things - Chapter One: S...</td>\n",
       "      <td>233</td>\n",
       "      <td>http://pbs.twimg.com/profile_images/1097456689...</td>\n",
       "    </tr>\n",
       "    <tr>\n",
       "      <th>2</th>\n",
       "      <td>infj</td>\n",
       "      <td>madihamberger</td>\n",
       "      <td>44798649</td>\n",
       "      <td>[@user love you mom, @user &amp;gt;:(\\nI’m so sorr...</td>\n",
       "      <td>526</td>\n",
       "      <td>http://pbs.twimg.com/profile_images/1134280248...</td>\n",
       "    </tr>\n",
       "    <tr>\n",
       "      <th>3</th>\n",
       "      <td>infj</td>\n",
       "      <td>a_rdirivera</td>\n",
       "      <td>2182094762</td>\n",
       "      <td>[, The night is still young , , , , , , , My s...</td>\n",
       "      <td>4024</td>\n",
       "      <td>http://pbs.twimg.com/profile_images/1138091420...</td>\n",
       "    </tr>\n",
       "    <tr>\n",
       "      <th>4</th>\n",
       "      <td>infj</td>\n",
       "      <td>a_rdirivera</td>\n",
       "      <td>2182094762</td>\n",
       "      <td>[, The night is still young , , , , , , , My s...</td>\n",
       "      <td>4024</td>\n",
       "      <td>http://pbs.twimg.com/profile_images/1138091420...</td>\n",
       "    </tr>\n",
       "  </tbody>\n",
       "</table>\n",
       "</div>"
      ],
      "text/plain": [
       "  Personality       username             user_id  \\\n",
       "0        istj     luripilsin  725812023989129216   \n",
       "1        infj   heiseinbitch           337081254   \n",
       "2        infj  madihamberger            44798649   \n",
       "3        infj    a_rdirivera          2182094762   \n",
       "4        infj    a_rdirivera          2182094762   \n",
       "\n",
       "                                              tweets  followers_count  \\\n",
       "0  [, Of course, MOOD 😚\\n\\nI 💜 @user too , Litera...              937   \n",
       "1  [#nowwatching Stranger Things - Chapter One: S...              233   \n",
       "2  [@user love you mom, @user &gt;:(\\nI’m so sorr...              526   \n",
       "3  [, The night is still young , , , , , , , My s...             4024   \n",
       "4  [, The night is still young , , , , , , , My s...             4024   \n",
       "\n",
       "                                               image  \n",
       "0  http://pbs.twimg.com/profile_images/1131020082...  \n",
       "1  http://pbs.twimg.com/profile_images/1097456689...  \n",
       "2  http://pbs.twimg.com/profile_images/1134280248...  \n",
       "3  http://pbs.twimg.com/profile_images/1138091420...  \n",
       "4  http://pbs.twimg.com/profile_images/1138091420...  "
      ]
     },
     "execution_count": 99,
     "metadata": {},
     "output_type": "execute_result"
    }
   ],
   "source": [
    "df.head()"
   ]
  },
  {
   "cell_type": "code",
   "execution_count": 101,
   "metadata": {
    "scrolled": true
   },
   "outputs": [
    {
     "data": {
      "text/plain": [
       "(175, 6)"
      ]
     },
     "execution_count": 101,
     "metadata": {},
     "output_type": "execute_result"
    }
   ],
   "source": [
    "df.shape"
   ]
  },
  {
   "cell_type": "code",
   "execution_count": 110,
   "metadata": {},
   "outputs": [
    {
     "name": "stdout",
     "output_type": "stream",
     "text": [
      "number of tweets from first user : 200\n"
     ]
    }
   ],
   "source": [
    "print('number of tweets from first user :',len(df.iloc[0,3]))"
   ]
  },
  {
   "cell_type": "markdown",
   "metadata": {},
   "source": [
    "# export to a CSV file"
   ]
  },
  {
   "cell_type": "code",
   "execution_count": 102,
   "metadata": {},
   "outputs": [],
   "source": [
    "personalities_df = df.to_csv ('personalities_nS.csv', index = None, header=True)"
   ]
  },
  {
   "cell_type": "code",
   "execution_count": 103,
   "metadata": {},
   "outputs": [
    {
     "name": "stdout",
     "output_type": "stream",
     "text": [
      "/Users/Natallia/Documents/R/W210_capstone/Project/personality\r\n"
     ]
    }
   ],
   "source": [
    "!pwd\n"
   ]
  },
  {
   "cell_type": "code",
   "execution_count": null,
   "metadata": {},
   "outputs": [],
   "source": []
  }
 ],
 "metadata": {
  "kernelspec": {
   "display_name": "Python 3",
   "language": "python",
   "name": "python3"
  },
  "language_info": {
   "codemirror_mode": {
    "name": "ipython",
    "version": 3
   },
   "file_extension": ".py",
   "mimetype": "text/x-python",
   "name": "python",
   "nbconvert_exporter": "python",
   "pygments_lexer": "ipython3",
   "version": "3.6.8"
  }
 },
 "nbformat": 4,
 "nbformat_minor": 2
}
