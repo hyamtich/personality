{
 "cells": [
  {
   "cell_type": "code",
   "execution_count": 1,
   "metadata": {},
   "outputs": [],
   "source": [
    "import csv\n",
    "import os,re,csv\n",
    "from nltk.tokenize import RegexpTokenizer\n",
    "#from stop_words import get_stop_words\n",
    "from nltk.stem.porter import PorterStemmer\n",
    "from sklearn.feature_extraction.text import TfidfVectorizer, CountVectorizer\n",
    "#from gensim import corpora, models\n",
    "#import gensim\n",
    "import numpy as np\n",
    "import scipy\n",
    "import math\n",
    "import matplotlib.pyplot as plt\n",
    "#import plotly.plotly as py\n",
    "import twitter\n",
    "import json\n",
    "import pandas as pd"
   ]
  },
  {
   "cell_type": "code",
   "execution_count": 2,
   "metadata": {},
   "outputs": [],
   "source": [
    "import tweepy\n",
    "import csv\n",
    "import json"
   ]
  },
  {
   "cell_type": "code",
   "execution_count": 39,
   "metadata": {},
   "outputs": [],
   "source": [
    "## Attributes were collected with Twitter API and saved as npy files using this code:\n",
    "def saveList(attr_list,filename):\n",
    "    # the filename should have extension '.npy'\n",
    "    np.save(filename,attr_list)\n",
    "    print(\"FILE Saved!\")\n"
   ]
  },
  {
   "cell_type": "code",
   "execution_count": 38,
   "metadata": {},
   "outputs": [],
   "source": [
    "def loadList(filename):\n",
    "    # the filename: the extension 'npy'\n",
    "    NumPyArray=np.load(filename)\n",
    "    return NumPyArray.tolist()"
   ]
  },
  {
   "cell_type": "markdown",
   "metadata": {},
   "source": [
    "## combine files df with tweets, user names & /attributes/ "
   ]
  },
  {
   "cell_type": "code",
   "execution_count": null,
   "metadata": {},
   "outputs": [],
   "source": [
    "## Add attribute : decrption (collected and saved as npy file)"
   ]
  },
  {
   "cell_type": "code",
   "execution_count": 33,
   "metadata": {},
   "outputs": [],
   "source": [
    "## load csv file with correct MBTI types\n",
    "df_tweets = pd.read_csv('personalities_all_tw_1.csv', index_col = 0)"
   ]
  },
  {
   "cell_type": "code",
   "execution_count": 34,
   "metadata": {
    "scrolled": true
   },
   "outputs": [
    {
     "data": {
      "text/html": [
       "<div>\n",
       "<style scoped>\n",
       "    .dataframe tbody tr th:only-of-type {\n",
       "        vertical-align: middle;\n",
       "    }\n",
       "\n",
       "    .dataframe tbody tr th {\n",
       "        vertical-align: top;\n",
       "    }\n",
       "\n",
       "    .dataframe thead th {\n",
       "        text-align: right;\n",
       "    }\n",
       "</style>\n",
       "<table border=\"1\" class=\"dataframe\">\n",
       "  <thead>\n",
       "    <tr style=\"text-align: right;\">\n",
       "      <th></th>\n",
       "      <th>MBTI</th>\n",
       "      <th>created_prof</th>\n",
       "      <th>user_screen_name</th>\n",
       "      <th>tweets</th>\n",
       "      <th>id_</th>\n",
       "      <th>loc</th>\n",
       "      <th>descr</th>\n",
       "      <th>prot</th>\n",
       "      <th>followers</th>\n",
       "      <th>follow</th>\n",
       "      <th>friends</th>\n",
       "      <th>fav</th>\n",
       "      <th>timeZ</th>\n",
       "      <th>geo_en</th>\n",
       "      <th>prof_bg_col</th>\n",
       "      <th>prof_bkim_url</th>\n",
       "      <th>prof_image_url</th>\n",
       "    </tr>\n",
       "  </thead>\n",
       "  <tbody>\n",
       "    <tr>\n",
       "      <th>0</th>\n",
       "      <td>ENFP</td>\n",
       "      <td>NaN</td>\n",
       "      <td>BillTooke</td>\n",
       "      <td>[\"Yes. The College as the voting block for the...</td>\n",
       "      <td>NaN</td>\n",
       "      <td>New York, USA</td>\n",
       "      <td>NaN</td>\n",
       "      <td>NaN</td>\n",
       "      <td>NaN</td>\n",
       "      <td>NaN</td>\n",
       "      <td>NaN</td>\n",
       "      <td>NaN</td>\n",
       "      <td>NaN</td>\n",
       "      <td>NaN</td>\n",
       "      <td>NaN</td>\n",
       "      <td>NaN</td>\n",
       "      <td>http://pbs.twimg.com/profile_images/8070634314...</td>\n",
       "    </tr>\n",
       "    <tr>\n",
       "      <th>1</th>\n",
       "      <td>ENFP</td>\n",
       "      <td>NaN</td>\n",
       "      <td>dougie0216</td>\n",
       "      <td>['All Hail De Gendt! #TDF2019', 'He has a powe...</td>\n",
       "      <td>NaN</td>\n",
       "      <td>Country Aire - Elgin, Oklahoma</td>\n",
       "      <td>NaN</td>\n",
       "      <td>NaN</td>\n",
       "      <td>NaN</td>\n",
       "      <td>NaN</td>\n",
       "      <td>NaN</td>\n",
       "      <td>NaN</td>\n",
       "      <td>NaN</td>\n",
       "      <td>NaN</td>\n",
       "      <td>NaN</td>\n",
       "      <td>NaN</td>\n",
       "      <td>http://pbs.twimg.com/profile_images/1126179691...</td>\n",
       "    </tr>\n",
       "    <tr>\n",
       "      <th>2</th>\n",
       "      <td>ENFP</td>\n",
       "      <td>NaN</td>\n",
       "      <td>kimbetech</td>\n",
       "      <td>['Get on LIVE now. 10:30pm EST https:// share....</td>\n",
       "      <td>NaN</td>\n",
       "      <td>Tampa, FL</td>\n",
       "      <td>NaN</td>\n",
       "      <td>NaN</td>\n",
       "      <td>NaN</td>\n",
       "      <td>NaN</td>\n",
       "      <td>NaN</td>\n",
       "      <td>NaN</td>\n",
       "      <td>NaN</td>\n",
       "      <td>NaN</td>\n",
       "      <td>NaN</td>\n",
       "      <td>NaN</td>\n",
       "      <td>http://pbs.twimg.com/profile_images/1101342873...</td>\n",
       "    </tr>\n",
       "    <tr>\n",
       "      <th>3</th>\n",
       "      <td>ENFP</td>\n",
       "      <td>NaN</td>\n",
       "      <td>honeyBklein</td>\n",
       "      <td>['(Non-white, non-conservative female.)', 'Tru...</td>\n",
       "      <td>NaN</td>\n",
       "      <td>The Real World, USA</td>\n",
       "      <td>NaN</td>\n",
       "      <td>NaN</td>\n",
       "      <td>NaN</td>\n",
       "      <td>NaN</td>\n",
       "      <td>NaN</td>\n",
       "      <td>NaN</td>\n",
       "      <td>NaN</td>\n",
       "      <td>NaN</td>\n",
       "      <td>NaN</td>\n",
       "      <td>NaN</td>\n",
       "      <td>http://pbs.twimg.com/profile_images/1130313304...</td>\n",
       "    </tr>\n",
       "    <tr>\n",
       "      <th>4</th>\n",
       "      <td>ENFP</td>\n",
       "      <td>NaN</td>\n",
       "      <td>tanishatray4</td>\n",
       "      <td>['Are you left handed or right handed? — Left ...</td>\n",
       "      <td>NaN</td>\n",
       "      <td>NaN</td>\n",
       "      <td>NaN</td>\n",
       "      <td>NaN</td>\n",
       "      <td>NaN</td>\n",
       "      <td>NaN</td>\n",
       "      <td>NaN</td>\n",
       "      <td>NaN</td>\n",
       "      <td>NaN</td>\n",
       "      <td>NaN</td>\n",
       "      <td>NaN</td>\n",
       "      <td>NaN</td>\n",
       "      <td>http://pbs.twimg.com/profile_images/9792931110...</td>\n",
       "    </tr>\n",
       "  </tbody>\n",
       "</table>\n",
       "</div>"
      ],
      "text/plain": [
       "   MBTI  created_prof user_screen_name  \\\n",
       "0  ENFP           NaN        BillTooke   \n",
       "1  ENFP           NaN       dougie0216   \n",
       "2  ENFP           NaN        kimbetech   \n",
       "3  ENFP           NaN      honeyBklein   \n",
       "4  ENFP           NaN     tanishatray4   \n",
       "\n",
       "                                              tweets  id_  \\\n",
       "0  [\"Yes. The College as the voting block for the...  NaN   \n",
       "1  ['All Hail De Gendt! #TDF2019', 'He has a powe...  NaN   \n",
       "2  ['Get on LIVE now. 10:30pm EST https:// share....  NaN   \n",
       "3  ['(Non-white, non-conservative female.)', 'Tru...  NaN   \n",
       "4  ['Are you left handed or right handed? — Left ...  NaN   \n",
       "\n",
       "                              loc  descr  prot  followers  follow  friends  \\\n",
       "0                   New York, USA    NaN   NaN        NaN     NaN      NaN   \n",
       "1  Country Aire - Elgin, Oklahoma    NaN   NaN        NaN     NaN      NaN   \n",
       "2                       Tampa, FL    NaN   NaN        NaN     NaN      NaN   \n",
       "3             The Real World, USA    NaN   NaN        NaN     NaN      NaN   \n",
       "4                             NaN    NaN   NaN        NaN     NaN      NaN   \n",
       "\n",
       "   fav  timeZ  geo_en  prof_bg_col  prof_bkim_url  \\\n",
       "0  NaN    NaN     NaN          NaN            NaN   \n",
       "1  NaN    NaN     NaN          NaN            NaN   \n",
       "2  NaN    NaN     NaN          NaN            NaN   \n",
       "3  NaN    NaN     NaN          NaN            NaN   \n",
       "4  NaN    NaN     NaN          NaN            NaN   \n",
       "\n",
       "                                      prof_image_url  \n",
       "0  http://pbs.twimg.com/profile_images/8070634314...  \n",
       "1  http://pbs.twimg.com/profile_images/1126179691...  \n",
       "2  http://pbs.twimg.com/profile_images/1101342873...  \n",
       "3  http://pbs.twimg.com/profile_images/1130313304...  \n",
       "4  http://pbs.twimg.com/profile_images/9792931110...  "
      ]
     },
     "execution_count": 34,
     "metadata": {},
     "output_type": "execute_result"
    }
   ],
   "source": [
    "df_tweets.head()"
   ]
  },
  {
   "cell_type": "code",
   "execution_count": 36,
   "metadata": {},
   "outputs": [
    {
     "name": "stdout",
     "output_type": "stream",
     "text": [
      "number of rows/col in final df (13526, 17)\n",
      "number of rows with empty tweets 3117\n",
      "rows in dataset 10409\n"
     ]
    }
   ],
   "source": [
    "## dimensions:\n",
    "print('number of rows/col in final df',df_tweets.shape)\n",
    "\n",
    "print('number of rows with empty tweets',len(df_tweets[df_tweets['tweets']=='[]']))\n",
    "\n",
    "print('rows in dataset',len(df_tweets[df_tweets['tweets']!='[]']))\n"
   ]
  },
  {
   "cell_type": "markdown",
   "metadata": {},
   "source": [
    "## load descr .npy file"
   ]
  },
  {
   "cell_type": "code",
   "execution_count": 40,
   "metadata": {
    "scrolled": true
   },
   "outputs": [
    {
     "data": {
      "text/plain": [
       "[\"Proud dad to Patrick, and Izzy, (RIP). Debbie's husband. Proud son of Bill & Adrienne. Devout Catholic and proud of it. #GoBills\",\n",
       " 'Immigrants are not animals. Mid-Continental Liberal Elitist. Happily married, employed & home owner. Opinions expressed are my own. #ENFP #GoStars']"
      ]
     },
     "execution_count": 40,
     "metadata": {},
     "output_type": "execute_result"
    }
   ],
   "source": [
    "loaded_descr = loadList('attr_npy_files/descr_file.npy')\n",
    "\n",
    "loaded_descr[:2]"
   ]
  },
  {
   "cell_type": "code",
   "execution_count": 17,
   "metadata": {},
   "outputs": [
    {
     "data": {
      "text/plain": [
       "13526"
      ]
     },
     "execution_count": 17,
     "metadata": {},
     "output_type": "execute_result"
    }
   ],
   "source": [
    "len(loaded_descr)"
   ]
  },
  {
   "cell_type": "code",
   "execution_count": 41,
   "metadata": {},
   "outputs": [],
   "source": [
    "df_tweets['descr'] = loaded_descr"
   ]
  },
  {
   "cell_type": "code",
   "execution_count": 42,
   "metadata": {},
   "outputs": [
    {
     "data": {
      "text/html": [
       "<div>\n",
       "<style scoped>\n",
       "    .dataframe tbody tr th:only-of-type {\n",
       "        vertical-align: middle;\n",
       "    }\n",
       "\n",
       "    .dataframe tbody tr th {\n",
       "        vertical-align: top;\n",
       "    }\n",
       "\n",
       "    .dataframe thead th {\n",
       "        text-align: right;\n",
       "    }\n",
       "</style>\n",
       "<table border=\"1\" class=\"dataframe\">\n",
       "  <thead>\n",
       "    <tr style=\"text-align: right;\">\n",
       "      <th></th>\n",
       "      <th>MBTI</th>\n",
       "      <th>created_prof</th>\n",
       "      <th>user_screen_name</th>\n",
       "      <th>tweets</th>\n",
       "      <th>id_</th>\n",
       "      <th>loc</th>\n",
       "      <th>descr</th>\n",
       "      <th>prot</th>\n",
       "      <th>followers</th>\n",
       "      <th>follow</th>\n",
       "      <th>friends</th>\n",
       "      <th>fav</th>\n",
       "      <th>timeZ</th>\n",
       "      <th>geo_en</th>\n",
       "      <th>prof_bg_col</th>\n",
       "      <th>prof_bkim_url</th>\n",
       "      <th>prof_image_url</th>\n",
       "    </tr>\n",
       "  </thead>\n",
       "  <tbody>\n",
       "    <tr>\n",
       "      <th>0</th>\n",
       "      <td>ENFP</td>\n",
       "      <td>NaN</td>\n",
       "      <td>BillTooke</td>\n",
       "      <td>[\"Yes. The College as the voting block for the...</td>\n",
       "      <td>NaN</td>\n",
       "      <td>New York, USA</td>\n",
       "      <td>Proud dad to Patrick, and Izzy, (RIP). Debbie'...</td>\n",
       "      <td>NaN</td>\n",
       "      <td>NaN</td>\n",
       "      <td>NaN</td>\n",
       "      <td>NaN</td>\n",
       "      <td>NaN</td>\n",
       "      <td>NaN</td>\n",
       "      <td>NaN</td>\n",
       "      <td>NaN</td>\n",
       "      <td>NaN</td>\n",
       "      <td>http://pbs.twimg.com/profile_images/8070634314...</td>\n",
       "    </tr>\n",
       "    <tr>\n",
       "      <th>1</th>\n",
       "      <td>ENFP</td>\n",
       "      <td>NaN</td>\n",
       "      <td>dougie0216</td>\n",
       "      <td>['All Hail De Gendt! #TDF2019', 'He has a powe...</td>\n",
       "      <td>NaN</td>\n",
       "      <td>Country Aire - Elgin, Oklahoma</td>\n",
       "      <td>Immigrants are not animals. Mid-Continental Li...</td>\n",
       "      <td>NaN</td>\n",
       "      <td>NaN</td>\n",
       "      <td>NaN</td>\n",
       "      <td>NaN</td>\n",
       "      <td>NaN</td>\n",
       "      <td>NaN</td>\n",
       "      <td>NaN</td>\n",
       "      <td>NaN</td>\n",
       "      <td>NaN</td>\n",
       "      <td>http://pbs.twimg.com/profile_images/1126179691...</td>\n",
       "    </tr>\n",
       "    <tr>\n",
       "      <th>2</th>\n",
       "      <td>ENFP</td>\n",
       "      <td>NaN</td>\n",
       "      <td>kimbetech</td>\n",
       "      <td>['Get on LIVE now. 10:30pm EST https:// share....</td>\n",
       "      <td>NaN</td>\n",
       "      <td>Tampa, FL</td>\n",
       "      <td>currently binging: liberty, #climatedebate, ec...</td>\n",
       "      <td>NaN</td>\n",
       "      <td>NaN</td>\n",
       "      <td>NaN</td>\n",
       "      <td>NaN</td>\n",
       "      <td>NaN</td>\n",
       "      <td>NaN</td>\n",
       "      <td>NaN</td>\n",
       "      <td>NaN</td>\n",
       "      <td>NaN</td>\n",
       "      <td>http://pbs.twimg.com/profile_images/1101342873...</td>\n",
       "    </tr>\n",
       "    <tr>\n",
       "      <th>3</th>\n",
       "      <td>ENFP</td>\n",
       "      <td>NaN</td>\n",
       "      <td>honeyBklein</td>\n",
       "      <td>['(Non-white, non-conservative female.)', 'Tru...</td>\n",
       "      <td>NaN</td>\n",
       "      <td>The Real World, USA</td>\n",
       "      <td>AdoreHubby🐊Mom of 8🐝g'mom🐣artist🎨writer🖋prolif...</td>\n",
       "      <td>NaN</td>\n",
       "      <td>NaN</td>\n",
       "      <td>NaN</td>\n",
       "      <td>NaN</td>\n",
       "      <td>NaN</td>\n",
       "      <td>NaN</td>\n",
       "      <td>NaN</td>\n",
       "      <td>NaN</td>\n",
       "      <td>NaN</td>\n",
       "      <td>http://pbs.twimg.com/profile_images/1130313304...</td>\n",
       "    </tr>\n",
       "    <tr>\n",
       "      <th>4</th>\n",
       "      <td>ENFP</td>\n",
       "      <td>NaN</td>\n",
       "      <td>tanishatray4</td>\n",
       "      <td>['Are you left handed or right handed? — Left ...</td>\n",
       "      <td>NaN</td>\n",
       "      <td>NaN</td>\n",
       "      <td>Them eyebrows on feature. YouTuber in process ...</td>\n",
       "      <td>NaN</td>\n",
       "      <td>NaN</td>\n",
       "      <td>NaN</td>\n",
       "      <td>NaN</td>\n",
       "      <td>NaN</td>\n",
       "      <td>NaN</td>\n",
       "      <td>NaN</td>\n",
       "      <td>NaN</td>\n",
       "      <td>NaN</td>\n",
       "      <td>http://pbs.twimg.com/profile_images/9792931110...</td>\n",
       "    </tr>\n",
       "  </tbody>\n",
       "</table>\n",
       "</div>"
      ],
      "text/plain": [
       "   MBTI  created_prof user_screen_name  \\\n",
       "0  ENFP           NaN        BillTooke   \n",
       "1  ENFP           NaN       dougie0216   \n",
       "2  ENFP           NaN        kimbetech   \n",
       "3  ENFP           NaN      honeyBklein   \n",
       "4  ENFP           NaN     tanishatray4   \n",
       "\n",
       "                                              tweets  id_  \\\n",
       "0  [\"Yes. The College as the voting block for the...  NaN   \n",
       "1  ['All Hail De Gendt! #TDF2019', 'He has a powe...  NaN   \n",
       "2  ['Get on LIVE now. 10:30pm EST https:// share....  NaN   \n",
       "3  ['(Non-white, non-conservative female.)', 'Tru...  NaN   \n",
       "4  ['Are you left handed or right handed? — Left ...  NaN   \n",
       "\n",
       "                              loc  \\\n",
       "0                   New York, USA   \n",
       "1  Country Aire - Elgin, Oklahoma   \n",
       "2                       Tampa, FL   \n",
       "3             The Real World, USA   \n",
       "4                             NaN   \n",
       "\n",
       "                                               descr  prot  followers  follow  \\\n",
       "0  Proud dad to Patrick, and Izzy, (RIP). Debbie'...   NaN        NaN     NaN   \n",
       "1  Immigrants are not animals. Mid-Continental Li...   NaN        NaN     NaN   \n",
       "2  currently binging: liberty, #climatedebate, ec...   NaN        NaN     NaN   \n",
       "3  AdoreHubby🐊Mom of 8🐝g'mom🐣artist🎨writer🖋prolif...   NaN        NaN     NaN   \n",
       "4  Them eyebrows on feature. YouTuber in process ...   NaN        NaN     NaN   \n",
       "\n",
       "   friends  fav  timeZ  geo_en  prof_bg_col  prof_bkim_url  \\\n",
       "0      NaN  NaN    NaN     NaN          NaN            NaN   \n",
       "1      NaN  NaN    NaN     NaN          NaN            NaN   \n",
       "2      NaN  NaN    NaN     NaN          NaN            NaN   \n",
       "3      NaN  NaN    NaN     NaN          NaN            NaN   \n",
       "4      NaN  NaN    NaN     NaN          NaN            NaN   \n",
       "\n",
       "                                      prof_image_url  \n",
       "0  http://pbs.twimg.com/profile_images/8070634314...  \n",
       "1  http://pbs.twimg.com/profile_images/1126179691...  \n",
       "2  http://pbs.twimg.com/profile_images/1101342873...  \n",
       "3  http://pbs.twimg.com/profile_images/1130313304...  \n",
       "4  http://pbs.twimg.com/profile_images/9792931110...  "
      ]
     },
     "execution_count": 42,
     "metadata": {},
     "output_type": "execute_result"
    }
   ],
   "source": [
    "df_tweets.head()"
   ]
  },
  {
   "cell_type": "code",
   "execution_count": 43,
   "metadata": {},
   "outputs": [
    {
     "data": {
      "text/plain": [
       "(13526, 17)"
      ]
     },
     "execution_count": 43,
     "metadata": {},
     "output_type": "execute_result"
    }
   ],
   "source": [
    "df_tweets.shape"
   ]
  },
  {
   "cell_type": "code",
   "execution_count": null,
   "metadata": {},
   "outputs": [],
   "source": []
  },
  {
   "cell_type": "markdown",
   "metadata": {},
   "source": [
    "## Add followers:"
   ]
  },
  {
   "cell_type": "code",
   "execution_count": 44,
   "metadata": {},
   "outputs": [
    {
     "data": {
      "text/plain": [
       "13526"
      ]
     },
     "execution_count": 44,
     "metadata": {},
     "output_type": "execute_result"
    }
   ],
   "source": [
    "loaded_fol = loadList('attr_npy_files/followers_file.npy')\n",
    "\n",
    "len(loaded_fol)"
   ]
  },
  {
   "cell_type": "markdown",
   "metadata": {},
   "source": [
    "#### The numbers in followers are text, not integers."
   ]
  },
  {
   "cell_type": "code",
   "execution_count": 22,
   "metadata": {},
   "outputs": [],
   "source": [
    "loaded_fol_int = [int(a) if a != 'NA' else -1.0 for a in loaded_fol]"
   ]
  },
  {
   "cell_type": "code",
   "execution_count": 23,
   "metadata": {},
   "outputs": [
    {
     "data": {
      "text/plain": [
       "0"
      ]
     },
     "execution_count": 23,
     "metadata": {},
     "output_type": "execute_result"
    }
   ],
   "source": [
    "sum(pd.isna(loaded_fol_int))"
   ]
  },
  {
   "cell_type": "code",
   "execution_count": 24,
   "metadata": {},
   "outputs": [
    {
     "data": {
      "text/plain": [
       "0"
      ]
     },
     "execution_count": 24,
     "metadata": {},
     "output_type": "execute_result"
    }
   ],
   "source": [
    "sum([1.0 if k =='NA' else 0 for k in loaded_fol_int ])"
   ]
  },
  {
   "cell_type": "code",
   "execution_count": 25,
   "metadata": {
    "scrolled": true
   },
   "outputs": [
    {
     "data": {
      "text/plain": [
       "13526"
      ]
     },
     "execution_count": 25,
     "metadata": {},
     "output_type": "execute_result"
    }
   ],
   "source": [
    "len(loaded_fol_int)"
   ]
  },
  {
   "cell_type": "code",
   "execution_count": 26,
   "metadata": {
    "scrolled": true
   },
   "outputs": [
    {
     "data": {
      "text/plain": [
       "int"
      ]
     },
     "execution_count": 26,
     "metadata": {},
     "output_type": "execute_result"
    }
   ],
   "source": [
    "type(loaded_fol_int[1])"
   ]
  },
  {
   "cell_type": "code",
   "execution_count": 45,
   "metadata": {},
   "outputs": [],
   "source": [
    "df_tweets['followers'] = loaded_fol_int"
   ]
  },
  {
   "cell_type": "code",
   "execution_count": 46,
   "metadata": {
    "scrolled": false
   },
   "outputs": [
    {
     "data": {
      "text/html": [
       "<div>\n",
       "<style scoped>\n",
       "    .dataframe tbody tr th:only-of-type {\n",
       "        vertical-align: middle;\n",
       "    }\n",
       "\n",
       "    .dataframe tbody tr th {\n",
       "        vertical-align: top;\n",
       "    }\n",
       "\n",
       "    .dataframe thead th {\n",
       "        text-align: right;\n",
       "    }\n",
       "</style>\n",
       "<table border=\"1\" class=\"dataframe\">\n",
       "  <thead>\n",
       "    <tr style=\"text-align: right;\">\n",
       "      <th></th>\n",
       "      <th>MBTI</th>\n",
       "      <th>created_prof</th>\n",
       "      <th>user_screen_name</th>\n",
       "      <th>tweets</th>\n",
       "      <th>id_</th>\n",
       "      <th>loc</th>\n",
       "      <th>descr</th>\n",
       "      <th>prot</th>\n",
       "      <th>followers</th>\n",
       "      <th>follow</th>\n",
       "      <th>friends</th>\n",
       "      <th>fav</th>\n",
       "      <th>timeZ</th>\n",
       "      <th>geo_en</th>\n",
       "      <th>prof_bg_col</th>\n",
       "      <th>prof_bkim_url</th>\n",
       "      <th>prof_image_url</th>\n",
       "    </tr>\n",
       "  </thead>\n",
       "  <tbody>\n",
       "    <tr>\n",
       "      <th>0</th>\n",
       "      <td>ENFP</td>\n",
       "      <td>NaN</td>\n",
       "      <td>BillTooke</td>\n",
       "      <td>[\"Yes. The College as the voting block for the...</td>\n",
       "      <td>NaN</td>\n",
       "      <td>New York, USA</td>\n",
       "      <td>Proud dad to Patrick, and Izzy, (RIP). Debbie'...</td>\n",
       "      <td>NaN</td>\n",
       "      <td>712.0</td>\n",
       "      <td>NaN</td>\n",
       "      <td>NaN</td>\n",
       "      <td>NaN</td>\n",
       "      <td>NaN</td>\n",
       "      <td>NaN</td>\n",
       "      <td>NaN</td>\n",
       "      <td>NaN</td>\n",
       "      <td>http://pbs.twimg.com/profile_images/8070634314...</td>\n",
       "    </tr>\n",
       "    <tr>\n",
       "      <th>1</th>\n",
       "      <td>ENFP</td>\n",
       "      <td>NaN</td>\n",
       "      <td>dougie0216</td>\n",
       "      <td>['All Hail De Gendt! #TDF2019', 'He has a powe...</td>\n",
       "      <td>NaN</td>\n",
       "      <td>Country Aire - Elgin, Oklahoma</td>\n",
       "      <td>Immigrants are not animals. Mid-Continental Li...</td>\n",
       "      <td>NaN</td>\n",
       "      <td>412.0</td>\n",
       "      <td>NaN</td>\n",
       "      <td>NaN</td>\n",
       "      <td>NaN</td>\n",
       "      <td>NaN</td>\n",
       "      <td>NaN</td>\n",
       "      <td>NaN</td>\n",
       "      <td>NaN</td>\n",
       "      <td>http://pbs.twimg.com/profile_images/1126179691...</td>\n",
       "    </tr>\n",
       "    <tr>\n",
       "      <th>2</th>\n",
       "      <td>ENFP</td>\n",
       "      <td>NaN</td>\n",
       "      <td>kimbetech</td>\n",
       "      <td>['Get on LIVE now. 10:30pm EST https:// share....</td>\n",
       "      <td>NaN</td>\n",
       "      <td>Tampa, FL</td>\n",
       "      <td>currently binging: liberty, #climatedebate, ec...</td>\n",
       "      <td>NaN</td>\n",
       "      <td>601.0</td>\n",
       "      <td>NaN</td>\n",
       "      <td>NaN</td>\n",
       "      <td>NaN</td>\n",
       "      <td>NaN</td>\n",
       "      <td>NaN</td>\n",
       "      <td>NaN</td>\n",
       "      <td>NaN</td>\n",
       "      <td>http://pbs.twimg.com/profile_images/1101342873...</td>\n",
       "    </tr>\n",
       "    <tr>\n",
       "      <th>3</th>\n",
       "      <td>ENFP</td>\n",
       "      <td>NaN</td>\n",
       "      <td>honeyBklein</td>\n",
       "      <td>['(Non-white, non-conservative female.)', 'Tru...</td>\n",
       "      <td>NaN</td>\n",
       "      <td>The Real World, USA</td>\n",
       "      <td>AdoreHubby🐊Mom of 8🐝g'mom🐣artist🎨writer🖋prolif...</td>\n",
       "      <td>NaN</td>\n",
       "      <td>4947.0</td>\n",
       "      <td>NaN</td>\n",
       "      <td>NaN</td>\n",
       "      <td>NaN</td>\n",
       "      <td>NaN</td>\n",
       "      <td>NaN</td>\n",
       "      <td>NaN</td>\n",
       "      <td>NaN</td>\n",
       "      <td>http://pbs.twimg.com/profile_images/1130313304...</td>\n",
       "    </tr>\n",
       "    <tr>\n",
       "      <th>4</th>\n",
       "      <td>ENFP</td>\n",
       "      <td>NaN</td>\n",
       "      <td>tanishatray4</td>\n",
       "      <td>['Are you left handed or right handed? — Left ...</td>\n",
       "      <td>NaN</td>\n",
       "      <td>NaN</td>\n",
       "      <td>Them eyebrows on feature. YouTuber in process ...</td>\n",
       "      <td>NaN</td>\n",
       "      <td>317.0</td>\n",
       "      <td>NaN</td>\n",
       "      <td>NaN</td>\n",
       "      <td>NaN</td>\n",
       "      <td>NaN</td>\n",
       "      <td>NaN</td>\n",
       "      <td>NaN</td>\n",
       "      <td>NaN</td>\n",
       "      <td>http://pbs.twimg.com/profile_images/9792931110...</td>\n",
       "    </tr>\n",
       "  </tbody>\n",
       "</table>\n",
       "</div>"
      ],
      "text/plain": [
       "   MBTI  created_prof user_screen_name  \\\n",
       "0  ENFP           NaN        BillTooke   \n",
       "1  ENFP           NaN       dougie0216   \n",
       "2  ENFP           NaN        kimbetech   \n",
       "3  ENFP           NaN      honeyBklein   \n",
       "4  ENFP           NaN     tanishatray4   \n",
       "\n",
       "                                              tweets  id_  \\\n",
       "0  [\"Yes. The College as the voting block for the...  NaN   \n",
       "1  ['All Hail De Gendt! #TDF2019', 'He has a powe...  NaN   \n",
       "2  ['Get on LIVE now. 10:30pm EST https:// share....  NaN   \n",
       "3  ['(Non-white, non-conservative female.)', 'Tru...  NaN   \n",
       "4  ['Are you left handed or right handed? — Left ...  NaN   \n",
       "\n",
       "                              loc  \\\n",
       "0                   New York, USA   \n",
       "1  Country Aire - Elgin, Oklahoma   \n",
       "2                       Tampa, FL   \n",
       "3             The Real World, USA   \n",
       "4                             NaN   \n",
       "\n",
       "                                               descr  prot  followers  follow  \\\n",
       "0  Proud dad to Patrick, and Izzy, (RIP). Debbie'...   NaN      712.0     NaN   \n",
       "1  Immigrants are not animals. Mid-Continental Li...   NaN      412.0     NaN   \n",
       "2  currently binging: liberty, #climatedebate, ec...   NaN      601.0     NaN   \n",
       "3  AdoreHubby🐊Mom of 8🐝g'mom🐣artist🎨writer🖋prolif...   NaN     4947.0     NaN   \n",
       "4  Them eyebrows on feature. YouTuber in process ...   NaN      317.0     NaN   \n",
       "\n",
       "   friends  fav  timeZ  geo_en  prof_bg_col  prof_bkim_url  \\\n",
       "0      NaN  NaN    NaN     NaN          NaN            NaN   \n",
       "1      NaN  NaN    NaN     NaN          NaN            NaN   \n",
       "2      NaN  NaN    NaN     NaN          NaN            NaN   \n",
       "3      NaN  NaN    NaN     NaN          NaN            NaN   \n",
       "4      NaN  NaN    NaN     NaN          NaN            NaN   \n",
       "\n",
       "                                      prof_image_url  \n",
       "0  http://pbs.twimg.com/profile_images/8070634314...  \n",
       "1  http://pbs.twimg.com/profile_images/1126179691...  \n",
       "2  http://pbs.twimg.com/profile_images/1101342873...  \n",
       "3  http://pbs.twimg.com/profile_images/1130313304...  \n",
       "4  http://pbs.twimg.com/profile_images/9792931110...  "
      ]
     },
     "execution_count": 46,
     "metadata": {},
     "output_type": "execute_result"
    }
   ],
   "source": [
    "df_tweets.head()"
   ]
  },
  {
   "cell_type": "markdown",
   "metadata": {},
   "source": [
    "### So we have the df with several attributes to work with but ... "
   ]
  },
  {
   "cell_type": "markdown",
   "metadata": {},
   "source": [
    "### That is what happen when I saved it as csv and reopen"
   ]
  },
  {
   "cell_type": "code",
   "execution_count": 48,
   "metadata": {},
   "outputs": [],
   "source": [
    "df_tw_loc_desc_fol_im = df_tweets.to_csv('personalities_all_tw_2.csv',header=True,index = True)"
   ]
  },
  {
   "cell_type": "code",
   "execution_count": 49,
   "metadata": {},
   "outputs": [],
   "source": [
    "ddff = pd.read_csv('personalities_all_tw_2.csv', index_col = 0)"
   ]
  },
  {
   "cell_type": "code",
   "execution_count": 50,
   "metadata": {},
   "outputs": [
    {
     "data": {
      "text/plain": [
       "pandas.core.frame.DataFrame"
      ]
     },
     "execution_count": 50,
     "metadata": {},
     "output_type": "execute_result"
    }
   ],
   "source": [
    "type(ddff)"
   ]
  },
  {
   "cell_type": "code",
   "execution_count": 51,
   "metadata": {},
   "outputs": [
    {
     "data": {
      "text/plain": [
       "(13532, 17)"
      ]
     },
     "execution_count": 51,
     "metadata": {},
     "output_type": "execute_result"
    }
   ],
   "source": [
    "### it is different number of rows!\n",
    "ddff.shape"
   ]
  },
  {
   "cell_type": "code",
   "execution_count": 120,
   "metadata": {},
   "outputs": [
    {
     "data": {
      "text/html": [
       "<div>\n",
       "<style scoped>\n",
       "    .dataframe tbody tr th:only-of-type {\n",
       "        vertical-align: middle;\n",
       "    }\n",
       "\n",
       "    .dataframe tbody tr th {\n",
       "        vertical-align: top;\n",
       "    }\n",
       "\n",
       "    .dataframe thead th {\n",
       "        text-align: right;\n",
       "    }\n",
       "</style>\n",
       "<table border=\"1\" class=\"dataframe\">\n",
       "  <thead>\n",
       "    <tr style=\"text-align: right;\">\n",
       "      <th></th>\n",
       "      <th>MBTI</th>\n",
       "      <th>created_prof</th>\n",
       "      <th>user_screen_name</th>\n",
       "      <th>tweets</th>\n",
       "      <th>id_</th>\n",
       "      <th>loc</th>\n",
       "      <th>descr</th>\n",
       "      <th>prot</th>\n",
       "      <th>followers</th>\n",
       "      <th>follow</th>\n",
       "      <th>friends</th>\n",
       "      <th>fav</th>\n",
       "      <th>timeZ</th>\n",
       "      <th>geo_en</th>\n",
       "      <th>prof_bg_col</th>\n",
       "      <th>prof_bkim_url</th>\n",
       "      <th>prof_image_url</th>\n",
       "    </tr>\n",
       "  </thead>\n",
       "  <tbody>\n",
       "    <tr>\n",
       "      <th>0</th>\n",
       "      <td>ENFP</td>\n",
       "      <td>NaN</td>\n",
       "      <td>BillTooke</td>\n",
       "      <td>[\"Yes. The College as the voting block for the...</td>\n",
       "      <td>NaN</td>\n",
       "      <td>New York, USA</td>\n",
       "      <td>Proud dad to Patrick, and Izzy, (RIP). Debbie'...</td>\n",
       "      <td>NaN</td>\n",
       "      <td>712.0</td>\n",
       "      <td>NaN</td>\n",
       "      <td>NaN</td>\n",
       "      <td>NaN</td>\n",
       "      <td>NaN</td>\n",
       "      <td>NaN</td>\n",
       "      <td>NaN</td>\n",
       "      <td>NaN</td>\n",
       "      <td>http://pbs.twimg.com/profile_images/8070634314...</td>\n",
       "    </tr>\n",
       "    <tr>\n",
       "      <th>1</th>\n",
       "      <td>ENFP</td>\n",
       "      <td>NaN</td>\n",
       "      <td>dougie0216</td>\n",
       "      <td>['All Hail De Gendt! #TDF2019', 'He has a powe...</td>\n",
       "      <td>NaN</td>\n",
       "      <td>Country Aire - Elgin, Oklahoma</td>\n",
       "      <td>Immigrants are not animals. Mid-Continental Li...</td>\n",
       "      <td>NaN</td>\n",
       "      <td>412.0</td>\n",
       "      <td>NaN</td>\n",
       "      <td>NaN</td>\n",
       "      <td>NaN</td>\n",
       "      <td>NaN</td>\n",
       "      <td>NaN</td>\n",
       "      <td>NaN</td>\n",
       "      <td>NaN</td>\n",
       "      <td>http://pbs.twimg.com/profile_images/1126179691...</td>\n",
       "    </tr>\n",
       "    <tr>\n",
       "      <th>2</th>\n",
       "      <td>ENFP</td>\n",
       "      <td>NaN</td>\n",
       "      <td>kimbetech</td>\n",
       "      <td>['Get on LIVE now. 10:30pm EST https:// share....</td>\n",
       "      <td>NaN</td>\n",
       "      <td>Tampa, FL</td>\n",
       "      <td>currently binging: liberty, #climatedebate, ec...</td>\n",
       "      <td>NaN</td>\n",
       "      <td>601.0</td>\n",
       "      <td>NaN</td>\n",
       "      <td>NaN</td>\n",
       "      <td>NaN</td>\n",
       "      <td>NaN</td>\n",
       "      <td>NaN</td>\n",
       "      <td>NaN</td>\n",
       "      <td>NaN</td>\n",
       "      <td>http://pbs.twimg.com/profile_images/1101342873...</td>\n",
       "    </tr>\n",
       "    <tr>\n",
       "      <th>3</th>\n",
       "      <td>ENFP</td>\n",
       "      <td>NaN</td>\n",
       "      <td>honeyBklein</td>\n",
       "      <td>['(Non-white, non-conservative female.)', 'Tru...</td>\n",
       "      <td>NaN</td>\n",
       "      <td>The Real World, USA</td>\n",
       "      <td>AdoreHubby🐊Mom of 8🐝g'mom🐣artist🎨writer🖋prolif...</td>\n",
       "      <td>NaN</td>\n",
       "      <td>4947.0</td>\n",
       "      <td>NaN</td>\n",
       "      <td>NaN</td>\n",
       "      <td>NaN</td>\n",
       "      <td>NaN</td>\n",
       "      <td>NaN</td>\n",
       "      <td>NaN</td>\n",
       "      <td>NaN</td>\n",
       "      <td>http://pbs.twimg.com/profile_images/1130313304...</td>\n",
       "    </tr>\n",
       "    <tr>\n",
       "      <th>4</th>\n",
       "      <td>ENFP</td>\n",
       "      <td>NaN</td>\n",
       "      <td>tanishatray4</td>\n",
       "      <td>['Are you left handed or right handed? — Left ...</td>\n",
       "      <td>NaN</td>\n",
       "      <td>NaN</td>\n",
       "      <td>Them eyebrows on feature. YouTuber in process ...</td>\n",
       "      <td>NaN</td>\n",
       "      <td>317.0</td>\n",
       "      <td>NaN</td>\n",
       "      <td>NaN</td>\n",
       "      <td>NaN</td>\n",
       "      <td>NaN</td>\n",
       "      <td>NaN</td>\n",
       "      <td>NaN</td>\n",
       "      <td>NaN</td>\n",
       "      <td>http://pbs.twimg.com/profile_images/9792931110...</td>\n",
       "    </tr>\n",
       "  </tbody>\n",
       "</table>\n",
       "</div>"
      ],
      "text/plain": [
       "   MBTI  created_prof user_screen_name  \\\n",
       "0  ENFP           NaN        BillTooke   \n",
       "1  ENFP           NaN       dougie0216   \n",
       "2  ENFP           NaN        kimbetech   \n",
       "3  ENFP           NaN      honeyBklein   \n",
       "4  ENFP           NaN     tanishatray4   \n",
       "\n",
       "                                              tweets  id_  \\\n",
       "0  [\"Yes. The College as the voting block for the...  NaN   \n",
       "1  ['All Hail De Gendt! #TDF2019', 'He has a powe...  NaN   \n",
       "2  ['Get on LIVE now. 10:30pm EST https:// share....  NaN   \n",
       "3  ['(Non-white, non-conservative female.)', 'Tru...  NaN   \n",
       "4  ['Are you left handed or right handed? — Left ...  NaN   \n",
       "\n",
       "                              loc  \\\n",
       "0                   New York, USA   \n",
       "1  Country Aire - Elgin, Oklahoma   \n",
       "2                       Tampa, FL   \n",
       "3             The Real World, USA   \n",
       "4                             NaN   \n",
       "\n",
       "                                               descr  prot  followers follow  \\\n",
       "0  Proud dad to Patrick, and Izzy, (RIP). Debbie'...   NaN      712.0    NaN   \n",
       "1  Immigrants are not animals. Mid-Continental Li...   NaN      412.0    NaN   \n",
       "2  currently binging: liberty, #climatedebate, ec...   NaN      601.0    NaN   \n",
       "3  AdoreHubby🐊Mom of 8🐝g'mom🐣artist🎨writer🖋prolif...   NaN     4947.0    NaN   \n",
       "4  Them eyebrows on feature. YouTuber in process ...   NaN      317.0    NaN   \n",
       "\n",
       "   friends  fav  timeZ  geo_en  prof_bg_col  prof_bkim_url  \\\n",
       "0      NaN  NaN    NaN     NaN          NaN            NaN   \n",
       "1      NaN  NaN    NaN     NaN          NaN            NaN   \n",
       "2      NaN  NaN    NaN     NaN          NaN            NaN   \n",
       "3      NaN  NaN    NaN     NaN          NaN            NaN   \n",
       "4      NaN  NaN    NaN     NaN          NaN            NaN   \n",
       "\n",
       "                                      prof_image_url  \n",
       "0  http://pbs.twimg.com/profile_images/8070634314...  \n",
       "1  http://pbs.twimg.com/profile_images/1126179691...  \n",
       "2  http://pbs.twimg.com/profile_images/1101342873...  \n",
       "3  http://pbs.twimg.com/profile_images/1130313304...  \n",
       "4  http://pbs.twimg.com/profile_images/9792931110...  "
      ]
     },
     "execution_count": 120,
     "metadata": {},
     "output_type": "execute_result"
    }
   ],
   "source": [
    "ddff.head()"
   ]
  },
  {
   "cell_type": "code",
   "execution_count": null,
   "metadata": {},
   "outputs": [],
   "source": []
  }
 ],
 "metadata": {
  "kernelspec": {
   "display_name": "Python 3",
   "language": "python",
   "name": "python3"
  },
  "language_info": {
   "codemirror_mode": {
    "name": "ipython",
    "version": 3
   },
   "file_extension": ".py",
   "mimetype": "text/x-python",
   "name": "python",
   "nbconvert_exporter": "python",
   "pygments_lexer": "ipython3",
   "version": "3.6.8"
  }
 },
 "nbformat": 4,
 "nbformat_minor": 2
}
