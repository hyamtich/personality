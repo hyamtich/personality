{
 "cells": [
  {
   "cell_type": "markdown",
   "metadata": {},
   "source": [
    "# imports"
   ]
  },
  {
   "cell_type": "code",
   "execution_count": 3,
   "metadata": {},
   "outputs": [],
   "source": [
    "import csv\n",
    "import os,re,csv\n",
    "from nltk.tokenize import RegexpTokenizer\n",
    "from stop_words import get_stop_words\n",
    "from nltk.stem.porter import PorterStemmer\n",
    "from sklearn.feature_extraction.text import TfidfVectorizer, CountVectorizer\n",
    "from gensim import corpora, models\n",
    "import gensim\n",
    "import numpy as np\n",
    "import scipy\n",
    "import math\n",
    "import matplotlib.pyplot as plt\n",
    "import plotly.plotly as py\n",
    "import twitter\n",
    "import json\n",
    "import pandas as pd"
   ]
  },
  {
   "cell_type": "code",
   "execution_count": 4,
   "metadata": {},
   "outputs": [],
   "source": [
    "import tweepy\n",
    "import csv\n",
    "import json"
   ]
  },
  {
   "cell_type": "markdown",
   "metadata": {},
   "source": [
    "# setting up the csv files"
   ]
  },
  {
   "cell_type": "markdown",
   "metadata": {},
   "source": [
    "## Start (added by Natallia)"
   ]
  },
  {
   "cell_type": "code",
   "execution_count": 3,
   "metadata": {},
   "outputs": [
    {
     "name": "stdout",
     "output_type": "stream",
     "text": [
      "/Users/Natallia/Documents/R/W210_capstone/Project/personality/Natallia\r\n"
     ]
    }
   ],
   "source": [
    "!pwd"
   ]
  },
  {
   "cell_type": "code",
   "execution_count": 5,
   "metadata": {},
   "outputs": [],
   "source": [
    "#!ls -l"
   ]
  },
  {
   "cell_type": "code",
   "execution_count": 6,
   "metadata": {},
   "outputs": [],
   "source": [
    "## CSV folder have all scv files starts with "
   ]
  },
  {
   "cell_type": "markdown",
   "metadata": {},
   "source": [
    "#### Rename original files __ NO need to rename"
   ]
  },
  {
   "cell_type": "code",
   "execution_count": 4,
   "metadata": {},
   "outputs": [],
   "source": [
    "import os"
   ]
  },
  {
   "cell_type": "code",
   "execution_count": 58,
   "metadata": {},
   "outputs": [
    {
     "data": {
      "text/plain": [
       "['E_S_F_J_Jun_25_Jul_03',\n",
       " 'E_S_T_J_Jul_1_7R.csv',\n",
       " 'E_S_T_J_Jul_1_7.csv',\n",
       " 'E_N_F_J_Jul_1_7.csv']"
      ]
     },
     "execution_count": 58,
     "metadata": {},
     "output_type": "execute_result"
    }
   ],
   "source": [
    "os.chdir('/Users/Natallia/Documents/R/W210_capstone/Project/personality/Natallia/CSV_Jul_1_7')\n",
    "originals = []\n",
    "for f in os.listdir():\n",
    "    #print(f)\n",
    "    originals.append(f)\n",
    "originals[:4]\n",
    "    "
   ]
  },
  {
   "cell_type": "raw",
   "metadata": {},
   "source": [
    "import os\n",
    "os.chdir('/Users/Natallia/Documents/R/W210_capstone/Project/personality/CSV')\n",
    "for f in os.listdir():\n",
    "    file_n,file_ext = os.path.splitext(f)\n",
    "    #print(file_n,file_ext)\n",
    "    file_n = str(file_n.strip(\"b'\"))\n",
    "    new = '{}{}'.format(file_n,file_ext)\n",
    "    os.rename(f,new)\n",
    "    \n",
    "    print(file_n,file_ext)\n",
    "    "
   ]
  },
  {
   "cell_type": "markdown",
   "metadata": {},
   "source": [
    "http://jonathansoma.com/lede/foundations-2017/classes/working-with-many-files/class/"
   ]
  },
  {
   "cell_type": "code",
   "execution_count": 59,
   "metadata": {
    "scrolled": true
   },
   "outputs": [
    {
     "data": {
      "text/plain": [
       "['E_S_T_J_Jul_1_7R.csv',\n",
       " 'E_S_T_J_Jul_1_7.csv',\n",
       " 'E_N_F_J_Jul_1_7.csv',\n",
       " 'E_N_T_P_Jul_1_7.csv',\n",
       " 'E_S_F_P_Jul_1_7.csv',\n",
       " 'I_S_T_P_Jul_1_7R.csv',\n",
       " 'E_S_F_J_Jul_1_7.csv',\n",
       " 'E_N_T_J_Jul_1_7.csv',\n",
       " 'E_N_F_P_Jul_1_7.csv',\n",
       " 'E_S_T_P_Jul_1_7.csv',\n",
       " 'I_S_F_J_Jul_1_7.csv',\n",
       " 'I_N_T_J_Jul_1_7.csv',\n",
       " 'I_N_F_P_Jul_1_7.csv',\n",
       " 'I_S_T_P_Jul_1_7.csv',\n",
       " 'I_S_T_J_Jul_1_7.csv',\n",
       " 'I_N_F_J_Jul_1_7.csv',\n",
       " 'I_N_T_P_Jul_1_7.csv',\n",
       " 'E_S_T_P_Jul_1_7R.csv',\n",
       " 'I_S_F_P_Jul_1_7.csv']"
      ]
     },
     "execution_count": 59,
     "metadata": {},
     "output_type": "execute_result"
    }
   ],
   "source": [
    "import glob\n",
    "\n",
    "# The * is not a regex, it just means \"match anything\"\n",
    "# This matches datafile-0.csv, datafile-1.csv, etc.\n",
    "glob.glob(\"*_*.csv\")"
   ]
  },
  {
   "cell_type": "code",
   "execution_count": 7,
   "metadata": {},
   "outputs": [],
   "source": [
    "file_names = ['E_S_T_J_Jul_1_7R.csv',\n",
    " 'E_S_T_J_Jul_1_7.csv',\n",
    " 'E_N_F_J_Jul_1_7.csv',\n",
    " 'E_N_T_P_Jul_1_7.csv',\n",
    " 'E_S_F_P_Jul_1_7.csv',\n",
    " 'I_S_T_P_Jul_1_7R.csv',\n",
    " 'E_S_F_J_Jul_1_7.csv',\n",
    " 'E_N_T_J_Jul_1_7.csv',\n",
    " 'E_N_F_P_Jul_1_7.csv',\n",
    " 'E_S_T_P_Jul_1_7.csv',\n",
    " 'I_S_F_J_Jul_1_7.csv',\n",
    " 'I_N_T_J_Jul_1_7.csv',\n",
    " 'I_N_F_P_Jul_1_7.csv',\n",
    " 'I_S_T_P_Jul_1_7.csv',\n",
    " 'I_S_T_J_Jul_1_7.csv',\n",
    " 'I_N_F_J_Jul_1_7.csv',\n",
    " 'I_N_T_P_Jul_1_7.csv',\n",
    " 'E_S_T_P_Jul_1_7R.csv',\n",
    " 'I_S_F_P_Jul_1_7.csv']\n"
   ]
  },
  {
   "cell_type": "raw",
   "metadata": {},
   "source": [
    "## add more time frames//\n",
    "time_frames = ['Jun_6_15','Jun_6_23','Jun_6_30']"
   ]
  },
  {
   "cell_type": "raw",
   "metadata": {},
   "source": [
    "p_types = 'ISTJ,ISFJ,INFJ,INTJ,ISTP,ISFP,INFP,INTP,ESTP,ESFP,ENFP,ENTP,ESTJ,ESFJ,ENFJ,ENTJ'\n",
    "## transformed into python list\n",
    "p_list = p_types.split(',', 16)\n",
    "#len(p_list)\n",
    "#p_list\n",
    "\n"
   ]
  },
  {
   "cell_type": "markdown",
   "metadata": {},
   "source": [
    "### create a list of file names that include personality type + time frame\n",
    "\n"
   ]
  },
  {
   "cell_type": "raw",
   "metadata": {},
   "source": [
    "file_names = []\n",
    "for tf in time_frames:\n",
    "    for pt in p_list:\n",
    "        file_names.append('_'.join(pt)+'_'+ tf + '.csv')\n",
    "    "
   ]
  },
  {
   "cell_type": "code",
   "execution_count": 9,
   "metadata": {},
   "outputs": [
    {
     "data": {
      "text/plain": [
       "['E_S_T_J_Jul_1_7.csv', 'E_N_F_J_Jul_1_7.csv', 'E_N_T_P_Jul_1_7.csv']"
      ]
     },
     "execution_count": 9,
     "metadata": {},
     "output_type": "execute_result"
    }
   ],
   "source": [
    "file_names[:3]"
   ]
  },
  {
   "cell_type": "markdown",
   "metadata": {},
   "source": [
    "### Create list of dataframes for processing"
   ]
  },
  {
   "cell_type": "code",
   "execution_count": 60,
   "metadata": {},
   "outputs": [],
   "source": [
    "list_of_dfs = [pd.read_csv(fn,\\\n",
    "            dtype={'tweet_text': str,'username':str,'followers_count': int}) for fn in file_names]\n",
    "\n"
   ]
  },
  {
   "cell_type": "markdown",
   "metadata": {},
   "source": [
    "### see which dataframes are empty:"
   ]
  },
  {
   "cell_type": "code",
   "execution_count": 61,
   "metadata": {
    "scrolled": true
   },
   "outputs": [
    {
     "data": {
      "text/plain": [
       "int"
      ]
     },
     "execution_count": 61,
     "metadata": {},
     "output_type": "execute_result"
    }
   ],
   "source": [
    "len(list_of_dfs[0])\n",
    "type(len(list_of_dfs[0]))"
   ]
  },
  {
   "cell_type": "code",
   "execution_count": 10,
   "metadata": {},
   "outputs": [
    {
     "data": {
      "text/plain": [
       "'E_S_T_J_Jul_1_7R.csv'"
      ]
     },
     "execution_count": 10,
     "metadata": {},
     "output_type": "execute_result"
    }
   ],
   "source": [
    "file_names[0]"
   ]
  },
  {
   "cell_type": "code",
   "execution_count": 11,
   "metadata": {
    "scrolled": true
   },
   "outputs": [
    {
     "data": {
      "text/plain": [
       "19"
      ]
     },
     "execution_count": 11,
     "metadata": {},
     "output_type": "execute_result"
    }
   ],
   "source": [
    "len(list_of_dfs)"
   ]
  },
  {
   "cell_type": "code",
   "execution_count": null,
   "metadata": {},
   "outputs": [],
   "source": []
  },
  {
   "cell_type": "code",
   "execution_count": 62,
   "metadata": {
    "scrolled": true
   },
   "outputs": [
    {
     "name": "stdout",
     "output_type": "stream",
     "text": [
      "E_S_T_J_Jul_1_7.csv is empty! file # 1\n",
      "E_S_F_J_Jul_1_7.csv is empty! file # 6\n",
      "E_S_T_P_Jul_1_7.csv is empty! file # 9\n",
      "I_S_T_P_Jul_1_7.csv is empty! file # 13\n"
     ]
    }
   ],
   "source": [
    "i = 0\n",
    "for d,i in zip(list_of_dfs,range(16)):\n",
    "    \n",
    "    if d.shape[0]==0:\n",
    "            print(file_names[i] ,\"is empty!\",\"file #\",i)"
   ]
  },
  {
   "cell_type": "code",
   "execution_count": 13,
   "metadata": {},
   "outputs": [
    {
     "name": "stdout",
     "output_type": "stream",
     "text": [
      "E_S_T_J_Jul_1_7.csv is empty! file # 1\n",
      "E_S_F_J_Jul_1_7.csv is empty! file # 6\n",
      "E_S_T_P_Jul_1_7.csv is empty! file # 9\n",
      "I_S_T_P_Jul_1_7.csv is empty! file # 13\n"
     ]
    }
   ],
   "source": [
    "### After creating new files\n",
    "i = 0\n",
    "for d,i in zip(list_of_dfs,range(16)):\n",
    "    \n",
    "    if d.shape[0]==0:\n",
    "            print(file_names[i] ,\"is empty!\",\"file #\",i)"
   ]
  },
  {
   "cell_type": "code",
   "execution_count": 14,
   "metadata": {
    "scrolled": true
   },
   "outputs": [
    {
     "name": "stdout",
     "output_type": "stream",
     "text": [
      "                        timestamp  \\\n",
      "0  Fri Jul 05 02:47:54 +0000 2019   \n",
      "1  Tue Jul 02 20:28:00 +0000 2019   \n",
      "\n",
      "                                          tweet_text      username  \\\n",
      "0   @DribWithBoth 🤣#ESTJ and Virgo. I am a hot mess.  twice_sifted   \n",
      "1  @LilyIntuitive @mbti_insights Lol! Me too :) I...  ritukaushal2   \n",
      "\n",
      "                                               image  followers_count  \n",
      "0  http://pbs.twimg.com/profile_images/9887483200...              592  \n",
      "1  http://pbs.twimg.com/profile_images/1002020778...              551  \n"
     ]
    }
   ],
   "source": [
    "print(list_of_dfs[0])"
   ]
  },
  {
   "cell_type": "markdown",
   "metadata": {},
   "source": [
    "### Another way to collect rear (R) types"
   ]
  },
  {
   "cell_type": "code",
   "execution_count": 47,
   "metadata": {},
   "outputs": [],
   "source": [
    "os.chdir('/Users/Natallia/Documents/R/W210_capstone/Project/personality/Natallia')"
   ]
  },
  {
   "cell_type": "code",
   "execution_count": 48,
   "metadata": {},
   "outputs": [
    {
     "name": "stdout",
     "output_type": "stream",
     "text": [
      "/Users/Natallia/Documents/R/W210_capstone/Project/personality/Natallia\r\n"
     ]
    }
   ],
   "source": [
    "!pwd"
   ]
  },
  {
   "cell_type": "code",
   "execution_count": 49,
   "metadata": {},
   "outputs": [],
   "source": [
    "import csv\n",
    "import os,re,csv"
   ]
  },
  {
   "cell_type": "code",
   "execution_count": 50,
   "metadata": {},
   "outputs": [],
   "source": [
    "# Twitter API credentials\n",
    "\n",
    "with open('twitter_credentials.json') as cred_data:\n",
    "    info = json.load(cred_data)\n",
    "    consumer_key = info['CONSUMER_KEY']\n",
    "    consumer_secret = info['CONSUMER_SECRET']\n",
    "    access_key = info['ACCESS_KEY']\n",
    "    access_secret = info['ACCESS_SECRET']\n",
    "\n",
    "# Create the api endpoint\n",
    "\n",
    "auth = tweepy.OAuthHandler(consumer_key, consumer_secret)\n",
    "api = tweepy.API(auth)"
   ]
  },
  {
   "cell_type": "code",
   "execution_count": 99,
   "metadata": {
    "scrolled": false
   },
   "outputs": [
    {
     "name": "stdout",
     "output_type": "stream",
     "text": [
      "class of the object searched_tweets: <class 'tweepy.models.Status'>\n",
      "length of searched_tweets: 9\n",
      "file data type: <class 'dict'>\n",
      "see the second tweet: {'created_at': 'Sat Jul 06 04:59:24 +0000 2019', 'id': 1147369432358014976, 'id_str': '1147369432358014976', 'text': 'like when i took it in english i got infj  but then i took it in arabic and got istp?? bitch which one am i then 😭', 'truncated': False, 'entities': {'hashtags': [], 'symbols': [], 'user_mentions': [], 'urls': []}, 'metadata': {'iso_language_code': 'en', 'result_type': 'recent'}, 'source': '<a href=\"http://twitter.com/download/android\" rel=\"nofollow\">Twitter for Android</a>', 'in_reply_to_status_id': 1147369190120153088, 'in_reply_to_status_id_str': '1147369190120153088', 'in_reply_to_user_id': 1143144082295926785, 'in_reply_to_user_id_str': '1143144082295926785', 'in_reply_to_screen_name': 'koostenshi', 'user': {'id': 1143144082295926785, 'id_str': '1143144082295926785', 'name': '☆', 'screen_name': 'koostenshi', 'location': 'reem, sam', 'description': \"i don't like men thank god jungkook is an angel\", 'url': 'https://t.co/Mf7RKl7Zzq', 'entities': {'url': {'urls': [{'url': 'https://t.co/Mf7RKl7Zzq', 'expanded_url': 'https://rkivekoo.carrd.co', 'display_url': 'rkivekoo.carrd.co', 'indices': [0, 23]}]}, 'description': {'urls': []}}, 'protected': False, 'followers_count': 55, 'friends_count': 55, 'listed_count': 0, 'created_at': 'Mon Jun 24 13:09:22 +0000 2019', 'favourites_count': 821, 'utc_offset': None, 'time_zone': None, 'geo_enabled': False, 'verified': False, 'statuses_count': 206, 'lang': None, 'contributors_enabled': False, 'is_translator': False, 'is_translation_enabled': False, 'profile_background_color': 'F5F8FA', 'profile_background_image_url': None, 'profile_background_image_url_https': None, 'profile_background_tile': False, 'profile_image_url': 'http://pbs.twimg.com/profile_images/1148144891278630912/jha1GLHL_normal.jpg', 'profile_image_url_https': 'https://pbs.twimg.com/profile_images/1148144891278630912/jha1GLHL_normal.jpg', 'profile_banner_url': 'https://pbs.twimg.com/profile_banners/1143144082295926785/1562574083', 'profile_link_color': '1DA1F2', 'profile_sidebar_border_color': 'C0DEED', 'profile_sidebar_fill_color': 'DDEEF6', 'profile_text_color': '333333', 'profile_use_background_image': True, 'has_extended_profile': True, 'default_profile': True, 'default_profile_image': False, 'following': None, 'follow_request_sent': None, 'notifications': None, 'translator_type': 'none'}, 'geo': None, 'coordinates': None, 'place': None, 'contributors': None, 'is_quote_status': False, 'retweet_count': 0, 'favorite_count': 5, 'favorited': False, 'retweeted': False, 'lang': 'en'}\n",
      "creating dataframe \n",
      "\n"
     ]
    }
   ],
   "source": [
    "### use separately 'I am ... (ESTJ, ESFJ,ESTP,ISTP)'\n",
    "query = 'I am ISTP'\n",
    "max_tweets = 1000\n",
    "searched_tweets = []\n",
    "last_id = -1\n",
    "while len(searched_tweets) < max_tweets:\n",
    "    count = max_tweets - len(searched_tweets)\n",
    "    try:\n",
    "        new_tweets = api.search(q=query, lang = \"en\",count=count, max_id=str(last_id - 1))\n",
    "        if not new_tweets:\n",
    "            break\n",
    "        searched_tweets.extend(new_tweets)\n",
    "        last_id = new_tweets[-1].id\n",
    "    except tweepy.TweepError as e:\n",
    "        # depending on TweepError.code, one may want to retry or wait\n",
    "        # to keep things simple, we will give up on an error\n",
    "        break\n",
    "####\n",
    "print(\"class of the object searched_tweets:\",type(searched_tweets[1]))\n",
    "\n",
    "print(\"length of searched_tweets:\",len(searched_tweets))\n",
    "\n",
    "#### Convert tweepy.models.Status object into regular dictionary (json)\n",
    "       \n",
    "full_text = []\n",
    "for i in range(len(searched_tweets)):\n",
    "    \n",
    "    status = searched_tweets[i]\n",
    "    json_str = json.dumps(status._json)\n",
    "    full_text.append(json_str)  \n",
    "####\n",
    "       ## Big dictionary (0ne of 11)\n",
    "full_text[1]\n",
    "###\n",
    "with open('all_ISTP_Jul_1_7.txt', 'w') as f:\n",
    "       for item in full_text:\n",
    "           f.write(\"%s\\n\" % item)\n",
    "       \n",
    "####\n",
    "tweets_data_path = 'all_ISTP_Jul_1_7.txt'\n",
    "######\n",
    "#Create normal json file\n",
    "tweets_data = []\n",
    "tweets_file = open(tweets_data_path, \"r\")\n",
    "for line in tweets_file:\n",
    "    try:\n",
    "        tweet = json.loads(line)\n",
    "        tweets_data.append(tweet)\n",
    "    except:\n",
    "        print('!!!!')\n",
    "        continue\n",
    "print(\"file data type:\",type(tweets_data[0]))  \n",
    "####\n",
    "print(\"see the second tweet:\",tweets_data[1])\n",
    "#####\n",
    "       #Create columns for df:\n",
    "timestamp = []\n",
    "tweet_text = []\n",
    "username = []\n",
    "image = []\n",
    "followers_count = []\n",
    "for i in range(len(tweets_data)):\n",
    "    timestamp.append(tweets_data[i]['created_at'])\n",
    "    \n",
    "    tweet_text.append(tweets_data[i]['text'])\n",
    "    username.append(tweets_data[i]['user']['screen_name'])\n",
    "    image.append(tweets_data[i]['user']['profile_image_url'])\n",
    "    followers_count.append(tweets_data[i]['user']['followers_count'])\n",
    "### Create the dataframe:\n",
    "print(\"creating dataframe\",\"\\n\")\n",
    "df_ISTP = pd.DataFrame(list(zip(timestamp,tweet_text,username,image,followers_count)),\n",
    "              columns=['timestamp','tweet_text','username','image','followers_count'])\n",
    "#### see dataframe below:\n",
    "#df_ISTP\n"
   ]
  },
  {
   "cell_type": "code",
   "execution_count": 111,
   "metadata": {
    "scrolled": true
   },
   "outputs": [],
   "source": [
    "#### see dataframe below (only rows 1,7,9):\n",
    "#df_ESTP"
   ]
  },
  {
   "cell_type": "markdown",
   "metadata": {},
   "source": [
    "#### ESTJ: looking at tweets only rows 0,5 are OK, drop other rows"
   ]
  },
  {
   "cell_type": "code",
   "execution_count": 63,
   "metadata": {
    "scrolled": true
   },
   "outputs": [],
   "source": [
    "df_ESTJ = df_ESTJ.drop(df_ESTJ.index[[1,2,4]])"
   ]
  },
  {
   "cell_type": "code",
   "execution_count": 110,
   "metadata": {},
   "outputs": [],
   "source": [
    "#df_ESTJ"
   ]
  },
  {
   "cell_type": "markdown",
   "metadata": {},
   "source": [
    "#### ESTP: looking at tweets only rows 0,5,9 are OK, drop other rows"
   ]
  },
  {
   "cell_type": "code",
   "execution_count": 83,
   "metadata": {},
   "outputs": [],
   "source": [
    "df_ESTP = df_ESTP.drop(df_ESTP.index[[1,2,3,4,6]])"
   ]
  },
  {
   "cell_type": "code",
   "execution_count": 112,
   "metadata": {
    "scrolled": true
   },
   "outputs": [],
   "source": [
    "#df_ESTP"
   ]
  },
  {
   "cell_type": "code",
   "execution_count": 113,
   "metadata": {
    "scrolled": true
   },
   "outputs": [],
   "source": [
    "#df_ISTP"
   ]
  },
  {
   "cell_type": "code",
   "execution_count": 101,
   "metadata": {},
   "outputs": [],
   "source": [
    "df_ISTP = df_ISTP.drop(df_ISTP.index[[1,3,4,8]])\n",
    "#df_ISTP"
   ]
  },
  {
   "cell_type": "code",
   "execution_count": 114,
   "metadata": {},
   "outputs": [],
   "source": [
    "#df_ISTP"
   ]
  },
  {
   "cell_type": "code",
   "execution_count": 103,
   "metadata": {},
   "outputs": [],
   "source": [
    "### create CSV  R     \n",
    "\n",
    "p_type ='ISTP'\n",
    "timeframe = 'Jul_1_7R'\n",
    "fname = ('_'.join(p_type)+'_'+timeframe + '.csv')\n",
    "\n",
    "df_ISTP.to_csv(fname, index = None, header=True)"
   ]
  },
  {
   "cell_type": "markdown",
   "metadata": {},
   "source": [
    "### moved files into CSV_Jul_1_7"
   ]
  },
  {
   "cell_type": "code",
   "execution_count": null,
   "metadata": {},
   "outputs": [],
   "source": []
  },
  {
   "cell_type": "markdown",
   "metadata": {},
   "source": [
    "#### assign the last  column to be file name "
   ]
  },
  {
   "cell_type": "code",
   "execution_count": 63,
   "metadata": {},
   "outputs": [],
   "source": [
    "for dataframe, filename in zip(list_of_dfs, file_names):\n",
    "    dataframe['filename'] = filename"
   ]
  },
  {
   "cell_type": "code",
   "execution_count": 64,
   "metadata": {
    "scrolled": false
   },
   "outputs": [
    {
     "data": {
      "text/html": [
       "<div>\n",
       "<style scoped>\n",
       "    .dataframe tbody tr th:only-of-type {\n",
       "        vertical-align: middle;\n",
       "    }\n",
       "\n",
       "    .dataframe tbody tr th {\n",
       "        vertical-align: top;\n",
       "    }\n",
       "\n",
       "    .dataframe thead th {\n",
       "        text-align: right;\n",
       "    }\n",
       "</style>\n",
       "<table border=\"1\" class=\"dataframe\">\n",
       "  <thead>\n",
       "    <tr style=\"text-align: right;\">\n",
       "      <th></th>\n",
       "      <th>timestamp</th>\n",
       "      <th>tweet_text</th>\n",
       "      <th>username</th>\n",
       "      <th>image</th>\n",
       "      <th>followers_count</th>\n",
       "      <th>filename</th>\n",
       "    </tr>\n",
       "  </thead>\n",
       "  <tbody>\n",
       "    <tr>\n",
       "      <th>0</th>\n",
       "      <td>2019-06-30 13:30:54</td>\n",
       "      <td>b'@dhrutzpah I am an ISFP TYPE \\xf0\\x9f\\x98\\xad'</td>\n",
       "      <td>b'JakePer71100434'</td>\n",
       "      <td>http://pbs.twimg.com/profile_images/1138132885...</td>\n",
       "      <td>6</td>\n",
       "      <td>I_S_F_P_Jul_1_7.csv</td>\n",
       "    </tr>\n",
       "    <tr>\n",
       "      <th>1</th>\n",
       "      <td>2019-06-30 03:13:17</td>\n",
       "      <td>b'brrcd said: I am an isfp girl. My biggest pe...</td>\n",
       "      <td>b'jjphoenix334'</td>\n",
       "      <td>http://pbs.twimg.com/profile_images/1102137286...</td>\n",
       "      <td>265</td>\n",
       "      <td>I_S_F_P_Jul_1_7.csv</td>\n",
       "    </tr>\n",
       "  </tbody>\n",
       "</table>\n",
       "</div>"
      ],
      "text/plain": [
       "             timestamp                                         tweet_text  \\\n",
       "0  2019-06-30 13:30:54   b'@dhrutzpah I am an ISFP TYPE \\xf0\\x9f\\x98\\xad'   \n",
       "1  2019-06-30 03:13:17  b'brrcd said: I am an isfp girl. My biggest pe...   \n",
       "\n",
       "             username                                              image  \\\n",
       "0  b'JakePer71100434'  http://pbs.twimg.com/profile_images/1138132885...   \n",
       "1     b'jjphoenix334'  http://pbs.twimg.com/profile_images/1102137286...   \n",
       "\n",
       "   followers_count             filename  \n",
       "0                6  I_S_F_P_Jul_1_7.csv  \n",
       "1              265  I_S_F_P_Jul_1_7.csv  "
      ]
     },
     "execution_count": 64,
     "metadata": {},
     "output_type": "execute_result"
    }
   ],
   "source": [
    "list_of_dfs[-1]"
   ]
  },
  {
   "cell_type": "markdown",
   "metadata": {},
   "source": [
    "### concatenate all df"
   ]
  },
  {
   "cell_type": "code",
   "execution_count": 65,
   "metadata": {
    "scrolled": true
   },
   "outputs": [
    {
     "data": {
      "text/html": [
       "<div>\n",
       "<style scoped>\n",
       "    .dataframe tbody tr th:only-of-type {\n",
       "        vertical-align: middle;\n",
       "    }\n",
       "\n",
       "    .dataframe tbody tr th {\n",
       "        vertical-align: top;\n",
       "    }\n",
       "\n",
       "    .dataframe thead th {\n",
       "        text-align: right;\n",
       "    }\n",
       "</style>\n",
       "<table border=\"1\" class=\"dataframe\">\n",
       "  <thead>\n",
       "    <tr style=\"text-align: right;\">\n",
       "      <th></th>\n",
       "      <th>timestamp</th>\n",
       "      <th>tweet_text</th>\n",
       "      <th>username</th>\n",
       "      <th>image</th>\n",
       "      <th>followers_count</th>\n",
       "      <th>filename</th>\n",
       "    </tr>\n",
       "  </thead>\n",
       "  <tbody>\n",
       "    <tr>\n",
       "      <th>0</th>\n",
       "      <td>Fri Jul 05 02:47:54 +0000 2019</td>\n",
       "      <td>@DribWithBoth 🤣#ESTJ and Virgo. I am a hot mess.</td>\n",
       "      <td>twice_sifted</td>\n",
       "      <td>http://pbs.twimg.com/profile_images/9887483200...</td>\n",
       "      <td>592</td>\n",
       "      <td>E_S_T_J_Jul_1_7R.csv</td>\n",
       "    </tr>\n",
       "    <tr>\n",
       "      <th>1</th>\n",
       "      <td>Tue Jul 02 20:28:00 +0000 2019</td>\n",
       "      <td>@LilyIntuitive @mbti_insights Lol! Me too :) I...</td>\n",
       "      <td>ritukaushal2</td>\n",
       "      <td>http://pbs.twimg.com/profile_images/1002020778...</td>\n",
       "      <td>551</td>\n",
       "      <td>E_S_T_J_Jul_1_7R.csv</td>\n",
       "    </tr>\n",
       "  </tbody>\n",
       "</table>\n",
       "</div>"
      ],
      "text/plain": [
       "                        timestamp  \\\n",
       "0  Fri Jul 05 02:47:54 +0000 2019   \n",
       "1  Tue Jul 02 20:28:00 +0000 2019   \n",
       "\n",
       "                                          tweet_text      username  \\\n",
       "0   @DribWithBoth 🤣#ESTJ and Virgo. I am a hot mess.  twice_sifted   \n",
       "1  @LilyIntuitive @mbti_insights Lol! Me too :) I...  ritukaushal2   \n",
       "\n",
       "                                               image  followers_count  \\\n",
       "0  http://pbs.twimg.com/profile_images/9887483200...              592   \n",
       "1  http://pbs.twimg.com/profile_images/1002020778...              551   \n",
       "\n",
       "               filename  \n",
       "0  E_S_T_J_Jul_1_7R.csv  \n",
       "1  E_S_T_J_Jul_1_7R.csv  "
      ]
     },
     "execution_count": 65,
     "metadata": {},
     "output_type": "execute_result"
    }
   ],
   "source": [
    "df_NS = pd.concat(list_of_dfs, ignore_index=True)\n",
    "df_NS.head(2)"
   ]
  },
  {
   "cell_type": "code",
   "execution_count": 66,
   "metadata": {
    "scrolled": false
   },
   "outputs": [],
   "source": [
    "df_NS['Personality'] = df_NS['filename'].apply(lambda x: x[:7][::2].lower())"
   ]
  },
  {
   "cell_type": "code",
   "execution_count": 67,
   "metadata": {},
   "outputs": [],
   "source": [
    "df = df_NS.drop(['timestamp','tweet_text','filename'],axis=1)"
   ]
  },
  {
   "cell_type": "code",
   "execution_count": 68,
   "metadata": {},
   "outputs": [
    {
     "data": {
      "text/html": [
       "<div>\n",
       "<style scoped>\n",
       "    .dataframe tbody tr th:only-of-type {\n",
       "        vertical-align: middle;\n",
       "    }\n",
       "\n",
       "    .dataframe tbody tr th {\n",
       "        vertical-align: top;\n",
       "    }\n",
       "\n",
       "    .dataframe thead th {\n",
       "        text-align: right;\n",
       "    }\n",
       "</style>\n",
       "<table border=\"1\" class=\"dataframe\">\n",
       "  <thead>\n",
       "    <tr style=\"text-align: right;\">\n",
       "      <th></th>\n",
       "      <th>username</th>\n",
       "      <th>image</th>\n",
       "      <th>followers_count</th>\n",
       "      <th>Personality</th>\n",
       "    </tr>\n",
       "  </thead>\n",
       "  <tbody>\n",
       "    <tr>\n",
       "      <th>67</th>\n",
       "      <td>MatticusTheWise</td>\n",
       "      <td>http://pbs.twimg.com/profile_images/1146829696...</td>\n",
       "      <td>33</td>\n",
       "      <td>estp</td>\n",
       "    </tr>\n",
       "    <tr>\n",
       "      <th>68</th>\n",
       "      <td>meandertail</td>\n",
       "      <td>http://pbs.twimg.com/profile_images/1145807964...</td>\n",
       "      <td>977</td>\n",
       "      <td>estp</td>\n",
       "    </tr>\n",
       "    <tr>\n",
       "      <th>69</th>\n",
       "      <td>MsWired</td>\n",
       "      <td>http://pbs.twimg.com/profile_images/1147294733...</td>\n",
       "      <td>5679</td>\n",
       "      <td>estp</td>\n",
       "    </tr>\n",
       "    <tr>\n",
       "      <th>70</th>\n",
       "      <td>b'JakePer71100434'</td>\n",
       "      <td>http://pbs.twimg.com/profile_images/1138132885...</td>\n",
       "      <td>6</td>\n",
       "      <td>isfp</td>\n",
       "    </tr>\n",
       "    <tr>\n",
       "      <th>71</th>\n",
       "      <td>b'jjphoenix334'</td>\n",
       "      <td>http://pbs.twimg.com/profile_images/1102137286...</td>\n",
       "      <td>265</td>\n",
       "      <td>isfp</td>\n",
       "    </tr>\n",
       "  </tbody>\n",
       "</table>\n",
       "</div>"
      ],
      "text/plain": [
       "              username                                              image  \\\n",
       "67     MatticusTheWise  http://pbs.twimg.com/profile_images/1146829696...   \n",
       "68         meandertail  http://pbs.twimg.com/profile_images/1145807964...   \n",
       "69             MsWired  http://pbs.twimg.com/profile_images/1147294733...   \n",
       "70  b'JakePer71100434'  http://pbs.twimg.com/profile_images/1138132885...   \n",
       "71     b'jjphoenix334'  http://pbs.twimg.com/profile_images/1102137286...   \n",
       "\n",
       "    followers_count Personality  \n",
       "67               33        estp  \n",
       "68              977        estp  \n",
       "69             5679        estp  \n",
       "70                6        isfp  \n",
       "71              265        isfp  "
      ]
     },
     "execution_count": 68,
     "metadata": {},
     "output_type": "execute_result"
    }
   ],
   "source": [
    "df.tail()"
   ]
  },
  {
   "cell_type": "code",
   "execution_count": 69,
   "metadata": {
    "scrolled": false
   },
   "outputs": [
    {
     "data": {
      "text/plain": [
       "username           object\n",
       "image              object\n",
       "followers_count     int64\n",
       "Personality        object\n",
       "dtype: object"
      ]
     },
     "execution_count": 69,
     "metadata": {},
     "output_type": "execute_result"
    }
   ],
   "source": [
    "df.dtypes"
   ]
  },
  {
   "cell_type": "code",
   "execution_count": 70,
   "metadata": {
    "scrolled": true
   },
   "outputs": [
    {
     "data": {
      "text/plain": [
       "(72, 4)"
      ]
     },
     "execution_count": 70,
     "metadata": {},
     "output_type": "execute_result"
    }
   ],
   "source": [
    "df.shape"
   ]
  },
  {
   "cell_type": "markdown",
   "metadata": {},
   "source": [
    "## End (added by Natallia)"
   ]
  },
  {
   "cell_type": "code",
   "execution_count": 71,
   "metadata": {
    "scrolled": true
   },
   "outputs": [
    {
     "data": {
      "text/plain": [
       "array(['estj', 'enfj', 'entp', 'esfp', 'istp', 'entj', 'enfp', 'isfj',\n",
       "       'intj', 'infp', 'istj', 'infj', 'intp', 'estp', 'isfp'],\n",
       "      dtype=object)"
      ]
     },
     "execution_count": 71,
     "metadata": {},
     "output_type": "execute_result"
    }
   ],
   "source": [
    "df['Personality'].unique()"
   ]
  },
  {
   "cell_type": "code",
   "execution_count": 72,
   "metadata": {},
   "outputs": [
    {
     "data": {
      "text/plain": [
       "<matplotlib.axes._subplots.AxesSubplot at 0x1a19e465c0>"
      ]
     },
     "execution_count": 72,
     "metadata": {},
     "output_type": "execute_result"
    },
    {
     "data": {
      "image/png": "[encoded data removed]",
      "text/plain": [
       "<Figure size 720x288 with 1 Axes>"
      ]
     },
     "metadata": {},
     "output_type": "display_data"
    }
   ],
   "source": [
    "import seaborn as sns\n",
    "sns.set()\n",
    "df['Personality'].value_counts().plot(kind='bar',\\\n",
    "                colormap = 'plasma',figsize = (10,4),fontsize = 16,\\\n",
    "                title = 'Frequency of MBTI types on Twitter')"
   ]
  },
  {
   "cell_type": "markdown",
   "metadata": {},
   "source": [
    "### set up the columns for the final dataframe"
   ]
  },
  {
   "cell_type": "code",
   "execution_count": 73,
   "metadata": {
    "scrolled": true
   },
   "outputs": [
    {
     "data": {
      "text/html": [
       "<div>\n",
       "<style scoped>\n",
       "    .dataframe tbody tr th:only-of-type {\n",
       "        vertical-align: middle;\n",
       "    }\n",
       "\n",
       "    .dataframe tbody tr th {\n",
       "        vertical-align: top;\n",
       "    }\n",
       "\n",
       "    .dataframe thead th {\n",
       "        text-align: right;\n",
       "    }\n",
       "</style>\n",
       "<table border=\"1\" class=\"dataframe\">\n",
       "  <thead>\n",
       "    <tr style=\"text-align: right;\">\n",
       "      <th></th>\n",
       "      <th>Personality</th>\n",
       "      <th>username</th>\n",
       "      <th>user_id</th>\n",
       "      <th>tweets</th>\n",
       "      <th>followers_count</th>\n",
       "      <th>image</th>\n",
       "    </tr>\n",
       "  </thead>\n",
       "  <tbody>\n",
       "    <tr>\n",
       "      <th>0</th>\n",
       "      <td>estj</td>\n",
       "      <td>twice_sifted</td>\n",
       "      <td>NaN</td>\n",
       "      <td>NaN</td>\n",
       "      <td>592</td>\n",
       "      <td>http://pbs.twimg.com/profile_images/9887483200...</td>\n",
       "    </tr>\n",
       "    <tr>\n",
       "      <th>1</th>\n",
       "      <td>estj</td>\n",
       "      <td>ritukaushal2</td>\n",
       "      <td>NaN</td>\n",
       "      <td>NaN</td>\n",
       "      <td>551</td>\n",
       "      <td>http://pbs.twimg.com/profile_images/1002020778...</td>\n",
       "    </tr>\n",
       "    <tr>\n",
       "      <th>2</th>\n",
       "      <td>enfj</td>\n",
       "      <td>b'Onelemononelime'</td>\n",
       "      <td>NaN</td>\n",
       "      <td>NaN</td>\n",
       "      <td>118</td>\n",
       "      <td>http://pbs.twimg.com/profile_images/1134594773...</td>\n",
       "    </tr>\n",
       "    <tr>\n",
       "      <th>3</th>\n",
       "      <td>enfj</td>\n",
       "      <td>b'lapittenger'</td>\n",
       "      <td>NaN</td>\n",
       "      <td>NaN</td>\n",
       "      <td>1635</td>\n",
       "      <td>http://pbs.twimg.com/profile_images/1133177639...</td>\n",
       "    </tr>\n",
       "    <tr>\n",
       "      <th>4</th>\n",
       "      <td>entp</td>\n",
       "      <td>b'EntpReally'</td>\n",
       "      <td>NaN</td>\n",
       "      <td>NaN</td>\n",
       "      <td>134</td>\n",
       "      <td>http://pbs.twimg.com/profile_images/1044256101...</td>\n",
       "    </tr>\n",
       "  </tbody>\n",
       "</table>\n",
       "</div>"
      ],
      "text/plain": [
       "  Personality            username  user_id  tweets  followers_count  \\\n",
       "0        estj        twice_sifted      NaN     NaN              592   \n",
       "1        estj        ritukaushal2      NaN     NaN              551   \n",
       "2        enfj  b'Onelemononelime'      NaN     NaN              118   \n",
       "3        enfj      b'lapittenger'      NaN     NaN             1635   \n",
       "4        entp       b'EntpReally'      NaN     NaN              134   \n",
       "\n",
       "                                               image  \n",
       "0  http://pbs.twimg.com/profile_images/9887483200...  \n",
       "1  http://pbs.twimg.com/profile_images/1002020778...  \n",
       "2  http://pbs.twimg.com/profile_images/1134594773...  \n",
       "3  http://pbs.twimg.com/profile_images/1133177639...  \n",
       "4  http://pbs.twimg.com/profile_images/1044256101...  "
      ]
     },
     "execution_count": 73,
     "metadata": {},
     "output_type": "execute_result"
    }
   ],
   "source": [
    "header_list = ['Personality', 'username', 'user_id', 'tweets', 'followers_count','image']\n",
    "df = df.reindex(columns = header_list)\n",
    "df.head()"
   ]
  },
  {
   "cell_type": "code",
   "execution_count": 74,
   "metadata": {},
   "outputs": [],
   "source": [
    "df1 = df.copy()"
   ]
  },
  {
   "cell_type": "markdown",
   "metadata": {},
   "source": [
    "# set up the tweepy credentials to access data from twitter"
   ]
  },
  {
   "cell_type": "code",
   "execution_count": 26,
   "metadata": {},
   "outputs": [],
   "source": [
    "import json\n",
    "\n",
    "# create a dictionary to store your twitter credentials\n",
    "\n",
    "twitter_cred = dict()\n",
    "\n",
    "\n",
    "twitter_cred['CONSUMER_KEY'] = 'FYkqgdipLO6z3Cypq9df7u5Sl'\n",
    "twitter_cred['CONSUMER_SECRET'] = 'JJdJ7Ae4x5WI9VRMyCkcPVZO14eHaMZJjzFXSpO6WkPKB150oO'\n",
    "twitter_cred['ACCESS_KEY'] = '1141049557322592256-zBZj5YJssmyl60B6jXpdCP5qbMZpIZ'\n",
    "twitter_cred['ACCESS_SECRET'] = 'q7EjUt7RJjQaCXXObSXON6gyIDDfwPsbeBbGE74hC9Paw'\n",
    "\n",
    "with open('twitter_credentials1.json', 'w') as secret_info:\n",
    "    json.dump(twitter_cred, secret_info, indent=4, sort_keys=True)\n",
    "#Your saved json will look like the one shown below. It will be saved in the current directory under the name twitter_credentials.json.\n"
   ]
  },
  {
   "cell_type": "code",
   "execution_count": 27,
   "metadata": {},
   "outputs": [],
   "source": [
    "api = twitter.Api(consumer_key='FYkqgdipLO6z3Cypq9df7u5Sl',\n",
    "                      consumer_secret='JJdJ7Ae4x5WI9VRMyCkcPVZO14eHaMZJjzFXSpO6WkPKB150oO',\n",
    "                      access_token_key='1141049557322592256-zBZj5YJssmyl60B6jXpdCP5qbMZpIZ',\n",
    "                      access_token_secret='q7EjUt7RJjQaCXXObSXON6gyIDDfwPsbeBbGE74hC9Paw')"
   ]
  },
  {
   "cell_type": "code",
   "execution_count": 28,
   "metadata": {},
   "outputs": [],
   "source": [
    "auth = tweepy.OAuthHandler(twitter_cred['CONSUMER_KEY'], twitter_cred['CONSUMER_SECRET'])\n",
    "auth.set_access_token(twitter_cred['ACCESS_KEY'], twitter_cred['ACCESS_SECRET'])\n",
    "api = tweepy.API(auth)"
   ]
  },
  {
   "cell_type": "markdown",
   "metadata": {},
   "source": [
    "### Added by Natallia"
   ]
  },
  {
   "cell_type": "code",
   "execution_count": 29,
   "metadata": {},
   "outputs": [],
   "source": [
    "#### try this next time - it might allow more tweets per session:\n",
    "#uncomment below to run:\n",
    "api = tweepy.API(auth,wait_on_rate_limit=True,wait_on_rate_limit_notify=True)\n",
    "  "
   ]
  },
  {
   "cell_type": "markdown",
   "metadata": {},
   "source": [
    "# fix up the username column"
   ]
  },
  {
   "cell_type": "code",
   "execution_count": 30,
   "metadata": {},
   "outputs": [
    {
     "name": "stdout",
     "output_type": "stream",
     "text": [
      "<class 'pandas.core.series.Series'>\n"
     ]
    }
   ],
   "source": [
    "print(type(df['username']))\n",
    "\n",
    "usernames = list(df['username'])\n",
    "\n",
    "#there are two problems here--we have the extra set of quotes and the b in front\n",
    "\n",
    "for i in range(len(usernames)):\n",
    "    usernames[i] = usernames[i][1:]\n",
    "    usernames[i] = usernames[i].replace('\\'', '')\n",
    "\n",
    "#print(usernames)"
   ]
  },
  {
   "cell_type": "markdown",
   "metadata": {},
   "source": [
    "We see that the usernames each have a b in front, so we need to remove the first character of each string, and also the extra set of quotes. We need to remove these in order to pass the username to the other twitter functions."
   ]
  },
  {
   "cell_type": "code",
   "execution_count": 31,
   "metadata": {},
   "outputs": [
    {
     "name": "stdout",
     "output_type": "stream",
     "text": [
      "Onelemononelime\n",
      "True\n",
      "False\n",
      "True\n",
      "False\n"
     ]
    }
   ],
   "source": [
    "print(usernames[2])\n",
    "\n",
    "#get_user_text(df['username'][2])\n",
    "\n",
    "print(usernames[2]== 'Onelemononelime')\n",
    "print(usernames[2]== \"'Onelemononelime'\")\n",
    "\n",
    "s = usernames[2][1: ]\n",
    "s = usernames[2].replace('\\'', '')\n",
    "\n",
    "\n",
    "print(s == 'Onelemononelime')\n",
    "print(s == \"'Onelemononelime'\")\n"
   ]
  },
  {
   "cell_type": "code",
   "execution_count": 32,
   "metadata": {},
   "outputs": [
    {
     "data": {
      "text/plain": [
       "1134586277561610240"
      ]
     },
     "execution_count": 32,
     "metadata": {},
     "output_type": "execute_result"
    }
   ],
   "source": [
    "api.get_user(screen_name = s).id"
   ]
  },
  {
   "cell_type": "code",
   "execution_count": 33,
   "metadata": {},
   "outputs": [
    {
     "name": "stdout",
     "output_type": "stream",
     "text": [
      "wice_sifted\n",
      "badvalue\n",
      "itukaushal2\n",
      "badvalue\n",
      "martisoffline\n",
      "badvalue\n",
      "aynette_daneen\n",
      "badvalue\n",
      "atticusTheWise\n",
      "badvalue\n",
      "eandertail\n",
      "badvalue\n",
      "6\n"
     ]
    }
   ],
   "source": [
    "#create a list of user_ids\n",
    "user_id = []\n",
    "i = 0\n",
    "\n",
    "for item in usernames:\n",
    "    try:\n",
    "        user_id.append(api.get_user(screen_name = item).id)\n",
    "    except:\n",
    "        i = i + 1\n",
    "        print(item)\n",
    "        print(\"badvalue\")\n",
    "        user_id.append(\"NA\")\n",
    "\n",
    "print(i)\n"
   ]
  },
  {
   "cell_type": "code",
   "execution_count": 34,
   "metadata": {},
   "outputs": [
    {
     "name": "stdout",
     "output_type": "stream",
     "text": [
      "['NA', 'NA', 1134586277561610240, 81026888]\n"
     ]
    }
   ],
   "source": [
    "print(user_id[:4])"
   ]
  },
  {
   "cell_type": "markdown",
   "metadata": {},
   "source": [
    "### why are there still some bad values?"
   ]
  },
  {
   "cell_type": "code",
   "execution_count": null,
   "metadata": {},
   "outputs": [],
   "source": []
  },
  {
   "cell_type": "code",
   "execution_count": 75,
   "metadata": {},
   "outputs": [],
   "source": [
    "df['username'] = usernames"
   ]
  },
  {
   "cell_type": "code",
   "execution_count": 76,
   "metadata": {},
   "outputs": [],
   "source": [
    "df['user_id'] = user_id"
   ]
  },
  {
   "cell_type": "code",
   "execution_count": 77,
   "metadata": {
    "scrolled": true
   },
   "outputs": [
    {
     "data": {
      "text/html": [
       "<div>\n",
       "<style scoped>\n",
       "    .dataframe tbody tr th:only-of-type {\n",
       "        vertical-align: middle;\n",
       "    }\n",
       "\n",
       "    .dataframe tbody tr th {\n",
       "        vertical-align: top;\n",
       "    }\n",
       "\n",
       "    .dataframe thead th {\n",
       "        text-align: right;\n",
       "    }\n",
       "</style>\n",
       "<table border=\"1\" class=\"dataframe\">\n",
       "  <thead>\n",
       "    <tr style=\"text-align: right;\">\n",
       "      <th></th>\n",
       "      <th>Personality</th>\n",
       "      <th>username</th>\n",
       "      <th>user_id</th>\n",
       "      <th>tweets</th>\n",
       "      <th>followers_count</th>\n",
       "      <th>image</th>\n",
       "    </tr>\n",
       "  </thead>\n",
       "  <tbody>\n",
       "    <tr>\n",
       "      <th>0</th>\n",
       "      <td>estj</td>\n",
       "      <td>wice_sifted</td>\n",
       "      <td>NA</td>\n",
       "      <td>NaN</td>\n",
       "      <td>592</td>\n",
       "      <td>http://pbs.twimg.com/profile_images/9887483200...</td>\n",
       "    </tr>\n",
       "    <tr>\n",
       "      <th>1</th>\n",
       "      <td>estj</td>\n",
       "      <td>itukaushal2</td>\n",
       "      <td>NA</td>\n",
       "      <td>NaN</td>\n",
       "      <td>551</td>\n",
       "      <td>http://pbs.twimg.com/profile_images/1002020778...</td>\n",
       "    </tr>\n",
       "    <tr>\n",
       "      <th>2</th>\n",
       "      <td>enfj</td>\n",
       "      <td>Onelemononelime</td>\n",
       "      <td>1134586277561610240</td>\n",
       "      <td>NaN</td>\n",
       "      <td>118</td>\n",
       "      <td>http://pbs.twimg.com/profile_images/1134594773...</td>\n",
       "    </tr>\n",
       "    <tr>\n",
       "      <th>3</th>\n",
       "      <td>enfj</td>\n",
       "      <td>lapittenger</td>\n",
       "      <td>81026888</td>\n",
       "      <td>NaN</td>\n",
       "      <td>1635</td>\n",
       "      <td>http://pbs.twimg.com/profile_images/1133177639...</td>\n",
       "    </tr>\n",
       "    <tr>\n",
       "      <th>4</th>\n",
       "      <td>entp</td>\n",
       "      <td>EntpReally</td>\n",
       "      <td>1044255771335315458</td>\n",
       "      <td>NaN</td>\n",
       "      <td>134</td>\n",
       "      <td>http://pbs.twimg.com/profile_images/1044256101...</td>\n",
       "    </tr>\n",
       "  </tbody>\n",
       "</table>\n",
       "</div>"
      ],
      "text/plain": [
       "  Personality         username              user_id  tweets  followers_count  \\\n",
       "0        estj      wice_sifted                   NA     NaN              592   \n",
       "1        estj      itukaushal2                   NA     NaN              551   \n",
       "2        enfj  Onelemononelime  1134586277561610240     NaN              118   \n",
       "3        enfj      lapittenger             81026888     NaN             1635   \n",
       "4        entp       EntpReally  1044255771335315458     NaN              134   \n",
       "\n",
       "                                               image  \n",
       "0  http://pbs.twimg.com/profile_images/9887483200...  \n",
       "1  http://pbs.twimg.com/profile_images/1002020778...  \n",
       "2  http://pbs.twimg.com/profile_images/1134594773...  \n",
       "3  http://pbs.twimg.com/profile_images/1133177639...  \n",
       "4  http://pbs.twimg.com/profile_images/1044256101...  "
      ]
     },
     "execution_count": 77,
     "metadata": {},
     "output_type": "execute_result"
    }
   ],
   "source": [
    "df.head()"
   ]
  },
  {
   "cell_type": "code",
   "execution_count": 78,
   "metadata": {},
   "outputs": [
    {
     "data": {
      "text/plain": [
       "(72, 6)"
      ]
     },
     "execution_count": 78,
     "metadata": {},
     "output_type": "execute_result"
    }
   ],
   "source": [
    "df.shape"
   ]
  },
  {
   "cell_type": "markdown",
   "metadata": {},
   "source": [
    "# now lets work on the tweet text column"
   ]
  },
  {
   "cell_type": "code",
   "execution_count": 39,
   "metadata": {},
   "outputs": [],
   "source": [
    "twitter_cred['CONSUMER_KEY'] = 'FYkqgdipLO6z3Cypq9df7u5Sl'\n",
    "twitter_cred['CONSUMER_SECRET'] = 'JJdJ7Ae4x5WI9VRMyCkcPVZO14eHaMZJjzFXSpO6WkPKB150oO'\n",
    "twitter_cred['ACCESS_KEY'] = '1141049557322592256-zBZj5YJssmyl60B6jXpdCP5qbMZpIZ'\n",
    "twitter_cred['ACCESS_SECRET'] = 'q7EjUt7RJjQaCXXObSXON6gyIDDfwPsbeBbGE74hC9Paw'"
   ]
  },
  {
   "cell_type": "markdown",
   "metadata": {},
   "source": [
    "### NS: function below is modified to allow more users tweets collection"
   ]
  },
  {
   "cell_type": "code",
   "execution_count": 40,
   "metadata": {},
   "outputs": [],
   "source": [
    "def get_all_tweets(screen_name):\n",
    "#Twitter only allows access to a users most recent 3240 tweets with this method\n",
    "\n",
    "    consumer_key = twitter_cred['CONSUMER_KEY']\n",
    "    consumer_secret = twitter_cred['CONSUMER_SECRET']\n",
    "    access_token = twitter_cred['ACCESS_KEY']\n",
    "    access_token_secret = twitter_cred['ACCESS_SECRET']\n",
    "\n",
    "    auth = tweepy.OAuthHandler(consumer_key, consumer_secret)\n",
    "    auth.set_access_token(access_token, access_token_secret)\n",
    "    auth.secure = True\n",
    "    #api = tweepy.API(auth)\n",
    "    ## use \"wait_on_rate =True\" to process over 50 users with extended loop\n",
    "    ## the execution will be delayed for 8-10 min, the API simply pause, but then\n",
    "    ## the tweet collection will resume (do not turn off computer pr NB!)\n",
    "    api = tweepy.API(auth,wait_on_rate_limit=True,wait_on_rate_limit_notify=True)\n",
    "  \n",
    "    \n",
    "#initialize a list to hold all the tweepy Tweets\n",
    "    alltweets = []\n",
    "\n",
    "#make initial request for most recent tweets (200 is the maximum allowed count)\n",
    "    new_tweets = api.user_timeline(screen_name = screen_name, count=200, include_rts=False, tweet_mode = 'extended')\n",
    "\n",
    "#save most recent tweets\n",
    "    alltweets.extend(new_tweets)\n",
    "\n",
    "#save the id of the oldest tweet less one\n",
    "    oldest = alltweets[-1].id - 1\n",
    "\n",
    "#keep grabbing tweets until there are no tweets left to grab\n",
    "    while len(new_tweets) > 0:\n",
    "        #print(\"collecting tweets before %s\" % (oldest))\n",
    "\n",
    "    #all subsiquent requests use the max_id param to prevent duplicates\n",
    "        new_tweets = api.user_timeline(screen_name = screen_name,count=200,max_id=oldest,tweet_mode = 'extended')\n",
    "\n",
    "    #save most recent tweets\n",
    "        alltweets.extend(new_tweets)\n",
    "\n",
    "    #update the id of the oldest tweet less one\n",
    "        oldest = alltweets[-1].id - 1\n",
    "\n",
    "        #print(\"...%s tweets downloaded so far\" % (len(alltweets)))\n",
    "        #print(\"##############################################################\")\n",
    "        #uncomment  below if want the tweets printout\n",
    "        #print(alltweets[0])\n",
    "\n",
    "#transform the tweepy tweets into a 2D array that will populate the csv\n",
    "\n",
    "    outtweets = []\n",
    "    for tweet in alltweets:\n",
    "        ## added the language requirement\n",
    "        if(len(tweet.full_text)>0) and tweet.lang == \"en\":\n",
    "            outtweets.append(tweet.full_text)\n",
    "        else:\n",
    "            outtweets.append('')\n",
    "    user_text = []\n",
    "    ## use \" outtweets[:200]\" below to only pull 200 tweets per user\n",
    "    for item in outtweets[:200]:\n",
    "        if item.startswith(\"RT\"):\n",
    "            continue\n",
    "        #take out URLS\n",
    "        replaced = re.sub('http\\S+','', item)\n",
    "        #replace all user tages with generic @user\n",
    "        replaced = re.sub('@\\S+','@user', replaced)\n",
    "        replaced = re.sub('\\\"\\S+\\\"','',replaced)\n",
    "        user_text.append(replaced)\n",
    "\n",
    "    return(user_text)"
   ]
  },
  {
   "cell_type": "markdown",
   "metadata": {},
   "source": [
    "### Regular loop (process up to 50 usernames)\n",
    " -  do not run code below if you have ## over 50 ## usernames in the df"
   ]
  },
  {
   "cell_type": "raw",
   "metadata": {},
   "source": [
    "tweet_text = []\n",
    "i = 0\n",
    "\n",
    "for i in range(len(usernames)):\n",
    "    try:\n",
    "        tweet_text.append(get_all_tweets(usernames[i]))\n",
    "    except:\n",
    "        i = i + 1\n",
    "        tweet_text.append('NA')\n",
    "    print(i)\n",
    "    print(tweet_text[i][0])"
   ]
  },
  {
   "cell_type": "code",
   "execution_count": 79,
   "metadata": {
    "scrolled": true
   },
   "outputs": [
    {
     "name": "stdout",
     "output_type": "stream",
     "text": [
      "['wice_sifted', 'itukaushal2', 'Onelemononelime', 'lapittenger', 'EntpReally', 'waitingouttrump', 'kuzmatech', 'TessasRaeofSun', 'Colleen_Kellogg', 'alnote', 'idagreat', 'alnote', 'martisoffline', 'aynette_daneen', 'chan7mra', 'Engineer_Moe', 'SoniaDoubleG', '2dancingpandas', 'HZRZHRDN', 'DarkSisterHive', 'LejindaryWriter', 'absolutment', 'TheosElizabeth', 'JeanineComstock', 'JeanineComstock', 'JeanineComstock', 'CogFun', 'JackiCanYouNot', 'BaruahDristi', 'scottlee', 'ryeowooklia', 'RaiderUte', 'dwarrilow2002', 'JennaBolmer', '_xxypanji', 'foxyladyriley', 'Chiebuniem_', 'ChrisKnoblaugh', 'RasheedaWilsonX', 'Yinyang0504', 'mb_times', 'tencity_127', 'RenMcFly', 'practiceswrong', 'AnnArborForPete', 'Starlaxoxo', 'happycat1231', 'Chris66338556', 'BadiaNasr', 'Araigumedra', 'cra_dreamer', 'Colleen_Kellogg', 'furkankarayel', 'namshesus', 'CateHawekotte', 'CrazedJust', 'NnTeDe', 'ruthestherpark', 'rocknmellowMBD', 'christianthe2', 'missourimelanin', 'sugauwuara', 'mrmaxnorthman', 'CrazedJust', 'gwarbat', 'beauty_jasmarie', 'wills_account', 'atticusTheWise', 'eandertail', 'sWired', 'JakePer71100434', 'jjphoenix334']\n"
     ]
    }
   ],
   "source": [
    "print(usernames)"
   ]
  },
  {
   "cell_type": "code",
   "execution_count": 42,
   "metadata": {
    "scrolled": true
   },
   "outputs": [
    {
     "data": {
      "text/plain": [
       "72"
      ]
     },
     "execution_count": 42,
     "metadata": {},
     "output_type": "execute_result"
    }
   ],
   "source": [
    "len(usernames)"
   ]
  },
  {
   "cell_type": "markdown",
   "metadata": {},
   "source": [
    "### Extended loop:\n",
    " - This is how to collect tweets (200 per user) for more than 50 users.\n",
    "     -  divide users into equal in size batches, for example , 175 users will be processed with 3 batches (50*3) plus other 25 users could be process as \"regular loop\"\n",
    "     - also can divide 175 into 7 batches each 25 and use extended loop below\n",
    "     "
   ]
  },
  {
   "cell_type": "code",
   "execution_count": 43,
   "metadata": {
    "scrolled": false
   },
   "outputs": [
    {
     "name": "stdout",
     "output_type": "stream",
     "text": [
      "first user for batch 1: wice_sifted\n",
      "LAST user for batch 1: foxyladyriley\n",
      "######\n",
      "first user for batch 2: Chiebuniem_\n",
      "first user for batch 2: jjphoenix334\n",
      "######\n",
      "first user all usernames list: wice_sifted\n",
      "LAST user all usernames list: jjphoenix334\n",
      "full list length 72\n"
     ]
    }
   ],
   "source": [
    "### Here is how extended loop is done for 72 users:\n",
    "batch = 36\n",
    "u1 = usernames[0:1*batch]\n",
    "print('first user for batch 1:',u1[0])\n",
    "print('LAST user for batch 1:',u1[-1])\n",
    "print('######')\n",
    "u2 = usernames[1*batch:2*batch]\n",
    "print('first user for batch 2:',u2[0])\n",
    "print('first user for batch 2:',u2[-1])\n",
    "\n",
    "print('######')\n",
    "\n",
    "\n",
    "\n",
    "print('first user all usernames list:',usernames[0])\n",
    "\n",
    "print('LAST user all usernames list:',usernames[-1])\n",
    "\n",
    "print('full list length', len(u1+u2))"
   ]
  },
  {
   "cell_type": "markdown",
   "metadata": {},
   "source": [
    "### Collecting tweets from 72 users at once."
   ]
  },
  {
   "cell_type": "code",
   "execution_count": 44,
   "metadata": {
    "scrolled": true
   },
   "outputs": [
    {
     "name": "stdout",
     "output_type": "stream",
     "text": [
      "processing batch 0\n",
      "0\n",
      "collected: 2 \n",
      "\n",
      "1\n",
      "collected: 2 \n",
      "\n",
      "2\n",
      "collected: 197 \n",
      "\n",
      "3\n",
      "collected: 199 \n",
      "\n",
      "4\n",
      "collected: 200 \n",
      "\n",
      "5\n",
      "collected: 198 \n",
      "\n",
      "6\n",
      "collected: 191 \n",
      "\n",
      "7\n",
      "collected: 174 \n",
      "\n",
      "8\n",
      "collected: 200 \n",
      "\n",
      "9\n",
      "collected: 26 \n",
      "\n",
      "10\n",
      "collected: 2 \n",
      "\n",
      "11\n",
      "collected: 26 \n",
      "\n",
      "12\n",
      "collected: 2 \n",
      "\n",
      "13\n",
      "collected: 2 \n",
      "\n",
      "14\n",
      "collected: 187 \n",
      "\n",
      "15\n",
      "collected: 200 \n",
      "\n",
      "16\n",
      "collected: 197 \n",
      "\n",
      "17\n",
      "collected: 197 \n",
      "\n",
      "18\n",
      "collected: 117 \n",
      "\n",
      "19\n",
      "collected: 200 \n",
      "\n",
      "20\n",
      "collected: 179 \n",
      "\n",
      "21\n",
      "collected: 191 \n",
      "\n",
      "22\n",
      "collected: 154 \n",
      "\n",
      "23\n",
      "collected: 37 \n",
      "\n",
      "24\n",
      "collected: 37 \n",
      "\n",
      "25\n",
      "collected: 37 \n",
      "\n",
      "26\n",
      "collected: 198 \n",
      "\n",
      "27\n",
      "collected: 198 \n",
      "\n",
      "28\n",
      "collected: 177 \n",
      "\n",
      "29\n",
      "collected: 198 \n",
      "\n",
      "30\n",
      "collected: 175 \n",
      "\n",
      "31\n",
      "collected: 188 \n",
      "\n",
      "32\n",
      "collected: 200 \n",
      "\n",
      "33\n",
      "collected: 200 \n",
      "\n",
      "34\n",
      "collected: 182 \n",
      "\n",
      "35\n",
      "collected: 181 \n",
      "\n",
      "processing batch 1\n",
      "0\n",
      "collected: 187 \n",
      "\n",
      "1\n",
      "collected: 200 \n",
      "\n",
      "2\n",
      "collected: 180 \n",
      "\n",
      "3\n",
      "collected: 195 \n",
      "\n",
      "4\n",
      "collected: 200 \n",
      "\n",
      "5\n",
      "collected: 183 \n",
      "\n",
      "6\n",
      "collected: 200 \n",
      "\n",
      "7\n",
      "collected: 198 \n",
      "\n",
      "8\n",
      "collected: 138 \n",
      "\n",
      "9\n",
      "collected: 200 \n",
      "\n",
      "10\n",
      "collected: 200 \n",
      "\n",
      "11\n",
      "collected: 200 \n",
      "\n",
      "12\n",
      "collected: 47 \n",
      "\n",
      "13\n",
      "collected: 141 \n",
      "\n",
      "14\n",
      "collected: 191 \n",
      "\n",
      "15\n",
      "collected: 200 \n",
      "\n",
      "16\n",
      "collected: 162 \n",
      "\n",
      "17\n",
      "collected: 124 \n",
      "\n",
      "18\n",
      "collected: 200 \n",
      "\n",
      "19\n",
      "collected: 198 \n",
      "\n",
      "20\n",
      "collected: 195 \n",
      "\n",
      "21\n",
      "collected: 199 \n",
      "\n",
      "22\n",
      "collected: 24 \n",
      "\n",
      "23\n",
      "collected: 199 \n",
      "\n",
      "24\n",
      "collected: 175 \n",
      "\n",
      "25\n",
      "collected: 145 \n",
      "\n",
      "26\n",
      "collected: 181 \n",
      "\n",
      "27\n",
      "collected: 198 \n",
      "\n",
      "28\n",
      "collected: 200 \n",
      "\n",
      "29\n",
      "collected: 195 \n",
      "\n",
      "30\n",
      "collected: 198 \n",
      "\n",
      "31\n",
      "collected: 2 \n",
      "\n",
      "32\n",
      "collected: 2 \n",
      "\n",
      "33\n",
      "collected: 43 \n",
      "\n",
      "34\n",
      "collected: 200 \n",
      "\n",
      "35\n",
      "collected: 148 \n",
      "\n"
     ]
    }
   ],
   "source": [
    "\n",
    "tweet_text = []\n",
    "N = len(usernames)\n",
    "batch = 36\n",
    "num_batch = int(df.shape[0]/batch)\n",
    "#print(num_batch)\n",
    "N - num_batch*batch\n",
    "for m in range(num_batch):\n",
    "    print(\"processing batch\",m)\n",
    "    tw = []\n",
    "    u_names = usernames[m*batch:(m+1)*batch]\n",
    "    \n",
    "    \n",
    "    i = 0\n",
    "\n",
    "    for i in range(len(u_names)):\n",
    "        try:\n",
    "            tw.append(get_all_tweets(u_names[i]))\n",
    "        except:\n",
    "            #i = i + 1\n",
    "            tw.append('NA')\n",
    "        print(i)\n",
    "        print('collected:',len(tw[i]),'\\n')\n",
    "    \n",
    "    tweet_text = tweet_text + tw\n",
    "\n",
    "    "
   ]
  },
  {
   "cell_type": "markdown",
   "metadata": {},
   "source": [
    "### Here what it means \"Rate limit reached. Sleeping for: 520\"\n",
    "https://blog.twitter.com/en_us/a/2008/what-does-rate-limit-exceeded-mean-updated.html"
   ]
  },
  {
   "cell_type": "code",
   "execution_count": 84,
   "metadata": {},
   "outputs": [],
   "source": [
    "import time\n",
    "from tqdm import tqdm "
   ]
  },
  {
   "cell_type": "code",
   "execution_count": 45,
   "metadata": {
    "scrolled": false
   },
   "outputs": [
    {
     "data": {
      "text/plain": [
       "72"
      ]
     },
     "execution_count": 45,
     "metadata": {},
     "output_type": "execute_result"
    }
   ],
   "source": [
    "### Check how many users's tweets were collected with extended loop\n",
    "len(tweet_text)"
   ]
  },
  {
   "cell_type": "code",
   "execution_count": 47,
   "metadata": {},
   "outputs": [
    {
     "name": "stdout",
     "output_type": "stream",
     "text": [
      "72\n",
      "72\n"
     ]
    }
   ],
   "source": [
    "print(len(tweet_text))\n",
    "print(len(usernames))"
   ]
  },
  {
   "cell_type": "code",
   "execution_count": 48,
   "metadata": {
    "scrolled": true
   },
   "outputs": [
    {
     "name": "stdout",
     "output_type": "stream",
     "text": [
      "<class 'list'>\n"
     ]
    }
   ],
   "source": [
    "print(type(tweet_text))"
   ]
  },
  {
   "cell_type": "code",
   "execution_count": 81,
   "metadata": {},
   "outputs": [],
   "source": [
    "df['tweets'] = tweet_text[0:72]"
   ]
  },
  {
   "cell_type": "code",
   "execution_count": 84,
   "metadata": {},
   "outputs": [
    {
     "data": {
      "text/html": [
       "<div>\n",
       "<style scoped>\n",
       "    .dataframe tbody tr th:only-of-type {\n",
       "        vertical-align: middle;\n",
       "    }\n",
       "\n",
       "    .dataframe tbody tr th {\n",
       "        vertical-align: top;\n",
       "    }\n",
       "\n",
       "    .dataframe thead th {\n",
       "        text-align: right;\n",
       "    }\n",
       "</style>\n",
       "<table border=\"1\" class=\"dataframe\">\n",
       "  <thead>\n",
       "    <tr style=\"text-align: right;\">\n",
       "      <th></th>\n",
       "      <th>Personality</th>\n",
       "      <th>username</th>\n",
       "      <th>user_id</th>\n",
       "      <th>tweets</th>\n",
       "      <th>followers_count</th>\n",
       "      <th>image</th>\n",
       "    </tr>\n",
       "  </thead>\n",
       "  <tbody>\n",
       "    <tr>\n",
       "      <th>0</th>\n",
       "      <td>estj</td>\n",
       "      <td>wice_sifted</td>\n",
       "      <td>NA</td>\n",
       "      <td>NA</td>\n",
       "      <td>592</td>\n",
       "      <td>http://pbs.twimg.com/profile_images/9887483200...</td>\n",
       "    </tr>\n",
       "    <tr>\n",
       "      <th>1</th>\n",
       "      <td>estj</td>\n",
       "      <td>itukaushal2</td>\n",
       "      <td>NA</td>\n",
       "      <td>NA</td>\n",
       "      <td>551</td>\n",
       "      <td>http://pbs.twimg.com/profile_images/1002020778...</td>\n",
       "    </tr>\n",
       "    <tr>\n",
       "      <th>2</th>\n",
       "      <td>enfj</td>\n",
       "      <td>Onelemononelime</td>\n",
       "      <td>1134586277561610240</td>\n",
       "      <td>[Modern Horizons Draft #14 , , Squid Ink Pasta...</td>\n",
       "      <td>118</td>\n",
       "      <td>http://pbs.twimg.com/profile_images/1134594773...</td>\n",
       "    </tr>\n",
       "    <tr>\n",
       "      <th>3</th>\n",
       "      <td>enfj</td>\n",
       "      <td>lapittenger</td>\n",
       "      <td>81026888</td>\n",
       "      <td>[@user WHAT HOW COULD THEY DO THIS TO AMAZON, ...</td>\n",
       "      <td>1635</td>\n",
       "      <td>http://pbs.twimg.com/profile_images/1133177639...</td>\n",
       "    </tr>\n",
       "    <tr>\n",
       "      <th>4</th>\n",
       "      <td>entp</td>\n",
       "      <td>EntpReally</td>\n",
       "      <td>1044255771335315458</td>\n",
       "      <td>[I am an ENTP and I enjoy slight turbulence he...</td>\n",
       "      <td>134</td>\n",
       "      <td>http://pbs.twimg.com/profile_images/1044256101...</td>\n",
       "    </tr>\n",
       "  </tbody>\n",
       "</table>\n",
       "</div>"
      ],
      "text/plain": [
       "  Personality         username              user_id  \\\n",
       "0        estj      wice_sifted                   NA   \n",
       "1        estj      itukaushal2                   NA   \n",
       "2        enfj  Onelemononelime  1134586277561610240   \n",
       "3        enfj      lapittenger             81026888   \n",
       "4        entp       EntpReally  1044255771335315458   \n",
       "\n",
       "                                              tweets  followers_count  \\\n",
       "0                                                 NA              592   \n",
       "1                                                 NA              551   \n",
       "2  [Modern Horizons Draft #14 , , Squid Ink Pasta...              118   \n",
       "3  [@user WHAT HOW COULD THEY DO THIS TO AMAZON, ...             1635   \n",
       "4  [I am an ENTP and I enjoy slight turbulence he...              134   \n",
       "\n",
       "                                               image  \n",
       "0  http://pbs.twimg.com/profile_images/9887483200...  \n",
       "1  http://pbs.twimg.com/profile_images/1002020778...  \n",
       "2  http://pbs.twimg.com/profile_images/1134594773...  \n",
       "3  http://pbs.twimg.com/profile_images/1133177639...  \n",
       "4  http://pbs.twimg.com/profile_images/1044256101...  "
      ]
     },
     "execution_count": 84,
     "metadata": {},
     "output_type": "execute_result"
    }
   ],
   "source": [
    "df.head()"
   ]
  },
  {
   "cell_type": "markdown",
   "metadata": {},
   "source": [
    "# fix the image URLs"
   ]
  },
  {
   "cell_type": "code",
   "execution_count": 85,
   "metadata": {},
   "outputs": [
    {
     "name": "stdout",
     "output_type": "stream",
     "text": [
      "['http://pbs.twimg.com/profile_images/988748320079253504/RqjCkyK8_normal.jpg', 'http://pbs.twimg.com/profile_images/1002020778701869056/_P-hPfaq_normal.jpg', 'http://pbs.twimg.com/profile_images/1134594773640200194/PAMxUEdA_normal.png', 'http://pbs.twimg.com/profile_images/1133177639831769089/py3CYvZ2_normal.jpg', 'http://pbs.twimg.com/profile_images/1044256101443784705/Nq8yk5gy_normal.jpg']\n"
     ]
    }
   ],
   "source": [
    "images = list(df['image'])\n",
    "print(images[0:5])"
   ]
  },
  {
   "cell_type": "code",
   "execution_count": 86,
   "metadata": {},
   "outputs": [
    {
     "name": "stdout",
     "output_type": "stream",
     "text": [
      "<class 'str'>\n"
     ]
    }
   ],
   "source": [
    "print(type(images[0]))"
   ]
  },
  {
   "cell_type": "code",
   "execution_count": 87,
   "metadata": {},
   "outputs": [],
   "source": [
    "for i in range(len(images)):\n",
    "    images[i] = images[i].replace('_normal', '')"
   ]
  },
  {
   "cell_type": "code",
   "execution_count": 88,
   "metadata": {},
   "outputs": [
    {
     "name": "stdout",
     "output_type": "stream",
     "text": [
      "['http://pbs.twimg.com/profile_images/988748320079253504/RqjCkyK8.jpg', 'http://pbs.twimg.com/profile_images/1002020778701869056/_P-hPfaq.jpg', 'http://pbs.twimg.com/profile_images/1134594773640200194/PAMxUEdA.png', 'http://pbs.twimg.com/profile_images/1133177639831769089/py3CYvZ2.jpg', 'http://pbs.twimg.com/profile_images/1044256101443784705/Nq8yk5gy.jpg']\n"
     ]
    }
   ],
   "source": [
    "print(images[0:5])"
   ]
  },
  {
   "cell_type": "code",
   "execution_count": 89,
   "metadata": {},
   "outputs": [],
   "source": [
    "df['image'] = images\n"
   ]
  },
  {
   "cell_type": "code",
   "execution_count": 90,
   "metadata": {},
   "outputs": [
    {
     "data": {
      "text/html": [
       "<div>\n",
       "<style scoped>\n",
       "    .dataframe tbody tr th:only-of-type {\n",
       "        vertical-align: middle;\n",
       "    }\n",
       "\n",
       "    .dataframe tbody tr th {\n",
       "        vertical-align: top;\n",
       "    }\n",
       "\n",
       "    .dataframe thead th {\n",
       "        text-align: right;\n",
       "    }\n",
       "</style>\n",
       "<table border=\"1\" class=\"dataframe\">\n",
       "  <thead>\n",
       "    <tr style=\"text-align: right;\">\n",
       "      <th></th>\n",
       "      <th>Personality</th>\n",
       "      <th>username</th>\n",
       "      <th>user_id</th>\n",
       "      <th>tweets</th>\n",
       "      <th>followers_count</th>\n",
       "      <th>image</th>\n",
       "    </tr>\n",
       "  </thead>\n",
       "  <tbody>\n",
       "    <tr>\n",
       "      <th>0</th>\n",
       "      <td>estj</td>\n",
       "      <td>wice_sifted</td>\n",
       "      <td>NA</td>\n",
       "      <td>NA</td>\n",
       "      <td>592</td>\n",
       "      <td>http://pbs.twimg.com/profile_images/9887483200...</td>\n",
       "    </tr>\n",
       "    <tr>\n",
       "      <th>1</th>\n",
       "      <td>estj</td>\n",
       "      <td>itukaushal2</td>\n",
       "      <td>NA</td>\n",
       "      <td>NA</td>\n",
       "      <td>551</td>\n",
       "      <td>http://pbs.twimg.com/profile_images/1002020778...</td>\n",
       "    </tr>\n",
       "    <tr>\n",
       "      <th>2</th>\n",
       "      <td>enfj</td>\n",
       "      <td>Onelemononelime</td>\n",
       "      <td>1134586277561610240</td>\n",
       "      <td>[Modern Horizons Draft #14 , , Squid Ink Pasta...</td>\n",
       "      <td>118</td>\n",
       "      <td>http://pbs.twimg.com/profile_images/1134594773...</td>\n",
       "    </tr>\n",
       "    <tr>\n",
       "      <th>3</th>\n",
       "      <td>enfj</td>\n",
       "      <td>lapittenger</td>\n",
       "      <td>81026888</td>\n",
       "      <td>[@user WHAT HOW COULD THEY DO THIS TO AMAZON, ...</td>\n",
       "      <td>1635</td>\n",
       "      <td>http://pbs.twimg.com/profile_images/1133177639...</td>\n",
       "    </tr>\n",
       "    <tr>\n",
       "      <th>4</th>\n",
       "      <td>entp</td>\n",
       "      <td>EntpReally</td>\n",
       "      <td>1044255771335315458</td>\n",
       "      <td>[I am an ENTP and I enjoy slight turbulence he...</td>\n",
       "      <td>134</td>\n",
       "      <td>http://pbs.twimg.com/profile_images/1044256101...</td>\n",
       "    </tr>\n",
       "  </tbody>\n",
       "</table>\n",
       "</div>"
      ],
      "text/plain": [
       "  Personality         username              user_id  \\\n",
       "0        estj      wice_sifted                   NA   \n",
       "1        estj      itukaushal2                   NA   \n",
       "2        enfj  Onelemononelime  1134586277561610240   \n",
       "3        enfj      lapittenger             81026888   \n",
       "4        entp       EntpReally  1044255771335315458   \n",
       "\n",
       "                                              tweets  followers_count  \\\n",
       "0                                                 NA              592   \n",
       "1                                                 NA              551   \n",
       "2  [Modern Horizons Draft #14 , , Squid Ink Pasta...              118   \n",
       "3  [@user WHAT HOW COULD THEY DO THIS TO AMAZON, ...             1635   \n",
       "4  [I am an ENTP and I enjoy slight turbulence he...              134   \n",
       "\n",
       "                                               image  \n",
       "0  http://pbs.twimg.com/profile_images/9887483200...  \n",
       "1  http://pbs.twimg.com/profile_images/1002020778...  \n",
       "2  http://pbs.twimg.com/profile_images/1134594773...  \n",
       "3  http://pbs.twimg.com/profile_images/1133177639...  \n",
       "4  http://pbs.twimg.com/profile_images/1044256101...  "
      ]
     },
     "execution_count": 90,
     "metadata": {},
     "output_type": "execute_result"
    }
   ],
   "source": [
    "df.head()"
   ]
  },
  {
   "cell_type": "code",
   "execution_count": 91,
   "metadata": {
    "scrolled": true
   },
   "outputs": [
    {
     "data": {
      "text/plain": [
       "(72, 6)"
      ]
     },
     "execution_count": 91,
     "metadata": {},
     "output_type": "execute_result"
    }
   ],
   "source": [
    "df.shape"
   ]
  },
  {
   "cell_type": "code",
   "execution_count": 94,
   "metadata": {},
   "outputs": [
    {
     "name": "stdout",
     "output_type": "stream",
     "text": [
      "number of tweets from first user : 191\n"
     ]
    }
   ],
   "source": [
    "print('number of tweets from first user :',len(df.iloc[6,3]))"
   ]
  },
  {
   "cell_type": "markdown",
   "metadata": {},
   "source": [
    "# export to a CSV file"
   ]
  },
  {
   "cell_type": "code",
   "execution_count": 95,
   "metadata": {},
   "outputs": [
    {
     "name": "stdout",
     "output_type": "stream",
     "text": [
      "/Users/Natallia/Documents/R/W210_capstone/Project/personality/Natallia/CSV_Jul_1_7\r\n"
     ]
    }
   ],
   "source": [
    "!pwd"
   ]
  },
  {
   "cell_type": "code",
   "execution_count": null,
   "metadata": {},
   "outputs": [],
   "source": []
  },
  {
   "cell_type": "code",
   "execution_count": 102,
   "metadata": {},
   "outputs": [],
   "source": [
    "personalities_df = df.to_csv ('personalities_NS_Jul_1_7.csv', index = None, header=True)\n"
   ]
  },
  {
   "cell_type": "code",
   "execution_count": 103,
   "metadata": {
    "scrolled": false
   },
   "outputs": [
    {
     "name": "stdout",
     "output_type": "stream",
     "text": [
      "/Users/Natallia/Documents/R/W210_capstone/Project/personality\r\n"
     ]
    }
   ],
   "source": [
    "!pwd\n"
   ]
  },
  {
   "cell_type": "code",
   "execution_count": 97,
   "metadata": {},
   "outputs": [],
   "source": [
    "os.chdir('/Users/Natallia/Documents/R/W210_capstone/Project/personality/Natallia')"
   ]
  },
  {
   "cell_type": "code",
   "execution_count": 11,
   "metadata": {},
   "outputs": [],
   "source": [
    "data_path1 = \"/Users/Natallia/Documents/R/W210_capstone/Project/personalities_FINAL.csv\""
   ]
  },
  {
   "cell_type": "code",
   "execution_count": 12,
   "metadata": {},
   "outputs": [],
   "source": [
    "df1 = pd.read_csv(data_path1)"
   ]
  },
  {
   "cell_type": "code",
   "execution_count": 13,
   "metadata": {},
   "outputs": [
    {
     "data": {
      "text/plain": [
       "(175, 6)"
      ]
     },
     "execution_count": 13,
     "metadata": {},
     "output_type": "execute_result"
    }
   ],
   "source": [
    "df1.shape"
   ]
  },
  {
   "cell_type": "code",
   "execution_count": 141,
   "metadata": {},
   "outputs": [
    {
     "data": {
      "text/html": [
       "<div>\n",
       "<style scoped>\n",
       "    .dataframe tbody tr th:only-of-type {\n",
       "        vertical-align: middle;\n",
       "    }\n",
       "\n",
       "    .dataframe tbody tr th {\n",
       "        vertical-align: top;\n",
       "    }\n",
       "\n",
       "    .dataframe thead th {\n",
       "        text-align: right;\n",
       "    }\n",
       "</style>\n",
       "<table border=\"1\" class=\"dataframe\">\n",
       "  <thead>\n",
       "    <tr style=\"text-align: right;\">\n",
       "      <th></th>\n",
       "      <th>Personality</th>\n",
       "      <th>username</th>\n",
       "      <th>user_id</th>\n",
       "      <th>tweets</th>\n",
       "      <th>followers_count</th>\n",
       "      <th>image</th>\n",
       "    </tr>\n",
       "  </thead>\n",
       "  <tbody>\n",
       "    <tr>\n",
       "      <th>0</th>\n",
       "      <td>enfj</td>\n",
       "      <td>pr3achlikeagirl</td>\n",
       "      <td>2.310891e+09</td>\n",
       "      <td>['God is on the move!', 'Stop telling God what...</td>\n",
       "      <td>67</td>\n",
       "      <td>http://pbs.twimg.com/profile_images/1090079036...</td>\n",
       "    </tr>\n",
       "    <tr>\n",
       "      <th>1</th>\n",
       "      <td>enfj</td>\n",
       "      <td>ChurchTherapist</td>\n",
       "      <td>8.606921e+08</td>\n",
       "      <td>['@user It describes anxious attachment as opp...</td>\n",
       "      <td>1841</td>\n",
       "      <td>http://pbs.twimg.com/profile_images/1033441323...</td>\n",
       "    </tr>\n",
       "    <tr>\n",
       "      <th>2</th>\n",
       "      <td>enfj</td>\n",
       "      <td>camperry21</td>\n",
       "      <td>2.653982e+07</td>\n",
       "      <td>[\"@user @user He ain't winning with the Clippe...</td>\n",
       "      <td>1240</td>\n",
       "      <td>http://pbs.twimg.com/profile_images/1078547897...</td>\n",
       "    </tr>\n",
       "    <tr>\n",
       "      <th>3</th>\n",
       "      <td>enfj</td>\n",
       "      <td>galaxiaskykloz</td>\n",
       "      <td>2.268542e+09</td>\n",
       "      <td>['does anyone remember poopreport dot com', '@...</td>\n",
       "      <td>2227</td>\n",
       "      <td>http://pbs.twimg.com/profile_images/1001856767...</td>\n",
       "    </tr>\n",
       "    <tr>\n",
       "      <th>4</th>\n",
       "      <td>enfj</td>\n",
       "      <td>sarahyoung_esq</td>\n",
       "      <td>1.090463e+18</td>\n",
       "      <td>['MeatPotatoesNBeans ', 'THE LITTLE BLEP TONGU...</td>\n",
       "      <td>76</td>\n",
       "      <td>http://pbs.twimg.com/profile_images/1090465009...</td>\n",
       "    </tr>\n",
       "  </tbody>\n",
       "</table>\n",
       "</div>"
      ],
      "text/plain": [
       "  Personality         username       user_id  \\\n",
       "0        enfj  pr3achlikeagirl  2.310891e+09   \n",
       "1        enfj  ChurchTherapist  8.606921e+08   \n",
       "2        enfj       camperry21  2.653982e+07   \n",
       "3        enfj   galaxiaskykloz  2.268542e+09   \n",
       "4        enfj   sarahyoung_esq  1.090463e+18   \n",
       "\n",
       "                                              tweets  followers_count  \\\n",
       "0  ['God is on the move!', 'Stop telling God what...               67   \n",
       "1  ['@user It describes anxious attachment as opp...             1841   \n",
       "2  [\"@user @user He ain't winning with the Clippe...             1240   \n",
       "3  ['does anyone remember poopreport dot com', '@...             2227   \n",
       "4  ['MeatPotatoesNBeans ', 'THE LITTLE BLEP TONGU...               76   \n",
       "\n",
       "                                               image  \n",
       "0  http://pbs.twimg.com/profile_images/1090079036...  \n",
       "1  http://pbs.twimg.com/profile_images/1033441323...  \n",
       "2  http://pbs.twimg.com/profile_images/1078547897...  \n",
       "3  http://pbs.twimg.com/profile_images/1001856767...  \n",
       "4  http://pbs.twimg.com/profile_images/1090465009...  "
      ]
     },
     "execution_count": 141,
     "metadata": {},
     "output_type": "execute_result"
    }
   ],
   "source": [
    "df1.head()"
   ]
  },
  {
   "cell_type": "code",
   "execution_count": 142,
   "metadata": {},
   "outputs": [],
   "source": [
    "#df1.iloc[0,3]"
   ]
  },
  {
   "cell_type": "code",
   "execution_count": 1,
   "metadata": {},
   "outputs": [],
   "source": [
    "data_path2 = \"/Users/Natallia/Documents/R/W210_capstone/Project/personality/Natallia/personalities_NS_Jul_1_7.csv\""
   ]
  },
  {
   "cell_type": "code",
   "execution_count": 5,
   "metadata": {},
   "outputs": [],
   "source": [
    "df2 = pd.read_csv(data_path2)"
   ]
  },
  {
   "cell_type": "code",
   "execution_count": 6,
   "metadata": {},
   "outputs": [
    {
     "data": {
      "text/plain": [
       "(72, 6)"
      ]
     },
     "execution_count": 6,
     "metadata": {},
     "output_type": "execute_result"
    }
   ],
   "source": [
    "df2.shape"
   ]
  },
  {
   "cell_type": "code",
   "execution_count": 8,
   "metadata": {},
   "outputs": [
    {
     "data": {
      "text/html": [
       "<div>\n",
       "<style scoped>\n",
       "    .dataframe tbody tr th:only-of-type {\n",
       "        vertical-align: middle;\n",
       "    }\n",
       "\n",
       "    .dataframe tbody tr th {\n",
       "        vertical-align: top;\n",
       "    }\n",
       "\n",
       "    .dataframe thead th {\n",
       "        text-align: right;\n",
       "    }\n",
       "</style>\n",
       "<table border=\"1\" class=\"dataframe\">\n",
       "  <thead>\n",
       "    <tr style=\"text-align: right;\">\n",
       "      <th></th>\n",
       "      <th>Personality</th>\n",
       "      <th>username</th>\n",
       "      <th>user_id</th>\n",
       "      <th>tweets</th>\n",
       "      <th>followers_count</th>\n",
       "      <th>image</th>\n",
       "    </tr>\n",
       "  </thead>\n",
       "  <tbody>\n",
       "    <tr>\n",
       "      <th>0</th>\n",
       "      <td>estj</td>\n",
       "      <td>wice_sifted</td>\n",
       "      <td>NaN</td>\n",
       "      <td>NaN</td>\n",
       "      <td>592</td>\n",
       "      <td>http://pbs.twimg.com/profile_images/9887483200...</td>\n",
       "    </tr>\n",
       "    <tr>\n",
       "      <th>1</th>\n",
       "      <td>estj</td>\n",
       "      <td>itukaushal2</td>\n",
       "      <td>NaN</td>\n",
       "      <td>NaN</td>\n",
       "      <td>551</td>\n",
       "      <td>http://pbs.twimg.com/profile_images/1002020778...</td>\n",
       "    </tr>\n",
       "    <tr>\n",
       "      <th>2</th>\n",
       "      <td>enfj</td>\n",
       "      <td>Onelemononelime</td>\n",
       "      <td>1.134586e+18</td>\n",
       "      <td>['Modern Horizons Draft #14 ', '', 'Squid Ink ...</td>\n",
       "      <td>118</td>\n",
       "      <td>http://pbs.twimg.com/profile_images/1134594773...</td>\n",
       "    </tr>\n",
       "    <tr>\n",
       "      <th>3</th>\n",
       "      <td>enfj</td>\n",
       "      <td>lapittenger</td>\n",
       "      <td>8.102689e+07</td>\n",
       "      <td>['@user WHAT HOW COULD THEY DO THIS TO AMAZON'...</td>\n",
       "      <td>1635</td>\n",
       "      <td>http://pbs.twimg.com/profile_images/1133177639...</td>\n",
       "    </tr>\n",
       "    <tr>\n",
       "      <th>4</th>\n",
       "      <td>entp</td>\n",
       "      <td>EntpReally</td>\n",
       "      <td>1.044256e+18</td>\n",
       "      <td>['I am an ENTP and I enjoy slight turbulence h...</td>\n",
       "      <td>134</td>\n",
       "      <td>http://pbs.twimg.com/profile_images/1044256101...</td>\n",
       "    </tr>\n",
       "  </tbody>\n",
       "</table>\n",
       "</div>"
      ],
      "text/plain": [
       "  Personality         username       user_id  \\\n",
       "0        estj      wice_sifted           NaN   \n",
       "1        estj      itukaushal2           NaN   \n",
       "2        enfj  Onelemononelime  1.134586e+18   \n",
       "3        enfj      lapittenger  8.102689e+07   \n",
       "4        entp       EntpReally  1.044256e+18   \n",
       "\n",
       "                                              tweets  followers_count  \\\n",
       "0                                                NaN              592   \n",
       "1                                                NaN              551   \n",
       "2  ['Modern Horizons Draft #14 ', '', 'Squid Ink ...              118   \n",
       "3  ['@user WHAT HOW COULD THEY DO THIS TO AMAZON'...             1635   \n",
       "4  ['I am an ENTP and I enjoy slight turbulence h...              134   \n",
       "\n",
       "                                               image  \n",
       "0  http://pbs.twimg.com/profile_images/9887483200...  \n",
       "1  http://pbs.twimg.com/profile_images/1002020778...  \n",
       "2  http://pbs.twimg.com/profile_images/1134594773...  \n",
       "3  http://pbs.twimg.com/profile_images/1133177639...  \n",
       "4  http://pbs.twimg.com/profile_images/1044256101...  "
      ]
     },
     "execution_count": 8,
     "metadata": {},
     "output_type": "execute_result"
    }
   ],
   "source": [
    "df2.head()"
   ]
  },
  {
   "cell_type": "code",
   "execution_count": 9,
   "metadata": {},
   "outputs": [
    {
     "data": {
      "text/plain": [
       "13750"
      ]
     },
     "execution_count": 9,
     "metadata": {},
     "output_type": "execute_result"
    }
   ],
   "source": [
    "len(df2.iloc[5,3])"
   ]
  },
  {
   "cell_type": "code",
   "execution_count": 15,
   "metadata": {},
   "outputs": [
    {
     "data": {
      "text/plain": [
       "(247, 6)"
      ]
     },
     "execution_count": 15,
     "metadata": {},
     "output_type": "execute_result"
    }
   ],
   "source": [
    "df_all = pd.concat([df1, df2], ignore_index = True)\n",
    "df_all.shape"
   ]
  },
  {
   "cell_type": "code",
   "execution_count": null,
   "metadata": {},
   "outputs": [],
   "source": [
    "personalities_FINAL_070819 = df_all.to_csv ('personalities_FINAL_070819.csv', index = None, header=True)"
   ]
  },
  {
   "cell_type": "code",
   "execution_count": null,
   "metadata": {},
   "outputs": [],
   "source": []
  }
 ],
 "metadata": {
  "kernelspec": {
   "display_name": "Python 3",
   "language": "python",
   "name": "python3"
  },
  "language_info": {
   "codemirror_mode": {
    "name": "ipython",
    "version": 3
   },
   "file_extension": ".py",
   "mimetype": "text/x-python",
   "name": "python",
   "nbconvert_exporter": "python",
   "pygments_lexer": "ipython3",
   "version": "3.6.8"
  }
 },
 "nbformat": 4,
 "nbformat_minor": 2
}
